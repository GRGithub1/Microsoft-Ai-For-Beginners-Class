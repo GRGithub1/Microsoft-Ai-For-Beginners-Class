{
 "cells": [
  {
   "cell_type": "markdown",
   "metadata": {},
   "source": [
    "# Kendi Çerçevemiz ile MNIST Rakam Sınıflandırması\n",
    "\n",
    "Lab Assignment from [AI for Beginners Curriculum](https://github.com/microsoft/ai-for-beginners).\n",
    "\n",
    "[Yeni Başlayanlar için YZ Müfredatı](https://github.com/microsoft/ai-for-beginners)'ndan Laboratuvar Ödevi.\n",
    "\n",
    "### Veri Kümesini Okuma\n",
    "\n",
    "Bu kod, veri kümesini internetteki depodan indirir. YZ Müfredat deposunun `/data` dizininden veri kümesini elle de kopyalayabilirsiniz."
   ]
  },
  {
   "cell_type": "code",
   "execution_count": 4,
   "metadata": {
    "tags": []
   },
   "outputs": [
    {
     "name": "stderr",
     "output_type": "stream",
     "text": [
      "  % Total    % Received % Xferd  Average Speed   Time    Time     Time  Current\n",
      "                                 Dload  Upload   Total   Spent    Left  Speed\n",
      "\n",
      "  0     0    0     0    0     0      0      0 --:--:-- --:--:-- --:--:--     0\n",
      "100  9.9M  100  9.9M    0     0   9.9M      0  0:00:01 --:--:--  0:00:01 15.8M\n"
     ]
    }
   ],
   "source": [
    "!rm *.pkl\n",
    "!wget https://raw.githubusercontent.com/microsoft/AI-For-Beginners/main/data/mnist.pkl.gz\n",
    "!gzip -d mnist.pkl.gz"
   ]
  },
  {
   "cell_type": "code",
   "execution_count": 2,
   "metadata": {},
   "outputs": [],
   "source": [
    "import pickle\n",
    "with open('mnist.pkl', 'rb') as mnist_pickle:\n",
    "    train_set, validation_set, test_set  = pickle.load(mnist_pickle, encoding='bytes')\n",
    "\n",
    "MNIST = {}\n",
    "MNIST['Train'] = {}\n",
    "MNIST['Validation'] = {}\n",
    "MNIST['Test'] = {} \n",
    "MNIST['Train']['Features'], MNIST['Train']['Labels'] = train_set[0], train_set[1]\n",
    "MNIST['Validation']['Features'], MNIST['Validation']['Labels'] = validation_set[0], validation_set[1]\n",
    "MNIST['Test']['Features'], MNIST['Test']['Labels'] = test_set[0], test_set[1]"
   ]
  },
  {
   "cell_type": "code",
   "execution_count": 3,
   "metadata": {},
   "outputs": [],
   "source": [
    "labels = MNIST['Train']['Labels']\n",
    "data = MNIST['Train']['Features']"
   ]
  },
  {
   "cell_type": "markdown",
   "metadata": {},
   "source": [
    "Sahip olduğumuz verilerin şeklinin ne olduğunu görelim:"
   ]
  },
  {
   "cell_type": "code",
   "execution_count": 4,
   "metadata": {},
   "outputs": [
    {
     "data": {
      "text/plain": [
       "(50000, 784)"
      ]
     },
     "execution_count": 4,
     "metadata": {},
     "output_type": "execute_result"
    }
   ],
   "source": [
    "data.shape"
   ]
  },
  {
   "cell_type": "markdown",
   "metadata": {},
   "source": [
    "### Verileri Bölme\n",
    "\n",
    "Verileri eğitim ve test veri kümesi arasında bölmek için Scikit Learn'ü kullanacağız:"
   ]
  },
  {
   "cell_type": "code",
   "execution_count": 6,
   "metadata": {},
   "outputs": [
    {
     "name": "stdout",
     "output_type": "stream",
     "text": [
      "Eğitim örnekleri: 40000, test örnekleri: 10000\n"
     ]
    }
   ],
   "source": [
    "from sklearn.model_selection import train_test_split\n",
    "\n",
    "features_train, features_test, labels_train, labels_test = train_test_split(data,labels,test_size=0.2)\n",
    "\n",
    "print(f\"Eğitim örnekleri: {len(features_train)}, test örnekleri: {len(features_test)}\")"
   ]
  },
  {
   "cell_type": "markdown",
   "metadata": {},
   "source": [
    "### Talimatlar\n",
    "\n",
    "1. Dersten çerçeve kodunu alın ve bu not defterine veya (hatta daha iyisi) ayrı bir Python modülüne yapıştırın.\n",
    "1. Eğitim sırasında eğitim ve geçerleme doğruluğunu gözlemleyerek tek katmanlı algılayıcıyı tanımlayın ve eğitin.\n",
    "1. Aşırı öğrenme olup olmadığını anlamaya çalışın ve doğruluğu artırmak için katman parametrelerini ayarlayın.\n",
    "1. 2 ve 3 katmanlı algılayıcılar için önceki adımları tekrarlayın. Katmanlar arasında farklı etkinleştirme işlevleri denemeyi deneyin.\n",
    "1. Aşağıdaki soruları yanıtlamaya çalışın:\n",
    "     - Katmanlar arası etkinleştirme işlevi ağ performansını etkiler mi?\n",
    "     - Bu görev için 2 veya 3 katmanlı ağa ihtiyacımız var mı?\n",
    "     - Ağı eğitirken herhangi bir sorun yaşadınız mı? Özellikle katman sayısı arttıkça.\n",
    "     - Eğitim sırasında ağın ağırlıkları nasıl davranıyor? İlişkiyi anlamak için dönem sayısına karşı ağırlıkların maksimum mutlak değerini çizebilirsiniz."
   ]
  }
 ],
 "metadata": {
  "kernelspec": {
   "display_name": "Python 3 (ipykernel)",
   "language": "python",
   "name": "python3"
  },
  "language_info": {
   "codemirror_mode": {
    "name": "ipython",
    "version": 3
   },
   "file_extension": ".py",
   "mimetype": "text/x-python",
   "name": "python",
   "nbconvert_exporter": "python",
   "pygments_lexer": "ipython3",
   "version": "3.8.13"
  }
 },
 "nbformat": 4,
 "nbformat_minor": 4
}
