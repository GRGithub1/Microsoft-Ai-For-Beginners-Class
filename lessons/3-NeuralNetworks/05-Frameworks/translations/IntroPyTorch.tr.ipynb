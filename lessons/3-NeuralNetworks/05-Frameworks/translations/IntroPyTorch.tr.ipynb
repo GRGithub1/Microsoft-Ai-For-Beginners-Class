{
 "cells": [
  {
   "cell_type": "markdown",
   "metadata": {
    "id": "En2vX4FuwHlu"
   },
   "source": [
    "## PyTorch'a Giriş\n",
    "\n",
    "> Bu not defteri, [Yeni Başlayanlar için YZ Müfredatı](http://github.com/microsoft/ai-for-beginners)'nın bir parçasıdır. Eksiksiz öğrenme materyalleri kümesi için kaynak deposunu ziyaret edin.\n",
    "\n",
    "### Sinir Çerçeveleri\n",
    "\n",
    "Sinir ağlarını eğitmek için şunlara ihtiyacınız olduğunu öğrendik:\n",
    "* Matrisleri hızla çarpın (tensörler).\n",
    "* Gradyan inişi optimizasyonunu gerçekleştirmek için gradyanları hesaplayın.\n",
    "\n",
    "Sinir ağı çerçeveleri şunları yapmanıza izin verir:\n",
    "* Mevcut herhangi bir hesaplamada, CPU veya GPU'da ve hatta TPU'da, tensörlerle çalışın.\n",
    "* Gradyanları otomatik olarak hesaplayın (tüm yerleşik tensör işlevleri için açıkça programlanmışlardır).\n",
    "\n",
    "İsteğe bağlı olarak:\n",
    "* Sinir Ağı yapıcısı / daha üst seviye API (ağı bir dizi katman olarak tanımlamak)\n",
    "* Basit eğitim işlevleri (Scikit Learn'de olduğu gibi `fit`)\n",
    "* Gradyan inişine ek olarak bir dizi optimizasyon algoritması\n",
    "* Veri işleme soyutlamaları (bu ideal olarak GPU'da da çalışır)"
   ]
  },
  {
   "cell_type": "markdown",
   "metadata": {
    "id": "8cACQoFMwHl3"
   },
   "source": [
    "### En Popüler Çerçeveler\n",
    "\n",
    "* Tensorflow 1.x - yaygın olarak kullanılabilen ilk çerçevedir (Google). Statik hesaplama çizgesini tanımlamaya, GPU'ya göndermeye ve açıkça değerlendirmeye izin verir.\n",
    "* PyTorch - Facebook'tan popülaritesi artan bir çerçevedir.\n",
    "* Keras - sinir ağlarını (Francois Chollet) kullanarak birleştirmek ve basitleştirmek için Tensorflow/PyTorch'un üzerüne daha üst seviye API'dir.\n",
    "* Tensorflow 2.x + Keras - **dinamik hesaplama çizgesini** destekleyen ve numpy'ye (ve PyTorch) çok benzer tensör işlemleri gerçekleştirmeye olanak tanıyan tümleşik Keras işlevselliğine sahip Tensorflow'un yeni sürümüdür.\n",
    "\n",
    "Bu Defterde PyTorch kullanmayı öğreneceğiz. PyTorch'un en son sürümünün kurulu olduğundan emin olmanız gerekir - bunu yapmak için [sitelerindeki talimatları](https://pytorch.org/get-started/locally/) izleyin. Normalde bunu yapmak bu kadar basittir\n",
    "```\n",
    "pip install torch torchvision\n",
    "```\n",
    "veya\n",
    "```\n",
    "conda install pytorch -c pytorch\n",
    "```"
   ]
  },
  {
   "cell_type": "code",
   "execution_count": 1,
   "metadata": {
    "colab": {
     "base_uri": "https://localhost:8080/",
     "height": 35
    },
    "id": "xwqVx9-bwHl3",
    "outputId": "38564a63-0567-4406-ee1a-1d3618f27351",
    "tags": []
   },
   "outputs": [
    {
     "data": {
      "text/plain": [
       "'1.11.0'"
      ]
     },
     "execution_count": 1,
     "metadata": {},
     "output_type": "execute_result"
    }
   ],
   "source": [
    "import torch\n",
    "torch.__version__"
   ]
  },
  {
   "cell_type": "markdown",
   "metadata": {
    "id": "6tp2xGV7wHl4"
   },
   "source": [
    "## Temel Kavramlar: Tensör\n",
    "\n",
    "**Tensör** çok boyutlu bir dizidir. Farklı veri türlerini temsil etmek için tensör kullanmak çok uygundur:\n",
    "* 400x400 - siyah beyaz resim\n",
    "* 400x400x3 - renkli resim \n",
    "* 16x400x400x3 - 16 adet renkli resimden minigrup\n",
    "* 25x400x400x3 - 25 fps'lik videonun bir saniyesi\n",
    "* 8x25x400x400x3 - 8 adet 1 saniyelik videodan minigrup"
   ]
  },
  {
   "cell_type": "markdown",
   "metadata": {
    "id": "qG2bsaR7wHl4"
   },
   "source": [
    "### Basit Tensörler\n",
    "\n",
    "Np dizilimleri listelerinden kolayca basit tensörler oluşturabilir veya rastgele üretebilirsiniz:"
   ]
  },
  {
   "cell_type": "code",
   "execution_count": 2,
   "metadata": {
    "colab": {
     "base_uri": "https://localhost:8080/"
    },
    "id": "ybpnk08HwHl4",
    "outputId": "54e2c89b-b373-4389-b285-49b0510be931"
   },
   "outputs": [
    {
     "name": "stdout",
     "output_type": "stream",
     "text": [
      "tensor([[1, 2],\n",
      "        [3, 4]])\n",
      "tensor([[ 0.9740,  1.1339,  0.9433],\n",
      "        [-0.6964, -1.0682, -0.3335],\n",
      "        [-0.5078,  0.4401,  0.3818],\n",
      "        [-0.0231,  0.4968, -0.8708],\n",
      "        [-0.2964, -0.5230,  1.0721],\n",
      "        [-1.0783, -0.6082,  0.3048],\n",
      "        [-0.6351,  1.7860,  0.0811],\n",
      "        [-0.0606,  0.4921,  0.0091],\n",
      "        [-0.5768, -0.4674, -1.4946],\n",
      "        [ 0.7530, -0.7547,  0.0091]])\n"
     ]
    }
   ],
   "source": [
    "a = torch.tensor([[1,2],[3,4]])\n",
    "print(a)\n",
    "a = torch.randn(size=(10,3))\n",
    "print(a)"
   ]
  },
  {
   "cell_type": "markdown",
   "metadata": {
    "id": "AXFMsV3r09Ux"
   },
   "source": [
    "Numpy'de olduğu gibi eleman bazında gerçekleştirilen tensörlerde aritmetik işlemleri kullanabilirsiniz. Gerekirse, tensörler otomatik olarak gerekli boyuta genişletilir. Tensörden numpy-dizilimini  çıkarmak için `.numpy()` kullanın:"
   ]
  },
  {
   "cell_type": "code",
   "execution_count": 3,
   "metadata": {
    "colab": {
     "base_uri": "https://localhost:8080/"
    },
    "id": "e5Nu5Xgj1DnQ",
    "outputId": "c1fbcd86-dde6-40b6-8edf-7a37f9d60901"
   },
   "outputs": [
    {
     "name": "stdout",
     "output_type": "stream",
     "text": [
      "tensor([[ 0.0000,  0.0000,  0.0000],\n",
      "        [-1.6703, -2.2020, -1.2768],\n",
      "        [-1.4818, -0.6938, -0.5614],\n",
      "        [-0.9971, -0.6370, -1.8141],\n",
      "        [-1.2703, -1.6569,  0.1288],\n",
      "        [-2.0523, -1.7420, -0.6384],\n",
      "        [-1.6091,  0.6522, -0.8621],\n",
      "        [-1.0346, -0.6417, -0.9341],\n",
      "        [-1.5508, -1.6012, -2.4378],\n",
      "        [-0.2210, -1.8885, -0.9341]])\n",
      "[2.6484823 3.1076026 2.5683248]\n"
     ]
    }
   ],
   "source": [
    "print(a-a[0])\n",
    "print(torch.exp(a)[0].numpy())"
   ]
  },
  {
   "cell_type": "markdown",
   "metadata": {
    "id": "uQ5zN6cVyrG7"
   },
   "source": [
    "## Yerinde ve Hizası Dışında İşlemler\n",
    "\n",
    "`+`/`add` gibi tensör işlemleri yeni tensörler döndürür. Ancak bazen mevcut tensörü yerinde değiştirmeniz gerekir. İşlemlerin çoğunun `_` ile biten yerinde karşılıkları vardır:"
   ]
  },
  {
   "cell_type": "code",
   "execution_count": 4,
   "metadata": {
    "colab": {
     "base_uri": "https://localhost:8080/"
    },
    "id": "Mjkbcw3-ACKS",
    "outputId": "ca021008-9ab6-4b09-c5a5-bbe854cd1493"
   },
   "outputs": [
    {
     "name": "stdout",
     "output_type": "stream",
     "text": [
      "Hizası dışında toplarken sonuç: tensor(8)\n",
      "Yerinde topladıktan sonra sonuç: tensor(8)\n"
     ]
    }
   ],
   "source": [
    "u = torch.tensor(5)\n",
    "print(\"Hizası dışında toplarken sonuç:\",u.add(torch.tensor(3)))\n",
    "u.add_(torch.tensor(3))\n",
    "print(\"Yerinde topladıktan sonra sonuç:\", u)"
   ]
  },
  {
   "cell_type": "markdown",
   "metadata": {
    "id": "DLPUcVsXACKT"
   },
   "source": [
    "Bir matristeki tüm satırların toplamını saf bir şekilde şöyle hesaplayabiliriz:"
   ]
  },
  {
   "cell_type": "code",
   "execution_count": 5,
   "metadata": {
    "colab": {
     "base_uri": "https://localhost:8080/"
    },
    "id": "7pu0UZ-_yqfB",
    "outputId": "bd2e8c6a-39e1-4f29-990b-9591e866936c"
   },
   "outputs": [
    {
     "name": "stdout",
     "output_type": "stream",
     "text": [
      "tensor([-2.1476,  0.9275,  0.1025])\n"
     ]
    }
   ],
   "source": [
    "s = torch.zeros_like(a[0])\n",
    "for i in a:\n",
    "  s.add_(i)\n",
    "\n",
    "print(s)"
   ]
  },
  {
   "cell_type": "markdown",
   "metadata": {
    "id": "rIh1EHcezlNo"
   },
   "source": [
    "Ama aşağıdakini kullanmak çok daha iyidir:"
   ]
  },
  {
   "cell_type": "code",
   "execution_count": 6,
   "metadata": {
    "colab": {
     "base_uri": "https://localhost:8080/"
    },
    "id": "aQIdWZ1kzn6P",
    "outputId": "89000bb4-f45e-493b-a7b0-39fa4e7d92c1"
   },
   "outputs": [
    {
     "data": {
      "text/plain": [
       "tensor([-2.1476,  0.9275,  0.1025])"
      ]
     },
     "execution_count": 6,
     "metadata": {},
     "output_type": "execute_result"
    }
   ],
   "source": [
    "torch.sum(a,axis=0)"
   ]
  },
  {
   "cell_type": "markdown",
   "metadata": {
    "id": "5UzUmEZhACKT"
   },
   "source": [
    "[Resmi dokümantasyonda](https://pytorch.org/tutorials/beginner/basics/tensorqs_tutorial.html) PyTorch tensörleri hakkında daha fazla bilgi edinebilirsiniz."
   ]
  },
  {
   "cell_type": "markdown",
   "metadata": {
    "id": "U-auwezDwHl6"
   },
   "source": [
    "## Gradyanları Hesaplama\n",
    "\n",
    "Geri yayma için gradyanları hesaplamanız gerekir. Herhangi bir PyTorch tensörünün `requires_grad` özelliğini `True` olarak ayarlayabiliriz; bu, tüm işlemlerde gradyan hesaplamaları için bu tensörün izlenmesiyle sonuçlanacaktır. Gradyanları hesaplamak için `backward()` yöntemini çağırmanız gerekir, ardından gradyan `grad` özelliği kullanılarak mevcut hale gelir:"
   ]
  },
  {
   "cell_type": "code",
   "execution_count": 7,
   "metadata": {
    "colab": {
     "base_uri": "https://localhost:8080/"
    },
    "id": "m8vFOXr7wHl6",
    "outputId": "7054c2b1-0b61-4938-937d-813f75f0b195"
   },
   "outputs": [
    {
     "name": "stdout",
     "output_type": "stream",
     "text": [
      "tensor([[0.2352, 0.0731],\n",
      "        [0.2213, 0.2482]])\n"
     ]
    }
   ],
   "source": [
    "a = torch.randn(size=(2, 2), requires_grad=True)\n",
    "b = torch.randn(size=(2, 2))\n",
    "\n",
    "c = torch.mean(torch.sqrt(torch.square(a) + torch.square(b)))  # `a` kullanarak biraz matematik yapın\n",
    "c.backward() # tüm gradyanlari hesaplamak için backward() çağırın\n",
    "# `c`'nin `a`'ya göre gradyanı nedir?\n",
    "print(a.grad)"
   ]
  },
  {
   "cell_type": "markdown",
   "metadata": {
    "id": "nPj3rtrtACKU"
   },
   "source": [
    "Daha kesin olmak gerekirse, PyTorch gradyanları otomatik olarak **biriktirir**. `backward` işlevi çağrılırken `retain_graph=True` değerini belirtirseniz, hesaplamalı çizge korunur ve `grad` alanına yeni gradyan eklenir. Hesaplama gradyanlarını sıfırdan yeniden başlatmak için, `zero_()` çağırarak `grad` alanını açıkça 0'a kurmamız gerekiyor:"
   ]
  },
  {
   "cell_type": "code",
   "execution_count": 8,
   "metadata": {
    "colab": {
     "base_uri": "https://localhost:8080/"
    },
    "id": "z_VIw8MoACKU",
    "outputId": "36a28b11-6919-47ab-c3f9-c7f1d8500423"
   },
   "outputs": [
    {
     "name": "stdout",
     "output_type": "stream",
     "text": [
      "tensor([[0.7055, 0.2193],\n",
      "        [0.6638, 0.7445]])\n",
      "tensor([[0.2352, 0.0731],\n",
      "        [0.2213, 0.2482]])\n"
     ]
    }
   ],
   "source": [
    "c = torch.mean(torch.sqrt(torch.square(a) + torch.square(b)))\n",
    "c.backward(retain_graph=True)\n",
    "c.backward(retain_graph=True)\n",
    "print(a.grad)\n",
    "a.grad.zero_()\n",
    "c.backward()\n",
    "print(a.grad)"
   ]
  },
  {
   "cell_type": "markdown",
   "metadata": {
    "id": "HM9sUkVgCiG9"
   },
   "source": [
    "PyTorch, gradyanları hesaplamak için **hesaplama çizgesi** oluşturur ve bakımını yapar. `requires_grad` bayrağı `True` olarak ayarlanmış her tensör için PyTorch, ifadenin türevini zincir türev alma kuralına göre hesaplayan `grad_fn` adlı özel bir işlevinin bakımını yapar:"
   ]
  },
  {
   "cell_type": "code",
   "execution_count": 9,
   "metadata": {
    "colab": {
     "base_uri": "https://localhost:8080/"
    },
    "id": "PcxHb-7jC7Vv",
    "outputId": "3b3fa138-6d09-4636-8a71-f4a4051c7827"
   },
   "outputs": [
    {
     "name": "stdout",
     "output_type": "stream",
     "text": [
      "tensor(0.8781, grad_fn=<MeanBackward0>)\n"
     ]
    }
   ],
   "source": [
    "print(c)"
   ]
  },
  {
   "cell_type": "markdown",
   "metadata": {
    "id": "rvLfNiblACKV"
   },
   "source": [
    "Burada `c`, `mean` ('ortalama') işlevi kullanılarak hesaplanır, bu nedenle `grad_fn`, `MeanBackward` adlı bir işleve işaret eder.\n",
    "\n",
    "Çoğu durumda, PyTorch'un bir skaler fonksiyonun (kayıp fonksiyonu gibi) gradyanını hesaplamasını isteriz. Bununla birlikte, bir tensörün gradyanını başka bir tensöre göre hesaplamak istiyorsak, PyTorch bize bir Jacobian matrisinin ve belirli bir vektörün çarpımını hesaplamamıza izin verir.\n",
    "\n",
    "Varsayalım $\\vec{y}=f(\\vec{x})$ vektörümüz olsun, öyleki\n",
    "$\\vec{x}=\\langle x_1,\\dots,x_n\\rangle$ ve\n",
    "$\\vec{y}=\\langle y_1,\\dots,y_m\\rangle$, o zaman $\\vec{y}$ gradyanı $\\vec{x}$'e göre bir **Jacobian** ile tanımlanır:\n",
    "\n",
    "$$\n",
    "\\begin{align}J=\\left(\\begin{array}{ccc}\n",
    "   \\frac{\\partial y_{1}}{\\partial x_{1}} & \\cdots & \\frac{\\partial y_{1}}{\\partial x_{n}}\\\\\n",
    "   \\vdots & \\ddots & \\vdots\\\\\n",
    "   \\frac{\\partial y_{m}}{\\partial x_{1}} & \\cdots & \\frac{\\partial y_{m}}{\\partial x_{n}}\n",
    "\\end{array}\\right)\\end{align}\n",
    "$$\n",
    "\n",
    "Bize Jacobian'ın tamamına erişim vermek yerine, PyTorch Jacobian'ın $v^T\\cdot J$ çarpımını $v=(v_1 \\dots v_m)$ vektörü ile hesaplar. Bunu yapmak için ``backward``'ı çağırmamız ve argüman olarak `v`'yi geçmemiz gerekiyor. `v`'nin boyutu, gradyanı hesapladığımız orijinal tensörün boyutuyla aynı olmalıdır."
   ]
  },
  {
   "cell_type": "code",
   "execution_count": 10,
   "metadata": {
    "colab": {
     "base_uri": "https://localhost:8080/"
    },
    "id": "VUNYiQCOACKV",
    "outputId": "e3127c21-fce6-420d-f347-ec40cc827e7e"
   },
   "outputs": [
    {
     "name": "stdout",
     "output_type": "stream",
     "text": [
      "tensor([[1.1758, 0.0731],\n",
      "        [0.2213, 1.2409]])\n"
     ]
    }
   ],
   "source": [
    "c = torch.sqrt(torch.square(a) + torch.square(b))\n",
    "c.backward(torch.eye(2)) # eye(2) 2x2 birim matris anlamına gelir\n",
    "print(a.grad)"
   ]
  },
  {
   "cell_type": "markdown",
   "metadata": {
    "id": "dGHlkVlvACKV"
   },
   "source": [
    "PyTorch'ta Jacobian hesaplama hakkında daha fazla bilgiyi [resmi dokümantasyon](https://pytorch.org/tutorials/beginner/basics/autogradqs_tutorial.html)da bulabilirsiniz."
   ]
  },
  {
   "cell_type": "markdown",
   "metadata": {
    "id": "FnVvj4LkD15r"
   },
   "source": [
    "# Örnek 0: Gradyan İnişi Kullanarak Eniyileme\n",
    "\n",
    "İki değişkenli basit bir fonksiyonun, $f(x_1,x_2)=(x_1-3)^2+(x_2+2)^2$, minimumunu bulmak için otomatik türev almayı deneyelim. Tensör `x` bir noktanın mevcut koordinatlarını tutsun. Bir başlangıç noktası $x^{(0)}=(0,0)$ ile başlıyoruz ve gradyan inişi formülünü kullanarak bir dizideki sonraki noktayı hesaplıyoruz:\n",
    "$$\n",
    "x^{(n+1)} = x^{(n)} - \\eta\\nabla f\n",
    "$$\n",
    "Burada $\\eta$ sözde **öğrenme oranı** (kodda `lr` ile göstereceğiz) ve $\\nabla f = (\\frac{\\partial f}{\\partial x_1},\\frac{\\partial f}{\\partial x_2})$, $f$'in gradyanıdır.\n",
    "\n",
    "Başlamak için, `x`'in başlangıç değerini ve `f` fonksiyonunu tanımlayalım:"
   ]
  },
  {
   "cell_type": "code",
   "execution_count": 11,
   "metadata": {
    "id": "nDw5mV9KEeOa"
   },
   "outputs": [],
   "source": [
    "x = torch.zeros(2,requires_grad=True)\n",
    "f = lambda x : (x-torch.tensor([3,-2])).pow(2).sum()\n",
    "lr = 0.1"
   ]
  },
  {
   "cell_type": "markdown",
   "metadata": {
    "id": "Wt815LWdEj77"
   },
   "source": [
    "Şimdi 15 gradyan inişi yinelemesi yapalım. Her yinelemede, (3,-2)'deki minimum noktaya yaklaştığımızdan emin olmak için `x` koordinatlarını güncelleyeceğiz ve yazdıracağız:"
   ]
  },
  {
   "cell_type": "code",
   "execution_count": 12,
   "metadata": {
    "colab": {
     "base_uri": "https://localhost:8080/"
    },
    "id": "KfwMf555EyWJ",
    "outputId": "67e2199c-61ff-4ad1-9c48-b4a646bf8bbd"
   },
   "outputs": [
    {
     "name": "stdout",
     "output_type": "stream",
     "text": [
      "Adım 0: x[0]=0.6000000238418579, x[1]=-0.4000000059604645\n",
      "Adım 1: x[0]=1.0800000429153442, x[1]=-0.7200000286102295\n",
      "Adım 2: x[0]=1.4639999866485596, x[1]=-0.9760000705718994\n",
      "Adım 3: x[0]=1.7711999416351318, x[1]=-1.1808000802993774\n",
      "Adım 4: x[0]=2.0169599056243896, x[1]=-1.3446400165557861\n",
      "Adım 5: x[0]=2.2135679721832275, x[1]=-1.4757120609283447\n",
      "Adım 6: x[0]=2.370854377746582, x[1]=-1.5805696249008179\n",
      "Adım 7: x[0]=2.4966835975646973, x[1]=-1.6644556522369385\n",
      "Adım 8: x[0]=2.597346782684326, x[1]=-1.7315645217895508\n",
      "Adım 9: x[0]=2.677877426147461, x[1]=-1.7852516174316406\n",
      "Adım 10: x[0]=2.7423019409179688, x[1]=-1.8282012939453125\n",
      "Adım 11: x[0]=2.793841600418091, x[1]=-1.8625609874725342\n",
      "Adım 12: x[0]=2.835073232650757, x[1]=-1.8900487422943115\n",
      "Adım 13: x[0]=2.868058681488037, x[1]=-1.912039041519165\n",
      "Adım 14: x[0]=2.894446849822998, x[1]=-1.929631233215332\n"
     ]
    }
   ],
   "source": [
    "for i in range(15):\n",
    "    y = f(x)\n",
    "    y.backward()\n",
    "    gr = x.grad\n",
    "    x.data.add_(-lr*gr)\n",
    "    x.grad.zero_()\n",
    "    print(\"Adım {}: x[0]={}, x[1]={}\".format(i,x[0],x[1]))"
   ]
  },
  {
   "cell_type": "markdown",
   "metadata": {
    "id": "8sfjBMBu59B5"
   },
   "source": [
    "## Örnek 1: Doğrusal Bağlanım\n",
    "\n",
    "Artık klasik **doğrusal bağlanım** problemini çözecek kadar bilgimiz var. Küçük sentetik veri kümesi oluşturalım:"
   ]
  },
  {
   "cell_type": "code",
   "execution_count": 13,
   "metadata": {
    "id": "j723455WwHl7"
   },
   "outputs": [],
   "source": [
    "import numpy as np\n",
    "import matplotlib.pyplot as plt\n",
    "from sklearn.datasets import make_classification, make_regression\n",
    "from sklearn.model_selection import train_test_split\n",
    "import random"
   ]
  },
  {
   "cell_type": "code",
   "execution_count": 14,
   "metadata": {
    "colab": {
     "base_uri": "https://localhost:8080/",
     "height": 282
    },
    "id": "WJNK_J6v6I-Z",
    "outputId": "09e6386e-a6d4-4b81-c8d2-153f0acf9696"
   },
   "outputs": [
    {
     "data": {
      "text/plain": [
       "<matplotlib.collections.PathCollection at 0x280a70a00>"
      ]
     },
     "execution_count": 14,
     "metadata": {},
     "output_type": "execute_result"
    },
    {
     "data": {
      "image/png": "[encoded data removed]",
      "text/plain": [
       "<Figure size 640x480 with 1 Axes>"
      ]
     },
     "metadata": {},
     "output_type": "display_data"
    }
   ],
   "source": [
    "np.random.seed(13) # yeniden üretilebilirlik için tohumu seçin - rastgele değişimlerin etkilerini keşfetmek için değiştirin\n",
    "\n",
    "train_x = np.linspace(0, 3, 120)\n",
    "train_labels = 2 * train_x + 0.9 + np.random.randn(*train_x.shape) * 0.5\n",
    "\n",
    "plt.scatter(train_x,train_labels)"
   ]
  },
  {
   "cell_type": "markdown",
   "metadata": {
    "id": "Ng4rZmGc6oxk"
   },
   "source": [
    "Doğrusal bağlanım, $f_{W,b}(x) = Wx+b$ doğrusuyla tanımlanır, burada $W$ ve $b$ bulmamız gereken model parametreleridir. $\\{x_i,y_u\\}_{i=1}^N$ (**kayıp işlevi** olarak da adlandırılır) veri kümemizdeki hata, ortalama kare hatası olarak tanımlanabilir:\n",
    "$$\n",
    "\\mathcal{L}(W,b) = {1\\over N}\\sum_{i=1}^N (f_{W,b}(x_i)-y_i)^2\n",
    "$$\n",
    "Modelimizi ve kayıp fonksiyonumuzu tanımlayalım:"
   ]
  },
  {
   "cell_type": "code",
   "execution_count": 15,
   "metadata": {
    "id": "QxhI4GlB6aiH"
   },
   "outputs": [],
   "source": [
    "input_dim = 1\n",
    "output_dim = 1\n",
    "learning_rate = 0.1\n",
    "\n",
    "# This is our weight matrix\n",
    "w = torch.tensor([100.0],requires_grad=True,dtype=torch.float32)\n",
    "# This is our bias vector\n",
    "b = torch.zeros(size=(output_dim,),requires_grad=True)\n",
    "\n",
    "def f(x):\n",
    "  return torch.matmul(x,w) + b\n",
    "\n",
    "def compute_loss(labels, predictions):\n",
    "  return torch.mean(torch.square(labels - predictions))"
   ]
  },
  {
   "cell_type": "markdown",
   "metadata": {
    "id": "JUxwj3367gD2"
   },
   "source": [
    "Modeli bir dizi minigrup üzerinde eğiteceğiz. Aşağıdaki formülleri kullanarak model parametrelerini ayarlayarak gradyan inişini kullanacağız:\n",
    "$$\n",
    "\\begin{array}{l}\n",
    "W^{(n+1)}=W^{(n)}-\\eta\\frac{\\partial\\mathcal{L}}{\\partial W} \\\\\n",
    "b^{(n+1)}=b^{(n)}-\\eta\\frac{\\partial\\mathcal{L}}{\\partial b} \\\\\n",
    "\\end{array}\n",
    "$$"
   ]
  },
  {
   "cell_type": "code",
   "execution_count": 16,
   "metadata": {
    "id": "-991PErM7fJU"
   },
   "outputs": [],
   "source": [
    "def train_on_batch(x, y):\n",
    "  predictions = f(x)\n",
    "  loss = compute_loss(y, predictions)\n",
    "  loss.backward()\n",
    "  w.data.sub_(learning_rate * w.grad)\n",
    "  b.data.sub_(learning_rate * b.grad)\n",
    "  w.grad.zero_()\n",
    "  b.grad.zero_()\n",
    "  return loss"
   ]
  },
  {
   "cell_type": "markdown",
   "metadata": {
    "id": "idr2VEWb9rr0"
   },
   "source": [
    "Eğitimi yapalım. Veri kümesinden (**dönemler** olarak adlandırılır) birkaç geçiş yapacağız, onu minigruplara ayıracağız ve yukarıda tanımlanan işlevi çağıracağız:"
   ]
  },
  {
   "cell_type": "code",
   "execution_count": 17,
   "metadata": {
    "id": "nOuu0qpx-wAp"
   },
   "outputs": [],
   "source": [
    "# Shuffle the data.\n",
    "indices = np.random.permutation(len(train_x))\n",
    "features = torch.tensor(train_x[indices],dtype=torch.float32)\n",
    "labels = torch.tensor(train_labels[indices],dtype=torch.float32)"
   ]
  },
  {
   "cell_type": "code",
   "execution_count": 18,
   "metadata": {
    "colab": {
     "base_uri": "https://localhost:8080/"
    },
    "id": "3zdIf6c_85Ht",
    "outputId": "6520288c-da59-4a9f-c37e-cd99779c3073"
   },
   "outputs": [
    {
     "name": "stdout",
     "output_type": "stream",
     "text": [
      "Dönem 0: son toplu iş kaybı = 94.5247\n",
      "Dönem 1: son toplu iş kaybı = 9.3428\n",
      "Dönem 2: son toplu iş kaybı = 1.4166\n",
      "Dönem 3: son toplu iş kaybı = 0.5224\n",
      "Dönem 4: son toplu iş kaybı = 0.3807\n",
      "Dönem 5: son toplu iş kaybı = 0.3495\n",
      "Dönem 6: son toplu iş kaybı = 0.3413\n",
      "Dönem 7: son toplu iş kaybı = 0.3390\n",
      "Dönem 8: son toplu iş kaybı = 0.3384\n",
      "Dönem 9: son toplu iş kaybı = 0.3382\n"
     ]
    }
   ],
   "source": [
    "batch_size = 4\n",
    "for epoch in range(10):\n",
    "  for i in range(0,len(features),batch_size):\n",
    "    loss = train_on_batch(features[i:i+batch_size].view(-1,1),labels[i:i+batch_size])\n",
    "  print('Dönem %d: son toplu iş kaybı = %.4f' % (epoch, float(loss)))"
   ]
  },
  {
   "cell_type": "markdown",
   "metadata": {},
   "source": [
    "Şimdi optimize edilmiş $W$ ve $b$ parametrelerini elde ettik. Değerlerinin, veri kümesi oluşturulurken kullanılan orijinal değerlere benzer olduğuna dikkat edin ($W=2, b=1$)"
   ]
  },
  {
   "cell_type": "code",
   "execution_count": 19,
   "metadata": {
    "colab": {
     "base_uri": "https://localhost:8080/"
    },
    "id": "US6q0nCBD-LL",
    "outputId": "c804b779-3231-4f6f-c854-032d211b2853"
   },
   "outputs": [
    {
     "data": {
      "text/plain": [
       "(tensor([1.8617], requires_grad=True), tensor([1.0711], requires_grad=True))"
      ]
     },
     "execution_count": 19,
     "metadata": {},
     "output_type": "execute_result"
    }
   ],
   "source": [
    "w,b"
   ]
  },
  {
   "cell_type": "code",
   "execution_count": 20,
   "metadata": {
    "colab": {
     "base_uri": "https://localhost:8080/",
     "height": 282
    },
    "id": "_e6xRMZFDnyI",
    "outputId": "79e6c360-265a-401d-ce39-8f211917a13d"
   },
   "outputs": [
    {
     "data": {
      "text/plain": [
       "[<matplotlib.lines.Line2D at 0x280b87b50>]"
      ]
     },
     "execution_count": 20,
     "metadata": {},
     "output_type": "execute_result"
    },
    {
     "data": {
      "image/png": "[encoded data removed]",
      "text/plain": [
       "<Figure size 640x480 with 1 Axes>"
      ]
     },
     "metadata": {},
     "output_type": "display_data"
    }
   ],
   "source": [
    "plt.scatter(train_x,train_labels)\n",
    "x = np.array([min(train_x),max(train_x)])\n",
    "with torch.no_grad():\n",
    "  y = w.numpy()*x+b.numpy()\n",
    "plt.plot(x,y,color='red')"
   ]
  },
  {
   "cell_type": "markdown",
   "metadata": {
    "id": "0giuwC9GHzi8"
   },
   "source": [
    "## GPU'daki Hesaplamalar\n",
    "\n",
    "Hesaplamalar için GPU'yu kullanmak için PyTorch, tensörleri GPU'ya taşımayı ve GPU için hesaplamalı çizgeyi oluşturmayı destekler. Geleneksel olarak, kodumuzun başında mevcut hesaplama cihazı `device` (`cpu` veya `cuda`'dır) tanımlarız ve ardından `.to(device)` çağrısını kullanarak tüm tensörleri bu cihaza taşırız. Ayrıca, `device=...` parametresini tensör oluşturma koduna ileterek, belirtilen cihaz üzerinde önceden tensörler oluşturabiliriz. Bu kod, hem CPU'da hem de GPU'da değişiklik yapmadan çalışır:"
   ]
  },
  {
   "cell_type": "code",
   "execution_count": 21,
   "metadata": {
    "colab": {
     "base_uri": "https://localhost:8080/"
    },
    "id": "HK7HPLz3Hyrl",
    "outputId": "7e14cccb-d376-4e59-be66-4ab3f5c3f6f4"
   },
   "outputs": [
    {
     "name": "stdout",
     "output_type": "stream",
     "text": [
      "Hesaplamaları şurada yapıyor cpu\n",
      "Dönem 0: son toplu iş kaybı = 94.5247\n",
      "Dönem 1: son toplu iş kaybı = 9.3428\n",
      "Dönem 2: son toplu iş kaybı = 1.4166\n",
      "Dönem 3: son toplu iş kaybı = 0.5224\n",
      "Dönem 4: son toplu iş kaybı = 0.3807\n",
      "Dönem 5: son toplu iş kaybı = 0.3495\n",
      "Dönem 6: son toplu iş kaybı = 0.3413\n",
      "Dönem 7: son toplu iş kaybı = 0.3390\n",
      "Dönem 8: son toplu iş kaybı = 0.3384\n",
      "Dönem 9: son toplu iş kaybı = 0.3382\n"
     ]
    }
   ],
   "source": [
    "device = 'cuda' if torch.cuda.is_available() else 'cpu'\n",
    "\n",
    "print('Hesaplamaları şurada yapıyor '+device)\n",
    "\n",
    "### Changes here: indicate device\n",
    "w = torch.tensor([100.0],requires_grad=True,dtype=torch.float32,device=device)\n",
    "b = torch.zeros(size=(output_dim,),requires_grad=True,device=device)\n",
    "\n",
    "def f(x):\n",
    "  return torch.matmul(x,w) + b\n",
    "\n",
    "def compute_loss(labels, predictions):\n",
    "  return torch.mean(torch.square(labels - predictions))\n",
    "\n",
    "def train_on_batch(x, y):\n",
    "  predictions = f(x)\n",
    "  loss = compute_loss(y, predictions)\n",
    "  loss.backward()\n",
    "  w.data.sub_(learning_rate * w.grad)\n",
    "  b.data.sub_(learning_rate * b.grad)\n",
    "  w.grad.zero_()\n",
    "  b.grad.zero_()\n",
    "  return loss\n",
    "\n",
    "batch_size = 4\n",
    "for epoch in range(10):\n",
    "  for i in range(0,len(features),batch_size):\n",
    "    ### Changes here: move data to required device\n",
    "    loss = train_on_batch(features[i:i+batch_size].view(-1,1).to(device),labels[i:i+batch_size].to(device))\n",
    "  print('Dönem %d: son toplu iş kaybı = %.4f' % (epoch, float(loss)))"
   ]
  },
  {
   "cell_type": "markdown",
   "metadata": {
    "id": "A10prCPowHl7"
   },
   "source": [
    "## Örnek 2: Sınıflandırma\n",
    "\n",
    "Şimdi ikili sınıflandırma problemini ele alacağız. Böyle bir soruna iyi bir örnek, boyutuna ve yaşına göre habis ve iyi huylu arasında tümör sınıflandırması olabilir.\n",
    "\n",
    "Çekirdek model regresyona benzer, ancak farklı kayıp fonksiyonu kullanmamız gerekiyor. Örnek veriler üreterek başlayalım:"
   ]
  },
  {
   "cell_type": "code",
   "execution_count": 22,
   "metadata": {
    "id": "j0OTPkGpwHl7"
   },
   "outputs": [],
   "source": [
    "np.random.seed(0) # pick the seed for reproducibility - change it to explore the effects of random variations\n",
    "\n",
    "n = 100\n",
    "X, Y = make_classification(n_samples = n, n_features=2,\n",
    "                           n_redundant=0, n_informative=2, flip_y=0.1,class_sep=1.5)\n",
    "X = X.astype(np.float32)\n",
    "Y = Y.astype(np.int32)\n",
    "\n",
    "split = [ 70*n//100, (15+70)*n//100 ]\n",
    "train_x, valid_x, test_x = np.split(X, split)\n",
    "train_labels, valid_labels, test_labels = np.split(Y, split)"
   ]
  },
  {
   "cell_type": "code",
   "execution_count": 23,
   "metadata": {
    "id": "c-_BjSHPwHl8"
   },
   "outputs": [],
   "source": [
    "def plot_dataset(features, labels, W=None, b=None):\n",
    "    # prepare the plot\n",
    "    fig, ax = plt.subplots(1, 1)\n",
    "    ax.set_xlabel('$x_i[0]$ -- (feature 1)')\n",
    "    ax.set_ylabel('$x_i[1]$ -- (feature 2)')\n",
    "    colors = ['r' if l else 'b' for l in labels]\n",
    "    ax.scatter(features[:, 0], features[:, 1], marker='o', c=colors, s=100, alpha = 0.5)\n",
    "    if W is not None:\n",
    "        min_x = min(features[:,0])\n",
    "        max_x = max(features[:,1])\n",
    "        min_y = min(features[:,1])*(1-.1)\n",
    "        max_y = max(features[:,1])*(1+.1)\n",
    "        cx = np.array([min_x,max_x],dtype=np.float32)\n",
    "        cy = (0.5-W[0]*cx-b)/W[1]\n",
    "        ax.plot(cx,cy,'g')\n",
    "        ax.set_ylim(min_y,max_y)\n",
    "    fig.show()"
   ]
  },
  {
   "cell_type": "code",
   "execution_count": 24,
   "metadata": {
    "colab": {
     "base_uri": "https://localhost:8080/",
     "height": 283
    },
    "id": "tq0vFchQwHl8",
    "outputId": "919f1922-f789-4779-cbdc-4f9e742c358b"
   },
   "outputs": [
    {
     "name": "stderr",
     "output_type": "stream",
     "text": [
      "/var/folders/_l/jnklp1bj4cl95rc01tf5vx4h0000gn/T/ipykernel_37297/2721537645.py:17: UserWarning: Matplotlib is currently using module://matplotlib_inline.backend_inline, which is a non-GUI backend, so cannot show the figure.\n",
      "  fig.show()\n"
     ]
    },
    {
     "data": {
      "image/png": "[encoded data removed]",
      "text/plain": [
       "<Figure size 640x480 with 1 Axes>"
      ]
     },
     "metadata": {},
     "output_type": "display_data"
    }
   ],
   "source": [
    "plot_dataset(train_x, train_labels)"
   ]
  },
  {
   "cell_type": "markdown",
   "metadata": {
    "id": "SjPlpf2-wHl8"
   },
   "source": [
    "## Tek Katmanlı Algılayıcı Eğitme\n",
    "\n",
    "Tek katmanlı algılayıcı eğitmek için PyTorch gradyan hesaplama makinelerini kullanalım.\n",
    "\n",
    "Sinir ağımızın 2 girdisi ve 1 çıktısı olacaktır. $W$ ağırlık matrisinin boyutu $2\\times1$ ve ek girdi vektörünün, $b$, $1$ olacaktır.\n",
    "\n",
    "Kodumuzu daha yapılandırılmış hale getirmek için tüm parametreleri tek bir sınıfta gruplandıralım:"
   ]
  },
  {
   "cell_type": "code",
   "execution_count": 25,
   "metadata": {
    "id": "J1KaixW-cMWJ"
   },
   "outputs": [],
   "source": [
    "class Network():\n",
    "  def __init__(self):\n",
    "     self.W = torch.randn(size=(2,1),requires_grad=True)\n",
    "     self.b = torch.zeros(size=(1,),requires_grad=True)\n",
    "\n",
    "  def forward(self,x):\n",
    "    return torch.matmul(x,self.W)+self.b\n",
    "\n",
    "  def zero_grad(self):\n",
    "    self.W.data.zero_()\n",
    "    self.b.data.zero_()\n",
    "\n",
    "  def update(self,lr=0.1):\n",
    "    self.W.data.sub_(lr*self.W.grad)\n",
    "    self.b.data.sub_(lr*self.b)\n",
    "\n",
    "net = Network()"
   ]
  },
  {
   "cell_type": "markdown",
   "metadata": {
    "id": "rQ7W6TOacIAI"
   },
   "source": [
    "> `W.zero_()` yerine `W.data.zero_()` kullandığımızı unutmayın. Bunu yapmamız gerekiyor çünkü *Autograd* mekanizması kullanılarak izlenen bir tensörü doğrudan değiştiremeyiz.\n",
    "\n",
    "Çekirdek model önceki örnektekiyle aynı olacaktır, ancak kayıp fonksiyonu bir lojistik kaybı olacaktır. Lojistik kaybı uygulamak için, ağımızın çıktısı olarak **olasılık** değerini almamız gerekiyor, yani `sigmoid` etkinleştirme fonksiyonunu kullanarak $z$ çıktısını [0,1] aralığına getirmemiz gerekiyor: $ p=\\sigma(z)$.\n",
    "\n",
    "Gerçek $y_i\\in\\{0,1\\}$ sınıfına karşılık gelen i. girdi değeri için $p_i$ olasılığını alırsak, kaybı $\\mathcal{L_i}=-(y_i\\log p_i + (1-y_i)\\log(1-p_i))$ olarak hesaplarız.\n",
    "\n",
    "PyTorch'ta, bu adımların her ikisi de (sigmoid ve ardından lojistik kayıp uygulamak) `binary_cross_entropy_with_logits` işlevine yapılan bir çağrı kullanılarak yapılabilir. Ağımızı minigruplar halinde eğittiğimiz için, bir minigrubun tüm öğelerindeki kaybın ortalamasını almamız gerekiyor  ve bu aynı zamanda `binary_cross_entropy_with_logits` işlevi tarafından otomatik olarak yapılır:\n",
    "\n",
    "> `binary_crossentropy_with_logits` çağrısı, `sigmoid` çağrısına ve ardından `binary_crossentropy` çağrısına eşdeğerdir."
   ]
  },
  {
   "cell_type": "code",
   "execution_count": 26,
   "metadata": {
    "id": "kdDxWeCqwHl8"
   },
   "outputs": [],
   "source": [
    "def train_on_batch(net, x, y):\n",
    "  z = net.forward(x).flatten()\n",
    "  loss = torch.nn.functional.binary_cross_entropy_with_logits(input=z,target=y)\n",
    "  net.zero_grad()\n",
    "  loss.backward()\n",
    "  net.update()\n",
    "  return loss"
   ]
  },
  {
   "cell_type": "markdown",
   "metadata": {
    "id": "zAAgw0h6KzUd"
   },
   "source": [
    "Verilerimizde dolaşırken veri kümelerini yönetmek için yerleşik PyTorch mekanizmasını kullanacağız. İki kavram üzerine kuruludur:\n",
    "* **Veri kümesi (Dataset)** ana veri kaynağıdır, **Yinelenebilir (Iterable)** veya **Harita tarzı (Map-style)** olabilir.\n",
    "* **Veri yükleyici (Dataloader)**, bir veri kümesindeki verilerin yüklenmesinden ve minigruplara bölünmesinden sorumludur.\n",
    "\n",
    "Bizim durumumuzda, bir tensöre dayalı bir veri kümesi tanımlayacağız ve onu 16 elemanlı minigruplara ayıracağız. Her minigrup iki tensör; girdi verileri (boyut=16x2) ve etiketler (sınıf numarası - 16 uzunluğunda tamsayı tipli bir vektördür) içerir."
   ]
  },
  {
   "cell_type": "code",
   "execution_count": 27,
   "metadata": {
    "colab": {
     "base_uri": "https://localhost:8080/"
    },
    "id": "PfyqjVb2wHl8",
    "outputId": "b3a685a9-304c-4e7e-adf9-2858cc47c3a5"
   },
   "outputs": [
    {
     "data": {
      "text/plain": [
       "[tensor([[ 1.5442,  2.5290],\n",
       "         [-1.6284,  0.0772],\n",
       "         [-1.7141,  2.4770],\n",
       "         [-1.4951,  0.7320],\n",
       "         [-1.6899,  0.9243],\n",
       "         [-0.9474, -0.7681],\n",
       "         [ 3.8597, -2.2951],\n",
       "         [-1.3944,  1.4300],\n",
       "         [ 4.3627,  3.1333],\n",
       "         [-1.0973, -1.7011],\n",
       "         [-2.5532, -0.0777],\n",
       "         [-1.2661, -0.3167],\n",
       "         [ 0.3921,  1.8406],\n",
       "         [ 2.2091, -1.6045],\n",
       "         [ 1.8383, -1.4861],\n",
       "         [ 0.7173, -0.9718]]),\n",
       " tensor([1., 0., 0., 0., 0., 0., 1., 0., 1., 0., 0., 0., 1., 1., 1., 1.])]"
      ]
     },
     "execution_count": 27,
     "metadata": {},
     "output_type": "execute_result"
    }
   ],
   "source": [
    "# Create a tf.data.Dataset object for easy batched iteration\n",
    "dataset = torch.utils.data.TensorDataset(torch.tensor(train_x),torch.tensor(train_labels,dtype=torch.float32))\n",
    "dataloader = torch.utils.data.DataLoader(dataset,batch_size=16)\n",
    "\n",
    "list(dataloader)[0]"
   ]
  },
  {
   "cell_type": "markdown",
   "metadata": {
    "id": "xrwgkbQjhkEp"
   },
   "source": [
    "Artık ağımızı 15 dönem eğitmek için tüm veri kümesinde dolaşabiliriz:"
   ]
  },
  {
   "cell_type": "code",
   "execution_count": 28,
   "metadata": {
    "colab": {
     "base_uri": "https://localhost:8080/"
    },
    "id": "QGchp9D6gVJa",
    "outputId": "b4c4751d-cb56-4104-d5b5-f1ae9d3d858d"
   },
   "outputs": [
    {
     "name": "stdout",
     "output_type": "stream",
     "text": [
      "Dönem 0: son toplu iş kaybı = 0.5761\n",
      "Dönem 1: son toplu iş kaybı = 0.4701\n",
      "Dönem 2: son toplu iş kaybı = 0.4053\n",
      "Dönem 3: son toplu iş kaybı = 0.3614\n",
      "Dönem 4: son toplu iş kaybı = 0.3296\n",
      "Dönem 5: son toplu iş kaybı = 0.3053\n",
      "Dönem 6: son toplu iş kaybı = 0.2859\n",
      "Dönem 7: son toplu iş kaybı = 0.2702\n",
      "Dönem 8: son toplu iş kaybı = 0.2570\n",
      "Dönem 9: son toplu iş kaybı = 0.2457\n",
      "Dönem 10: son toplu iş kaybı = 0.2360\n",
      "Dönem 11: son toplu iş kaybı = 0.2275\n",
      "Dönem 12: son toplu iş kaybı = 0.2200\n",
      "Dönem 13: son toplu iş kaybı = 0.2133\n",
      "Dönem 14: son toplu iş kaybı = 0.2072\n"
     ]
    }
   ],
   "source": [
    "for epoch in range(15):\n",
    "  for (x, y) in dataloader:\n",
    "    loss = train_on_batch(net,x,y)\n",
    "  print('Dönem %d: son toplu iş kaybı = %.4f' % (epoch, float(loss)))"
   ]
  },
  {
   "cell_type": "markdown",
   "metadata": {},
   "source": [
    "Elde ettiğimiz parametreler aşağıdadır:"
   ]
  },
  {
   "cell_type": "code",
   "execution_count": 29,
   "metadata": {
    "colab": {
     "base_uri": "https://localhost:8080/"
    },
    "id": "5QaDiCQUkFOT",
    "outputId": "45b4a66b-1222-40f4-c758-d58f1c7daf8c"
   },
   "outputs": [
    {
     "name": "stdout",
     "output_type": "stream",
     "text": [
      "tensor([[1.3857],\n",
      "        [0.3547]], requires_grad=True) tensor([0.], requires_grad=True)\n"
     ]
    }
   ],
   "source": [
    "print(net.W,net.b)"
   ]
  },
  {
   "cell_type": "markdown",
   "metadata": {
    "id": "s4_Atvn5K4K9"
   },
   "source": [
    "Eğitimimizin işe yaradığından emin olmak için iki sınıfı ayıran doğruyu çizelim. Ayırma doğrusu $W\\times x + b = 0.5$ denklemiyle tanımlanır."
   ]
  },
  {
   "cell_type": "code",
   "execution_count": 30,
   "metadata": {
    "colab": {
     "base_uri": "https://localhost:8080/",
     "height": 283
    },
    "id": "PgRTHttLwHl9",
    "outputId": "d9abf92f-cb70-4c56-ccd0-5e027239da58"
   },
   "outputs": [
    {
     "name": "stderr",
     "output_type": "stream",
     "text": [
      "/var/folders/_l/jnklp1bj4cl95rc01tf5vx4h0000gn/T/ipykernel_37297/2721537645.py:17: UserWarning: Matplotlib is currently using module://matplotlib_inline.backend_inline, which is a non-GUI backend, so cannot show the figure.\n",
      "  fig.show()\n"
     ]
    },
    {
     "data": {
      "image/png": "[encoded data removed]",
      "text/plain": [
       "<Figure size 640x480 with 1 Axes>"
      ]
     },
     "metadata": {},
     "output_type": "display_data"
    }
   ],
   "source": [
    "plot_dataset(train_x,train_labels,net.W.detach().numpy(),net.b.detach().numpy())"
   ]
  },
  {
   "cell_type": "markdown",
   "metadata": {
    "id": "1W4TZfXOmIlS"
   },
   "source": [
    "Şimdi doğrulama veri kümesindeki doğruluğu hesaplayalım:"
   ]
  },
  {
   "cell_type": "code",
   "execution_count": 31,
   "metadata": {
    "colab": {
     "base_uri": "https://localhost:8080/"
    },
    "id": "HUjdeIefsIsg",
    "outputId": "a1a363d4-a307-4769-9ccf-fe8a857b62af"
   },
   "outputs": [
    {
     "data": {
      "text/plain": [
       "tensor(0.8000)"
      ]
     },
     "execution_count": 31,
     "metadata": {},
     "output_type": "execute_result"
    }
   ],
   "source": [
    "pred = torch.sigmoid(net.forward(torch.tensor(valid_x)))\n",
    "torch.mean(((pred.view(-1)>0.5)==(torch.tensor(valid_labels)>0.5)).type(torch.float32))"
   ]
  },
  {
   "cell_type": "markdown",
   "metadata": {},
   "source": [
    "Burada neler olduğunu açıklayalım:\n",
    "* `pred`, tüm geçerleme veri kümesi için tahmin edilen olasılıkların vektörüdür. Onu ağımız üzerinden `valid_x` orijinal geçerleme verilerini çalıştırarak ve olasılıkları elde etmek için `sigmoid` uygulayarak hesaplıyoruz.\n",
    "* `pred.view(-1)` orijinal tensörün düzleştirilmiş bir görünümünü oluşturur. `view` (görünüm), numpy'deki `reshape` (yeniden şekillendir) işlevine benzer.\n",
    "* `pred.view(-1)>0.5`, tahmin edilen sınıfı gösteren bir boole tensörü veya doğruluk değeri döndürür (False (Yanlış) = sınıf 0, True (Doğru) = sınıf 1).\n",
    "* Benzer şekilde, `torch.tensor(valid_labels)>0.5)` geçerleme etiketleri için doğruluk değerlerinin boole tensörünü oluşturur.\n",
    "* Bu iki tensörü eleman bazında karşılaştırırız ve `True` doğru tahmine ve `False` yanlışa karşılık gelen başka bir boole tensörü elde ederiz.\n",
    "* Bu tensörü kayan virgüllü sayıya çeviririz ve `torch.mean` kullanarak ortalama değerini alırız, istenen doğruluk budur."
   ]
  },
  {
   "cell_type": "markdown",
   "metadata": {
    "id": "_95qF9lY2kHp"
   },
   "source": [
    "## Sinir Ağları ve Optimize Ediciler\n",
    "\n",
    "PyTorch'ta, bir sinir ağını temsil etmek için özel bir `torch.nn.Module` modülü tanımlanmıştır. Kendi sinir ağınızı tanımlamanın iki yöntemi vardır:\n",
    "* **Ardışık (Sequential)** olarak, yalnızca ağınızı oluşturan katmanların bir listesini belirtirsiniz.\n",
    "* `torch.nn.Module`'den devralınan bir **sınıf** olarak tanımlarsınız.\n",
    "\n",
    "İlk yöntem, ardışık katman bileşimine sahip standart ağları belirtmenize izin verirken, ikincisi daha esnektir ve gelişigüzel karmaşık mimarilerden oluşan ağları ifade etme fırsatı verir.\n",
    "\n",
    "Modüllerin içinde standart **katmanları** kullanabilirsiniz, örneğin:\n",
    "* `Linear` (Doğrusal), tek katmanlı algılayıcıya eşdeğer yoğun doğrusal katman. Ağımız için yukarıda tanımladığımızla aynı mimariye sahiptir.\n",
    "* `Softmax`, `Sigmoid`, `ReLU`, etkinleştirme işlevlerine karşılık gelen katmanlar.\n",
    "* Özel ağ türleri için başka katmanlar da vardır - evrişim, yinelemeli, vb. Kursun ilerleyen bölümlerinde bunların çoğuna yeniden değineceğiz.\n",
    "\n",
    "> PyTorch'taki etkinleştirme işlevinin ve kayıp işlevlerinin çoğu iki biçimde mevcuttur: **İşlev** (`torch.nn.functional` ad alanının içinde) ve **katman olarak** (`torch.nn` ad alanının içinde). Etkinleştirme işlevleri için, ayrı katman nesnesi oluşturmadan `torch.nn.functional` öğesinden işlevsel öğeleri kullanmak genellikle daha kolaydır.\n",
    "\n",
    "Tek katmanlı algılayıcıyı eğitmek istiyorsak, yalnızca bir yerleşik `Linear` katmanı kullanabiliriz:"
   ]
  },
  {
   "cell_type": "code",
   "execution_count": 32,
   "metadata": {
    "colab": {
     "base_uri": "https://localhost:8080/"
    },
    "id": "D77pXPR6oFRs",
    "outputId": "efa49e5c-72d4-4781-89d4-4ab6597d2b0e"
   },
   "outputs": [
    {
     "name": "stdout",
     "output_type": "stream",
     "text": [
      "[Parameter containing:\n",
      "tensor([[-0.3171,  0.3296]], requires_grad=True), Parameter containing:\n",
      "tensor([0.6366], requires_grad=True)]\n"
     ]
    }
   ],
   "source": [
    "net = torch.nn.Linear(2,1) # 2 girdi, 1 çıktı\n",
    "\n",
    "print(list(net.parameters()))"
   ]
  },
  {
   "cell_type": "markdown",
   "metadata": {
    "id": "0tbe0Et_oiNo"
   },
   "source": [
    "Gördüğünüz gibi `parameters()` yöntemi, eğitim sırasında ayarlanması gereken tüm parametreleri döndürür. $W$ ağırlık matrisine ve $b$ ek girdiye karşılık gelirler. Gradyanları parametrelere göre hesaplamamız gerektiğinden, `requires_grad` öğesinin `True` olarak ayarlandığını fark edebilirsiniz.\n",
    "\n",
    "PyTorch ayrıca **gradyan inişi** gibi optimizasyon yöntemlerini uygulayan yerleşik **eniyileyiciler** içerir. Bir **rasgele gradyan inişi eniyileyiciyi** şu şekilde tanımlayabiliriz:"
   ]
  },
  {
   "cell_type": "code",
   "execution_count": 33,
   "metadata": {
    "id": "B4AxyrFMozh0"
   },
   "outputs": [],
   "source": [
    "optim = torch.optim.SGD(net.parameters(),lr=0.05)"
   ]
  },
  {
   "cell_type": "markdown",
   "metadata": {
    "id": "6eB8v58eo9pp"
   },
   "source": [
    "Eniyileyiciyi kullanınca, eğitim döngümüz şöyle görünecektir:"
   ]
  },
  {
   "cell_type": "code",
   "execution_count": 34,
   "metadata": {
    "colab": {
     "base_uri": "https://localhost:8080/"
    },
    "id": "ups7nlV22ofp",
    "outputId": "503d8ae9-35f3-4ecb-e2ff-4da2ec2914eb"
   },
   "outputs": [
    {
     "name": "stdout",
     "output_type": "stream",
     "text": [
      "Dönem 0: son toplu iş kaybı = 0.9087961316108704, geçerleme doğruluğu = 0.4000000059604645\n",
      "Dönem 1: son toplu iş kaybı = 0.7703850865364075, geçerleme doğruluğu = 0.46666666865348816\n",
      "Dönem 2: son toplu iş kaybı = 0.6663016676902771, geçerleme doğruluğu = 0.6000000238418579\n",
      "Dönem 3: son toplu iş kaybı = 0.587394654750824, geçerleme doğruluğu = 0.7333333492279053\n",
      "Dönem 4: son toplu iş kaybı = 0.5265983939170837, geçerleme doğruluğu = 0.7333333492279053\n",
      "Dönem 5: son toplu iş kaybı = 0.4788611829280853, geçerleme doğruluğu = 0.800000011920929\n",
      "Dönem 6: son toplu iş kaybı = 0.44066122174263, geçerleme doğruluğu = 0.800000011920929\n",
      "Dönem 7: son toplu iş kaybı = 0.4095434844493866, geçerleme doğruluğu = 0.8666666746139526\n",
      "Dönem 8: son toplu iş kaybı = 0.38377830386161804, geçerleme doğruluğu = 0.8666666746139526\n",
      "Dönem 9: son toplu iş kaybı = 0.3621285855770111, geçerleme doğruluğu = 0.800000011920929\n"
     ]
    }
   ],
   "source": [
    "val_x = torch.tensor(valid_x)\n",
    "val_lab = torch.tensor(valid_labels)\n",
    "\n",
    "for ep in range(10):\n",
    "  for (x,y) in dataloader:\n",
    "    z = net(x).flatten()\n",
    "    loss = torch.nn.functional.binary_cross_entropy_with_logits(z,y)\n",
    "    optim.zero_grad()\n",
    "    loss.backward()\n",
    "    optim.step()\n",
    "  acc = ((torch.sigmoid(net(val_x).flatten())>0.5).float()==val_lab).float().mean()\n",
    "  print(f\"Dönem {ep}: son toplu iş kaybı = {loss}, geçerleme doğruluğu = {acc}\")"
   ]
  },
  {
   "cell_type": "markdown",
   "metadata": {
    "id": "vRLXEQ4Qrcvx"
   },
   "source": [
    "> Ağımızı girdi verilerine uygulamak için `net.forward(x)` yerine `net(x)` kullanabileceğimizi fark edebilirsiniz, çünkü `nn.Module` Python '__call__()' işlevini uygular.\n",
    "\n",
    "Bunu dikkate alarak, genel `train` (eğitim) fonksiyonunu tanımlayabiliriz:"
   ]
  },
  {
   "cell_type": "code",
   "execution_count": 35,
   "metadata": {
    "colab": {
     "base_uri": "https://localhost:8080/"
    },
    "id": "5c6WsBhlrlIs",
    "outputId": "54de8404-4170-4a15-abba-039d06d5e946"
   },
   "outputs": [
    {
     "name": "stdout",
     "output_type": "stream",
     "text": [
      "Dönem 0: son toplu iş kaybı = 0.9851850867271423, geçerleme doğruluğu = 0.4000000059604645\n",
      "Dönem 1: son toplu iş kaybı = 0.8353211879730225, geçerleme doğruluğu = 0.46666666865348816\n",
      "Dönem 2: son toplu iş kaybı = 0.709876298904419, geçerleme doğruluğu = 0.46666666865348816\n",
      "Dönem 3: son toplu iş kaybı = 0.6093153953552246, geçerleme doğruluğu = 0.6666666865348816\n",
      "Dönem 4: son toplu iş kaybı = 0.530561625957489, geçerleme doğruluğu = 0.800000011920929\n",
      "Dönem 5: son toplu iş kaybı = 0.46913135051727295, geçerleme doğruluğu = 0.7333333492279053\n",
      "Dönem 6: son toplu iş kaybı = 0.4209415018558502, geçerleme doğruluğu = 0.800000011920929\n",
      "Dönem 7: son toplu iş kaybı = 0.382853239774704, geçerleme doğruluğu = 0.800000011920929\n",
      "Dönem 8: son toplu iş kaybı = 0.3525124490261078, geçerleme doğruluğu = 0.800000011920929\n",
      "Dönem 9: son toplu iş kaybı = 0.3280949890613556, geçerleme doğruluğu = 0.800000011920929\n"
     ]
    }
   ],
   "source": [
    "def train(net, dataloader, val_x, val_lab, epochs=10, lr=0.05):\n",
    "  optim = torch.optim.Adam(net.parameters(),lr=lr)\n",
    "  for ep in range(epochs):\n",
    "    for (x,y) in dataloader:\n",
    "      z = net(x).flatten()\n",
    "      loss = torch.nn.functional.binary_cross_entropy_with_logits(z,y)\n",
    "      optim.zero_grad()\n",
    "      loss.backward()\n",
    "      optim.step()\n",
    "    acc = ((torch.sigmoid(net(val_x).flatten())>0.5).float()==val_lab).float().mean()\n",
    "    print(f\"Dönem {ep}: son toplu iş kaybı = {loss}, geçerleme doğruluğu = {acc}\")\n",
    "\n",
    "net = torch.nn.Linear(2,1)\n",
    "\n",
    "train(net,dataloader,val_x,val_lab,lr=0.03)"
   ]
  },
  {
   "cell_type": "markdown",
   "metadata": {
    "id": "KzuIDqJ8sFYm"
   },
   "source": [
    "## Ağı Ardışık Katmanlar Olarak Tanımlama\n",
    "\n",
    "Şimdi çok katmanlı algılayıcıyı eğitelim. Sadece bir katman dizisi belirterek tanımlanabilir. Ortaya çıkan nesne otomatik olarak `Module`'den devralır, ör. ayrıca tüm ağın tüm parametrelerini döndürecek `parameters` yöntemine sahip olacaktır."
   ]
  },
  {
   "cell_type": "code",
   "execution_count": 36,
   "metadata": {
    "colab": {
     "base_uri": "https://localhost:8080/"
    },
    "id": "tBtytmEAsq-O",
    "outputId": "06ad840b-c2b7-409e-e01e-a9170548151d"
   },
   "outputs": [
    {
     "name": "stdout",
     "output_type": "stream",
     "text": [
      "Sequential(\n",
      "  (0): Linear(in_features=2, out_features=5, bias=True)\n",
      "  (1): Sigmoid()\n",
      "  (2): Linear(in_features=5, out_features=1, bias=True)\n",
      ")\n"
     ]
    }
   ],
   "source": [
    "net = torch.nn.Sequential(torch.nn.Linear(2,5),torch.nn.Sigmoid(),torch.nn.Linear(5,1))\n",
    "print(net)"
   ]
  },
  {
   "cell_type": "markdown",
   "metadata": {
    "id": "5r5RbLB1s6YB"
   },
   "source": [
    "Bu çok katmanlı ağı yukarıda tanımladığımız `train` fonksiyonunu kullanarak eğitebiliriz:"
   ]
  },
  {
   "cell_type": "code",
   "execution_count": 37,
   "metadata": {
    "colab": {
     "base_uri": "https://localhost:8080/"
    },
    "id": "ogXKdcfIs_ND",
    "outputId": "957ccd8d-0076-4e9b-89f1-edc1de75f18e"
   },
   "outputs": [
    {
     "name": "stdout",
     "output_type": "stream",
     "text": [
      "Dönem 0: son toplu iş kaybı = 0.6021518111228943, geçerleme doğruluğu = 0.6000000238418579\n",
      "Dönem 1: son toplu iş kaybı = 0.505835235118866, geçerleme doğruluğu = 0.6000000238418579\n",
      "Dönem 2: son toplu iş kaybı = 0.4291416108608246, geçerleme doğruluğu = 0.7333333492279053\n",
      "Dönem 3: son toplu iş kaybı = 0.35532107949256897, geçerleme doğruluğu = 0.800000011920929\n",
      "Dönem 4: son toplu iş kaybı = 0.2888007164001465, geçerleme doğruluğu = 0.800000011920929\n",
      "Dönem 5: son toplu iş kaybı = 0.23157590627670288, geçerleme doğruluğu = 0.800000011920929\n",
      "Dönem 6: son toplu iş kaybı = 0.1831870824098587, geçerleme doğruluğu = 0.800000011920929\n",
      "Dönem 7: son toplu iş kaybı = 0.1437370777130127, geçerleme doğruluğu = 0.800000011920929\n",
      "Dönem 8: son toplu iş kaybı = 0.11355496197938919, geçerleme doğruluğu = 0.800000011920929\n",
      "Dönem 9: son toplu iş kaybı = 0.09217184782028198, geçerleme doğruluğu = 0.800000011920929\n"
     ]
    }
   ],
   "source": [
    "train(net,dataloader,val_x,val_lab)"
   ]
  },
  {
   "cell_type": "markdown",
   "metadata": {
    "id": "jY4R1XEGtEzJ"
   },
   "source": [
    "## Ağı Sınıf Olarak Tanımlamak\n",
    "\n",
    "`torch.nn.Module`'den miras alınan bir sınıfı kullanmak daha esnek bir yöntemdir, çünkü onun içinde herhangi bir hesaplama tanımlayabiliriz. `Module` birçok şeyi otomatikleştirir, örn. PyTorch katmanları olan tüm dahili değişkenleri otomatik olarak anlar ve eniyileme için parametrelerini toplar. Ağın tüm katmanlarını sınıfın üyeleri olarak tanımlamanız yeterlidir:"
   ]
  },
  {
   "cell_type": "code",
   "execution_count": 38,
   "metadata": {
    "colab": {
     "base_uri": "https://localhost:8080/"
    },
    "id": "SlsJmGu0tMsZ",
    "outputId": "240d5c89-096c-4392-99cd-1ade5ff3e3e1"
   },
   "outputs": [
    {
     "name": "stdout",
     "output_type": "stream",
     "text": [
      "MyNet(\n",
      "  (fc1): Linear(in_features=2, out_features=10, bias=True)\n",
      "  (func): ReLU()\n",
      "  (fc2): Linear(in_features=10, out_features=1, bias=True)\n",
      ")\n"
     ]
    }
   ],
   "source": [
    "class MyNet(torch.nn.Module):\n",
    "  def __init__(self,hidden_size=10,func=torch.nn.Sigmoid()):\n",
    "    super().__init__()\n",
    "    self.fc1 = torch.nn.Linear(2,hidden_size)\n",
    "    self.func = func\n",
    "    self.fc2 = torch.nn.Linear(hidden_size,1)\n",
    "\n",
    "  def forward(self,x):\n",
    "    x = self.fc1(x)\n",
    "    x = self.func(x)\n",
    "    x = self.fc2(x)\n",
    "    return x\n",
    "  \n",
    "net = MyNet(func=torch.nn.ReLU())\n",
    "print(net)"
   ]
  },
  {
   "cell_type": "code",
   "execution_count": 39,
   "metadata": {
    "colab": {
     "base_uri": "https://localhost:8080/"
    },
    "id": "HwdapRxft-7M",
    "outputId": "6eb900cf-4902-4a04-c62b-497b68455406"
   },
   "outputs": [
    {
     "name": "stdout",
     "output_type": "stream",
     "text": [
      "Dönem 0: son toplu iş kaybı = 0.7364251017570496, geçerleme doğruluğu = 0.46666666865348816\n",
      "Dönem 1: son toplu iş kaybı = 0.7092168927192688, geçerleme doğruluğu = 0.5333333611488342\n",
      "Dönem 2: son toplu iş kaybı = 0.6822843551635742, geçerleme doğruluğu = 0.5333333611488342\n",
      "Dönem 3: son toplu iş kaybı = 0.6552965044975281, geçerleme doğruluğu = 0.5333333611488342\n",
      "Dönem 4: son toplu iş kaybı = 0.6281629800796509, geçerleme doğruluğu = 0.6000000238418579\n",
      "Dönem 5: son toplu iş kaybı = 0.5996261835098267, geçerleme doğruluğu = 0.6666666865348816\n",
      "Dönem 6: son toplu iş kaybı = 0.5690117478370667, geçerleme doğruluğu = 0.7333333492279053\n",
      "Dönem 7: son toplu iş kaybı = 0.5358816981315613, geçerleme doğruluğu = 0.8666666746139526\n",
      "Dönem 8: son toplu iş kaybı = 0.5006707310676575, geçerleme doğruluğu = 0.8666666746139526\n",
      "Dönem 9: son toplu iş kaybı = 0.46446147561073303, geçerleme doğruluğu = 0.800000011920929\n"
     ]
    }
   ],
   "source": [
    "train(net,dataloader,val_x,val_lab,lr=0.005)"
   ]
  },
  {
   "cell_type": "markdown",
   "metadata": {
    "id": "dvAiaj_JndyP"
   },
   "source": [
    "**Görev 1**: Eğitim sırasında kayıp fonksiyonunun ve doğruluğun, eğitim ve geçerleme verilerindeki grafiğini çizin.\n",
    "\n",
    "**Görev 2**: Bu kodu kullanarak MNIST sınıflandırma problemini çözmeye çalışın. İpucu: Kayıp işlevi olarak `crossentropy_with_logits` kullanın."
   ]
  },
  {
   "cell_type": "markdown",
   "metadata": {},
   "source": [
    "## Ana Fikirler\n",
    "\n",
    "* PyTorch, düşük seviyede tensörler üzerinde çalışmanıza izin verir, en fazla esnekliğe sahip olursunuz.\n",
    "* Datasets (Veri Kümeleri) ve Dataloaders (Veri Yükleyiciler) gibi verilerle çalışmak için uygun araçlar vardır.\n",
    "* `Sequential` (Ardışık) sözdizimini kullanarak veya `torch.nn.Module`'den bir sınıf miras alarak sinir ağı mimarilerini tanımlayabilirsiniz.\n",
    "* Bir ağı tanımlamaya ve eğitmeye daha da basit bir yaklaşım için PyTorch Lightning'e bakın."
   ]
  }
 ],
 "metadata": {
  "accelerator": "GPU",
  "celltoolbar": "Slideshow",
  "colab": {
   "collapsed_sections": [],
   "name": "IntroPyTorch.ipynb",
   "provenance": []
  },
  "interpreter": {
   "hash": "0cb620c6d4b9f7a635928804c26cf22403d89d98d79684e4529119355ee6d5a5"
  },
  "kernelspec": {
   "display_name": "Python 3 (ipykernel)",
   "language": "python",
   "name": "python3"
  },
  "language_info": {
   "codemirror_mode": {
    "name": "ipython",
    "version": 3
   },
   "file_extension": ".py",
   "mimetype": "text/x-python",
   "name": "python",
   "nbconvert_exporter": "python",
   "pygments_lexer": "ipython3",
   "version": "3.8.13"
  },
  "livereveal": {
   "start_slideshow_at": "selected"
  }
 },
 "nbformat": 4,
 "nbformat_minor": 4
}
