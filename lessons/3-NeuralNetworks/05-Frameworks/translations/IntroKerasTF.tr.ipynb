{
 "cells": [
  {
   "cell_type": "markdown",
   "metadata": {
    "id": "En2vX4FuwHlu"
   },
   "source": [
    "## Tensorflow ve Keras'a Giriş\n",
    "\n",
    "> Bu not defteri, [Yeni Başlayanlar İçin YZ Müfredatı](http://github.com/microsoft/ai-for-beginners)'nın bir parçasıdır. Eksiksiz öğrenme materyalleri kümesi için kod deposunu ziyaret edin.\n",
    "\n",
    "### Sinirsel Çerçeveler\n",
    "\n",
    "Sinir ağlarını eğitmek için şunlara ihtiyacınız olduğunu öğrendik:\n",
    "* Matrisleri hızla çarpmalısınız (tensörler).\n",
    "* Gradyan inişi optimizasyonunu gerçekleştirmek için gradyanları hesaplamalısınız.\n",
    "\n",
    "Sinir ağı çerçevelerinin yapmanıza izin verdikleri şunlardır:\n",
    "* Kullanılabilir herhangi bir hesaplamada, CPU veya GPU'da ve hatta TPU'da tensörlerle çalışırsınız.\n",
    "* Gradyanları otomatik olarak hesaplarsınız (tüm yerleşik tensör işlevleri için açıkça programlanmıştır).\n",
    "\n",
    "İsteğe bağlı olarak:\n",
    "* Sinir Ağı kurucusu / daha üst seviye APIler (ağı bir dizi katman olarak tanımlayın).\n",
    "* Basit eğitim işlevleri (Scikit Learn'de olduğu gibi `fit`)\n",
    "* Gradyan inişine ek olarak bir dizi optimizasyon (eniyileme) algoritması.\n",
    "* Veri işleme soyutlamaları (bu ideal olarak GPU'da da çalışacaktır)."
   ]
  },
  {
   "cell_type": "markdown",
   "metadata": {
    "id": "8cACQoFMwHl3"
   },
   "source": [
    "### En Popüler Çerçeveler\n",
    "\n",
    "* Tensorflow 1.x - yaygın olarak kullanılabilen ilk çerçevedir (Google). Statik hesaplama çizgesini tanımlamaya, GPU'ya göndermeye ve açıkça değerlendirmeye izin verir.\n",
    "* PyTorch - Facebook'tan popülaritesi artan bir çerçevedir.\n",
    "* Keras - sinir ağlarını kullanarak birleştirmek ve basitleştirmek için Tensorflow/PyTorch'un üstünde daha üst seviye API'dir (Francois Chollet).\n",
    "* Tensorflow 2.x + Keras - **dinamik hesaplama çizgesini** destekleyen ve numpy'ya (ve PyTorch'a) çok benzer tensör işlemlerini gerçekleştirmeye olanak tanıyan tümleşik Keras işlevselliğine sahip Tensorflow'un yeni sürümüdür.\n",
    "\n",
    "Tensorflow 2.x ve Keras'ı ele alacağız. Tensorflow'un 2.x.x sürümünün kurulu olduğundan emin olun:\n",
    "```\n",
    "pip install tensorflow\n",
    "```\n",
    "veya\n",
    "```\n",
    "conda install tensorflow\n",
    "```"
   ]
  },
  {
   "cell_type": "code",
   "execution_count": 30,
   "metadata": {
    "colab": {
     "base_uri": "https://localhost:8080/"
    },
    "id": "xwqVx9-bwHl3",
    "outputId": "2aa591b4-b647-441f-9c8e-4e0da2d517a0",
    "tags": []
   },
   "outputs": [
    {
     "name": "stdout",
     "output_type": "stream",
     "text": [
      "2.9.0\n"
     ]
    }
   ],
   "source": [
    "import tensorflow as tf\n",
    "import numpy as np\n",
    "print(tf.__version__)"
   ]
  },
  {
   "cell_type": "markdown",
   "metadata": {
    "id": "6tp2xGV7wHl4"
   },
   "source": [
    "## Temel Kavramlar: Tensör\n",
    "\n",
    "**Tensör** çok boyutlu bir dizilimdir. Farklı veri türlerini temsil etmek için tensörleri kullanmak çok uygundur:\n",
    "* 400x400 - siyah beyaz resim\n",
    "* 400x400x3 - renkli resim\n",
    "* 16x400x400x3 - 16 renkli resimden oluşan minigrup\n",
    "* 25x400x400x3 - 25 fps'lik videonun bir saniyesi\n",
    "* 8x25x400x400x3 - 8 adet 1 saniyelik videodan oluşan minigrup"
   ]
  },
  {
   "cell_type": "markdown",
   "metadata": {
    "id": "qG2bsaR7wHl4"
   },
   "source": [
    "### Basit Tensörler\n",
    "\n",
    "Np dizilimleri listelerinden kolayca basit tensörler oluşturabilir veya rastgele üretebilirsiniz:"
   ]
  },
  {
   "cell_type": "code",
   "execution_count": 31,
   "metadata": {
    "colab": {
     "base_uri": "https://localhost:8080/"
    },
    "id": "ybpnk08HwHl4",
    "outputId": "fad9ed4a-df82-44a0-84ea-324bc71ea46f"
   },
   "outputs": [
    {
     "name": "stdout",
     "output_type": "stream",
     "text": [
      "tf.Tensor(\n",
      "[[1 2]\n",
      " [3 4]], shape=(2, 2), dtype=int32)\n",
      "tf.Tensor(\n",
      "[[-0.15611048 -0.6395791   0.15967956]\n",
      " [ 1.2029059   0.6616139   1.4267689 ]\n",
      " [-0.3284896   0.43672192 -0.30175865]\n",
      " [ 0.0704657  -0.01082341 -1.0820643 ]\n",
      " [-0.1884     -0.22958039  1.9114271 ]\n",
      " [-0.02439586 -1.553597   -1.7745456 ]\n",
      " [-0.05847295 -0.6536034  -0.19704701]\n",
      " [ 0.12037303 -1.0853446  -0.94284475]\n",
      " [-0.513617   -0.0538025  -0.580708  ]\n",
      " [ 0.9643102  -1.971696   -0.7634352 ]], shape=(10, 3), dtype=float32)\n"
     ]
    }
   ],
   "source": [
    "a = tf.constant([[1,2],[3,4]])\n",
    "print(a)\n",
    "a = tf.random.normal(shape=(10,3))\n",
    "print(a)"
   ]
  },
  {
   "cell_type": "markdown",
   "metadata": {
    "id": "AXFMsV3r09Ux"
   },
   "source": [
    "Numpy'de olduğu gibi eleman bazında gerçekleştirilen tensörlerde aritmetik işlemleri kullanabilirsiniz. Gerekirse, tensörler otomatik olarak gerekli boyuta genişletilir. Tensörden numpy-dizilimini  çıkarmak için `.numpy()` kullanın:"
   ]
  },
  {
   "cell_type": "code",
   "execution_count": 32,
   "metadata": {
    "colab": {
     "base_uri": "https://localhost:8080/"
    },
    "id": "e5Nu5Xgj1DnQ",
    "outputId": "0dfc8758-4ffd-4968-c7bf-6ba8d435df2e"
   },
   "outputs": [
    {
     "name": "stdout",
     "output_type": "stream",
     "text": [
      "tf.Tensor(\n",
      "[[ 0.          0.          0.        ]\n",
      " [ 1.3590164   1.301193    1.2670894 ]\n",
      " [-0.17237912  1.0763011  -0.4614382 ]\n",
      " [ 0.22657618  0.6287557  -1.2417438 ]\n",
      " [-0.03228952  0.40999871  1.7517476 ]\n",
      " [ 0.13171463 -0.91401786 -1.9342251 ]\n",
      " [ 0.09763753 -0.01402426 -0.3567266 ]\n",
      " [ 0.2764835  -0.44576544 -1.1025243 ]\n",
      " [-0.3575065   0.5857766  -0.74038756]\n",
      " [ 1.1204207  -1.3321168  -0.9231148 ]], shape=(10, 3), dtype=float32)\n",
      "[0.85546464 0.52751434 1.1731348 ]\n"
     ]
    }
   ],
   "source": [
    "print(a-a[0])\n",
    "print(tf.exp(a)[0].numpy())"
   ]
  },
  {
   "cell_type": "markdown",
   "metadata": {
    "id": "uQ5zN6cVyrG7"
   },
   "source": [
    "## Değişkenler\n",
    "\n",
    "Değişkenler, `assign` (\"atama\") ve `assign_add` (\"atama_topla\") kullanılarak değiştirilebilen tensör değerlerini temsil etmek için kullanışlıdır. Genellikle sinir ağı ağırlıklarını temsil etmek için kullanılırlar.\n",
    "\n",
    "Örnek olarak, `a` tensörünün tüm satırlarının toplamını almanın aptalca bir yolunu görelim:"
   ]
  },
  {
   "cell_type": "code",
   "execution_count": 33,
   "metadata": {
    "colab": {
     "base_uri": "https://localhost:8080/"
    },
    "id": "7pu0UZ-_yqfB",
    "outputId": "6708c83e-02e6-4442-8757-45918eb1fbc2"
   },
   "outputs": [
    {
     "name": "stdout",
     "output_type": "stream",
     "text": [
      "<tf.Variable 'Variable:0' shape=(3,) dtype=float32, numpy=array([ 1.0885689, -5.0996904, -2.1445277], dtype=float32)>\n"
     ]
    }
   ],
   "source": [
    "s = tf.Variable(tf.zeros_like(a[0]))\n",
    "for i in a:\n",
    "  s.assign_add(i)\n",
    "\n",
    "print(s)"
   ]
  },
  {
   "cell_type": "markdown",
   "metadata": {
    "id": "rIh1EHcezlNo"
   },
   "source": [
    "Bunu yapmanın çok daha iyi bir yolu:"
   ]
  },
  {
   "cell_type": "code",
   "execution_count": 34,
   "metadata": {
    "colab": {
     "base_uri": "https://localhost:8080/"
    },
    "id": "aQIdWZ1kzn6P",
    "outputId": "1c123d9a-ecd2-4f2e-828e-5ade85ac8f63"
   },
   "outputs": [
    {
     "data": {
      "text/plain": [
       "<tf.Tensor: shape=(3,), dtype=float32, numpy=array([ 1.0885689, -5.0996904, -2.144528 ], dtype=float32)>"
      ]
     },
     "execution_count": 34,
     "metadata": {},
     "output_type": "execute_result"
    }
   ],
   "source": [
    "tf.reduce_sum(a,axis=0)"
   ]
  },
  {
   "cell_type": "markdown",
   "metadata": {
    "id": "U-auwezDwHl6"
   },
   "source": [
    "## Gradyanları Hesaplama\n",
    "\n",
    "Geri yayma için gradyanları hesaplamanız gerekir. Bu, `tf.GradientTape()` ifadesi kullanılarak yapılır:\n",
    "  * Hesaplamalarımızın çevresine `with tf.GradientTape` bloğunu ekleyin.\n",
    "  * Gradyanları hesaplamamız gereken tensörleri `tape.watch` çağırarak işaretleyin (tüm değişkenler otomatik olarak izlenir).\n",
    "  * İhtiyacımız olan her şeyi hesaplayın (hesaplama çizgesi oluşturun).\n",
    "  * `tape.gradient` kullanarak gradyanları elde edin."
   ]
  },
  {
   "cell_type": "code",
   "execution_count": 35,
   "metadata": {
    "colab": {
     "base_uri": "https://localhost:8080/"
    },
    "id": "m8vFOXr7wHl6",
    "outputId": "860ac72e-50c7-4ff2-f258-747f27194f90"
   },
   "outputs": [
    {
     "name": "stdout",
     "output_type": "stream",
     "text": [
      "tf.Tensor(\n",
      "[[-0.8448666  -0.09937061]\n",
      " [-0.9634435   0.8072742 ]], shape=(2, 2), dtype=float32)\n"
     ]
    }
   ],
   "source": [
    "a = tf.random.normal(shape=(2, 2))\n",
    "b = tf.random.normal(shape=(2, 2))\n",
    "\n",
    "with tf.GradientTape() as tape:\n",
    "  tape.watch(a)  # `a` öğesine uygulanan işlemlerin geçmişini kaydetmeye başlayın\n",
    "  c = tf.sqrt(tf.square(a) + tf.square(b))  # `a`'yı kullanarak biraz matematik yapın\n",
    "  # `c`'nin `a`'ya göre gradyanı nedir?\n",
    "  dc_da = tape.gradient(c, a)\n",
    "  print(dc_da)"
   ]
  },
  {
   "cell_type": "markdown",
   "metadata": {
    "id": "8sfjBMBu59B5"
   },
   "source": [
    "## Örnek 1: Doğrusal Bağlanım\n",
    "\n",
    "Artık klasik **doğrusal bağlanım** problemini çözecek kadar bilgimiz var. Küçük bir sentetik veri kümesi oluşturalım:"
   ]
  },
  {
   "cell_type": "code",
   "execution_count": 36,
   "metadata": {
    "id": "j723455WwHl7"
   },
   "outputs": [],
   "source": [
    "import matplotlib.pyplot as plt\n",
    "from sklearn.datasets import make_classification, make_regression\n",
    "from sklearn.model_selection import train_test_split\n",
    "import random"
   ]
  },
  {
   "cell_type": "code",
   "execution_count": 37,
   "metadata": {
    "colab": {
     "base_uri": "https://localhost:8080/",
     "height": 282
    },
    "id": "WJNK_J6v6I-Z",
    "outputId": "eb4a66a6-6b9a-4c8a-bc24-d81eeb2d3f27"
   },
   "outputs": [
    {
     "data": {
      "text/plain": [
       "<matplotlib.collections.PathCollection at 0x287901dc0>"
      ]
     },
     "execution_count": 37,
     "metadata": {},
     "output_type": "execute_result"
    },
    {
     "data": {
      "image/png": "[encoded data removed]",
      "text/plain": [
       "<Figure size 640x480 with 1 Axes>"
      ]
     },
     "metadata": {},
     "output_type": "display_data"
    }
   ],
   "source": [
    "np.random.seed(13) # yeniden üretilebilirlik için tohumu seçin - rastgele değişimlerim etkilerini keşfetmek için değiştirin\n",
    "\n",
    "train_x = np.linspace(0, 3, 120)\n",
    "train_labels = 2 * train_x + 0.9 + np.random.randn(*train_x.shape) * 0.5\n",
    "\n",
    "plt.scatter(train_x,train_labels)"
   ]
  },
  {
   "cell_type": "markdown",
   "metadata": {
    "id": "Ng4rZmGc6oxk"
   },
   "source": [
    "Doğrusal bağlanım, $f_{W,b}(x) = Wx+b$ doğrusuyla tanımlanır, burada $W$ ve $b$ bulmamız gereken model parametreleridir. $\\{x_i,y_u\\}_{i=1}^N$ (**kayıp işlevi** olarak da adlandırılır) veri kümemizdeki hata, ortalama kare hatası olarak tanımlanabilir:\n",
    "$$\n",
    "\\mathcal{L}(W,b) = {1\\over N}\\sum_{i=1}^N (f_{W,b}(x_i)-y_i)^2\n",
    "$$\n",
    "\n",
    "Modelimizi ve kayıp fonksiyonumuzu tanımlayalım:"
   ]
  },
  {
   "cell_type": "code",
   "execution_count": 38,
   "metadata": {
    "id": "QxhI4GlB6aiH"
   },
   "outputs": [],
   "source": [
    "input_dim = 1\n",
    "output_dim = 1\n",
    "learning_rate = 0.1\n",
    "\n",
    "# Bu bizim ağırlık matrisimiz\n",
    "w = tf.Variable([[100.0]])\n",
    "# Bu bizim ek girdi vektörümüz\n",
    "b = tf.Variable(tf.zeros(shape=(output_dim,)))\n",
    "\n",
    "def f(x):\n",
    "  return tf.matmul(x,w) + b\n",
    "\n",
    "def compute_loss(labels, predictions):\n",
    "  return tf.reduce_mean(tf.square(labels - predictions))"
   ]
  },
  {
   "cell_type": "markdown",
   "metadata": {
    "id": "JUxwj3367gD2"
   },
   "source": [
    "Modeli bir dizi minigrup üzerinde eğiteceğiz. Aşağıdaki formülleri kullanarak model parametrelerini ayarlayarak gradyan inişini kullanacağız:\n",
    "$$\n",
    "\\begin{array}{l}\n",
    "W^{(n+1)}=W^{(n)}-\\eta\\frac{\\partial\\mathcal{L}}{\\partial W} \\\\\n",
    "b^{(n+1)}=b^{(n)}-\\eta\\frac{\\partial\\mathcal{L}}{\\partial b} \\\\\n",
    "\\end{array}\n",
    "$$"
   ]
  },
  {
   "cell_type": "code",
   "execution_count": 39,
   "metadata": {
    "id": "-991PErM7fJU"
   },
   "outputs": [],
   "source": [
    "def train_on_batch(x, y):\n",
    "  with tf.GradientTape() as tape:\n",
    "    predictions = f(x)\n",
    "    loss = compute_loss(y, predictions)\n",
    "    # `tape.gradient` öğesinin bir listeyle de çalıştığını unutmayın (w, b).\n",
    "    dloss_dw, dloss_db = tape.gradient(loss, [w, b])\n",
    "  w.assign_sub(learning_rate * dloss_dw)\n",
    "  b.assign_sub(learning_rate * dloss_db)\n",
    "  return loss"
   ]
  },
  {
   "cell_type": "markdown",
   "metadata": {
    "id": "idr2VEWb9rr0"
   },
   "source": [
    "Eğitimi yapalım. Veri kümesinden (**dönem** olarak adlandırılan) birkaç geçiş yapacağız, onu minigruplara ayıracağız ve yukarıda tanımlanan işlevi çağıracağız:"
   ]
  },
  {
   "cell_type": "code",
   "execution_count": 40,
   "metadata": {
    "id": "nOuu0qpx-wAp"
   },
   "outputs": [],
   "source": [
    "# Verileri karıştırın.\n",
    "indices = np.random.permutation(len(train_x))\n",
    "features = tf.constant(train_x[indices],dtype=tf.float32)\n",
    "labels = tf.constant(train_labels[indices],dtype=tf.float32)"
   ]
  },
  {
   "cell_type": "code",
   "execution_count": 41,
   "metadata": {
    "colab": {
     "base_uri": "https://localhost:8080/"
    },
    "id": "3zdIf6c_85Ht",
    "outputId": "43b04684-8b90-4c65-d5ff-20ebac61c73c"
   },
   "outputs": [
    {
     "name": "stdout",
     "output_type": "stream",
     "text": [
      "Dönem 0: son toplu iş kaybı = 94.5247\n",
      "Dönem 1: son toplu iş kaybı = 9.3428\n",
      "Dönem 2: son toplu iş kaybı = 1.4166\n",
      "Dönem 3: son toplu iş kaybı = 0.5224\n",
      "Dönem 4: son toplu iş kaybı = 0.3807\n",
      "Dönem 5: son toplu iş kaybı = 0.3495\n",
      "Dönem 6: son toplu iş kaybı = 0.3413\n",
      "Dönem 7: son toplu iş kaybı = 0.3390\n",
      "Dönem 8: son toplu iş kaybı = 0.3384\n",
      "Dönem 9: son toplu iş kaybı = 0.3382\n"
     ]
    }
   ],
   "source": [
    "batch_size = 4\n",
    "for epoch in range(10):\n",
    "  for i in range(0,len(features),batch_size):\n",
    "    loss = train_on_batch(tf.reshape(features[i:i+batch_size],(-1,1)),tf.reshape(labels[i:i+batch_size],(-1,1)))\n",
    "  print('Dönem %d: son toplu iş kaybı = %.4f' % (epoch, float(loss)))"
   ]
  },
  {
   "cell_type": "markdown",
   "metadata": {},
   "source": [
    "Artık optimize edilmiş $W$ ve $b$ parametrelerini elde ettik. Değerlerinin, veri kümesi oluşturulurken kullanılan orijinal değerlere benzer olduğuna dikkat edin ($W=2, b=1$)"
   ]
  },
  {
   "cell_type": "code",
   "execution_count": 42,
   "metadata": {
    "colab": {
     "base_uri": "https://localhost:8080/"
    },
    "id": "US6q0nCBD-LL",
    "outputId": "65a79620-a3eb-445b-aafb-60a60575ab0e"
   },
   "outputs": [
    {
     "data": {
      "text/plain": [
       "(<tf.Variable 'Variable:0' shape=(1, 1) dtype=float32, numpy=array([[1.8616778]], dtype=float32)>,\n",
       " <tf.Variable 'Variable:0' shape=(1,) dtype=float32, numpy=array([1.0710956], dtype=float32)>)"
      ]
     },
     "execution_count": 42,
     "metadata": {},
     "output_type": "execute_result"
    }
   ],
   "source": [
    "w,b"
   ]
  },
  {
   "cell_type": "code",
   "execution_count": 43,
   "metadata": {
    "colab": {
     "base_uri": "https://localhost:8080/",
     "height": 282
    },
    "id": "_e6xRMZFDnyI",
    "outputId": "d202b7fe-4383-4d82-b98e-a20f3180093e"
   },
   "outputs": [
    {
     "data": {
      "text/plain": [
       "[<matplotlib.lines.Line2D at 0x2bd8b0ca0>]"
      ]
     },
     "execution_count": 43,
     "metadata": {},
     "output_type": "execute_result"
    },
    {
     "data": {
      "image/png": "[encoded data removed]",
      "text/plain": [
       "<Figure size 640x480 with 1 Axes>"
      ]
     },
     "metadata": {},
     "output_type": "display_data"
    }
   ],
   "source": [
    "plt.scatter(train_x,train_labels)\n",
    "x = np.array([min(train_x),max(train_x)])\n",
    "y = w.numpy()[0,0]*x+b.numpy()[0]\n",
    "plt.plot(x,y,color='red')"
   ]
  },
  {
   "cell_type": "markdown",
   "metadata": {
    "id": "0giuwC9GHzi8"
   },
   "source": [
    "## Hesaplamalı Çizge ve GPU Hesaplamaları\n",
    "\n",
    "Tensör ifadesini her hesapladığımızda, Tensorflow, mevcut bilgi işlem cihazında, CPU veya GPU, hesaplanabilen bir hesaplamalı çizge oluşturur. Kodumuzda keyfi Python işlevi kullandığımız için, bunlar hesaplamalı çizgenin bir parçası olarak dahil edilemezler ve bu nedenle kodumuzu GPU'da çalıştırırken verileri CPU ve GPU arasında ileri geri iletmemiz ve CPU'da özelleştirilmiş işlevi hesaplamamız gerekir.\n",
    "\n",
    "Tensorflow, Python işlevimizi, bu işlevi aynı hesaplamalı çizgenin bir parçası yapacak olan `@tf.function` dekoratörünü kullanarak işaretlememizi sağlar. Bu dekoratör, standart Tensorflow tensör işlemlerini kullanan işlevlere uygulanabilir."
   ]
  },
  {
   "cell_type": "code",
   "execution_count": 44,
   "metadata": {
    "id": "HK7HPLz3Hyrl"
   },
   "outputs": [],
   "source": [
    "@tf.function\n",
    "def train_on_batch(x, y):\n",
    "  with tf.GradientTape() as tape:\n",
    "    predictions = f(x)\n",
    "    loss = compute_loss(y, predictions)\n",
    "    # `tape.gradient` öğesinin bir listeyle de çalıştığını unutmayın (w, b).\n",
    "    dloss_dw, dloss_db = tape.gradient(loss, [w, b])\n",
    "  w.assign_sub(learning_rate * dloss_dw)\n",
    "  b.assign_sub(learning_rate * dloss_db)\n",
    "  return loss"
   ]
  },
  {
   "cell_type": "markdown",
   "metadata": {
    "id": "J7HusxWkGjLX"
   },
   "source": [
    "Kod değişmedi, ancak bu kodu GPU'da ve daha büyük veri kümesinde çalıştırıyor olsaydınız, hızdaki farkı fark ederdiniz.\n",
    "\n",
    "## Veri Kümesi API'si\n",
    "\n",
    "Tensorflow, verilerle çalışmak için uygun bir API içerir. Kullanmaya çalışalım. Modelimizi de sıfırdan eğiteceğiz."
   ]
  },
  {
   "cell_type": "code",
   "execution_count": 45,
   "metadata": {
    "colab": {
     "base_uri": "https://localhost:8080/"
    },
    "id": "oYro9Lbr8q0M",
    "outputId": "78c0a6de-71bd-4eef-8819-439495b28672"
   },
   "outputs": [
    {
     "name": "stdout",
     "output_type": "stream",
     "text": [
      "Dönem 0: son toplu iş kaybı = 173.4585\n",
      "Dönem 1: son toplu iş kaybı = 13.8459\n",
      "Dönem 2: son toplu iş kaybı = 4.5407\n",
      "Dönem 3: son toplu iş kaybı = 3.7364\n",
      "Dönem 4: son toplu iş kaybı = 3.4334\n",
      "Dönem 5: son toplu iş kaybı = 3.1790\n",
      "Dönem 6: son toplu iş kaybı = 2.9458\n",
      "Dönem 7: son toplu iş kaybı = 2.7311\n",
      "Dönem 8: son toplu iş kaybı = 2.5332\n",
      "Dönem 9: son toplu iş kaybı = 2.3508\n"
     ]
    },
    {
     "name": "stderr",
     "output_type": "stream",
     "text": [
      "2022-11-06 18:27:07.717288: I tensorflow/core/grappler/optimizers/custom_graph_optimizer_registry.cc:113] Plugin optimizer for device_type GPU is enabled.\n"
     ]
    }
   ],
   "source": [
    "w.assign([[10.0]])\n",
    "b.assign([0.0])\n",
    "\n",
    "# Kolay toplu yineleme için bir tf.data.Dataset nesnesi oluşturun\n",
    "dataset = tf.data.Dataset.from_tensor_slices((train_x.astype(np.float32), train_labels.astype(np.float32)))\n",
    "dataset = dataset.shuffle(buffer_size=1024).batch(256)\n",
    "\n",
    "for epoch in range(10):\n",
    "  for step, (x, y) in enumerate(dataset):\n",
    "    loss = train_on_batch(tf.reshape(x,(-1,1)), tf.reshape(y,(-1,1)))\n",
    "  print('Dönem %d: son toplu iş kaybı = %.4f' % (epoch, float(loss)))"
   ]
  },
  {
   "cell_type": "markdown",
   "metadata": {
    "id": "A10prCPowHl7"
   },
   "source": [
    "## Örnek 2: Sınıflandırma\n",
    "\n",
    "Şimdi ikili sınıflandırma problemini ele alacağız. Böyle bir soruna iyi bir örnek, boyutuna ve yaşına göre habis ve iyi huylu arasında bir tümör sınıflandırması olabilir.\n",
    "\n",
    "Çekirdek model bağlanıma benzer, ancak farklı kayıp işlevi kullanmamız gerekiyor. Örnek veriler üreterek başlayalım:\n"
   ]
  },
  {
   "cell_type": "code",
   "execution_count": 46,
   "metadata": {
    "id": "j0OTPkGpwHl7"
   },
   "outputs": [],
   "source": [
    "np.random.seed(0) # yeniden üretilebilirlik için tohumu seçin - rastgele değişimlerin etkilerini keşfetmek için değiştirin\n",
    "\n",
    "n = 100\n",
    "X, Y = make_classification(n_samples = n, n_features=2,\n",
    "                           n_redundant=0, n_informative=2, flip_y=0.05,class_sep=1.5)\n",
    "X = X.astype(np.float32)\n",
    "Y = Y.astype(np.int32)\n",
    "\n",
    "split = [ 70*n//100, (15+70)*n//100 ]\n",
    "train_x, valid_x, test_x = np.split(X, split)\n",
    "train_labels, valid_labels, test_labels = np.split(Y, split)"
   ]
  },
  {
   "cell_type": "code",
   "execution_count": 47,
   "metadata": {
    "id": "c-_BjSHPwHl8"
   },
   "outputs": [],
   "source": [
    "def plot_dataset(features, labels, W=None, b=None):\n",
    "    # çizimi hazırla\n",
    "    fig, ax = plt.subplots(1, 1)\n",
    "    ax.set_xlabel('$x_i[0]$ -- (öznitelik 1)')\n",
    "    ax.set_ylabel('$x_i[1]$ -- (öznitelik 2)')\n",
    "    colors = ['r' if l else 'b' for l in labels]\n",
    "    ax.scatter(features[:, 0], features[:, 1], marker='o', c=colors, s=100, alpha = 0.5)\n",
    "    if W is not None:\n",
    "        min_x = min(features[:,0])\n",
    "        max_x = max(features[:,1])\n",
    "        min_y = min(features[:,1])*(1-.1)\n",
    "        max_y = max(features[:,1])*(1+.1)\n",
    "        cx = np.array([min_x,max_x],dtype=np.float32)\n",
    "        cy = (0.5-W[0]*cx-b)/W[1]\n",
    "        ax.plot(cx,cy,'g')\n",
    "        ax.set_ylim(min_y,max_y)\n",
    "    fig.show()"
   ]
  },
  {
   "cell_type": "code",
   "execution_count": 48,
   "metadata": {
    "colab": {
     "base_uri": "https://localhost:8080/",
     "height": 283
    },
    "id": "tq0vFchQwHl8",
    "outputId": "9a5aa6a0-c92f-4d72-9e78-c0f615804bff"
   },
   "outputs": [
    {
     "name": "stderr",
     "output_type": "stream",
     "text": [
      "/var/folders/_l/jnklp1bj4cl95rc01tf5vx4h0000gn/T/ipykernel_36985/2482543244.py:17: UserWarning: Matplotlib is currently using module://matplotlib_inline.backend_inline, which is a non-GUI backend, so cannot show the figure.\n",
      "  fig.show()\n"
     ]
    },
    {
     "data": {
      "image/png": "[encoded data removed]",
      "text/plain": [
       "<Figure size 640x480 with 1 Axes>"
      ]
     },
     "metadata": {},
     "output_type": "display_data"
    }
   ],
   "source": [
    "plot_dataset(train_x, train_labels)"
   ]
  },
  {
   "cell_type": "markdown",
   "metadata": {},
   "source": [
    "## Verileri Normalleştirme\n",
    "\n",
    "Eğitimden önce, girdi özniteliklerimizi [0,1] (veya [-1,1]) standart aralığına getirmek yaygındır. Bunun kesin nedenlerini dersin ilerleyen kısımlarında tartışacağız, ancak kısaca nedeni şudur. Ağımız üzerinden akan değerlerin çok büyük veya çok küçük olmasını önlemek istiyoruz ve normalde küçük aralıktaki tüm değerleri 0'a yakın tutmayı kabul ediyoruz. Böylece ağırlıkları küçük rastgele sayılarla ilkliyoruz ve sinyalleri aynı aralıkta tutuyoruz.\n",
    "\n",
    "Verileri normalleştirirken en küçük değeri çıkarmamız ve aralık boyuna bölmemiz gerekiyor. Eğitim verilerini kullanarak minimum değeri ve aralığı hesaplıyoruz ve ardından eğitim kümesindeki aynı minimum/aralık değerlerini kullanarak test/geçerleme veri kümesini normalleştiriyoruz. Bunun nedeni, gerçek hayatta ağın tahmin etmesi istenecek tüm gelen yeni değerleri değil sadece eğitim kümesini bileceğiz. Bazen yeni değerler [0,1] aralığının dışına çıkabilir, ancak bu çok önemli değildir."
   ]
  },
  {
   "cell_type": "code",
   "execution_count": 49,
   "metadata": {},
   "outputs": [],
   "source": [
    "train_x_norm = (train_x-np.min(train_x)) / (np.max(train_x)-np.min(train_x))\n",
    "valid_x_norm = (valid_x-np.min(train_x)) / (np.max(train_x)-np.min(train_x))\n",
    "test_x_norm = (test_x-np.min(train_x)) / (np.max(train_x)-np.min(train_x))"
   ]
  },
  {
   "cell_type": "markdown",
   "metadata": {
    "id": "SjPlpf2-wHl8"
   },
   "source": [
    "## Tek Katmanlı Algılayıcı Eğitme\n",
    "\n",
    "Tek katmanlı algılayıcıyı eğitmek için Tensorflow gradyan hesaplama araçlarını kullanalım.\n",
    "\n",
    "Sinir ağımızın 2 girdisi ve 1 çıktısı olacaktır. $W$ ağırlık matrisinin boyutu $2\\times1$ ve ek girdi vektörü $b$ -- $1$ olacaktır.\n",
    "\n",
    "Çekirdek model önceki örnektekiyle aynı olacaktır, ancak kayıp fonksiyonu lojistik kayıp olacaktır. Lojistik kaybı uygulamak için, ağımızın çıktısı olarak **olasılık** değerini almamız gerekiyor, yani `sigmoid` etkinleştirme işlevini kullanarak $z$ çıktısını [0,1] aralığına getirmemiz gerekiyor: $ p=\\sigma(z)$.\n",
    "\n",
    "Gerçek $y_i\\in\\{0,1\\}$ sınıfına karşılık gelen i. girdi değeri için $p_i$ olasılığını alırsak, kaybı $\\mathcal{L_i}=-(y_i\\log p_i + (1-y_i)log(1-p_i))$ olarak hesaplarız.\n",
    "\n",
    "Tensorflow'da, bu adımların her ikisi de (sigmoid ve ardından lojistik kayıp uygulamak), `sigmoid_cross_entropy_with_logits` işlevine bir çağrı kullanılarak yapılabilir. Ağımızı minigruplar halinde eğittiğimiz için, `reduce_mean` kullanarak bir minigrubun tüm öğelerindeki kaybın ortalamasını almamız gerekiyor:"
   ]
  },
  {
   "cell_type": "code",
   "execution_count": 50,
   "metadata": {
    "id": "kdDxWeCqwHl8"
   },
   "outputs": [],
   "source": [
    "W = tf.Variable(tf.random.normal(shape=(2,1)),dtype=tf.float32)\n",
    "b = tf.Variable(tf.zeros(shape=(1,),dtype=tf.float32))\n",
    "\n",
    "learning_rate = 0.1\n",
    "\n",
    "@tf.function\n",
    "def train_on_batch(x, y):\n",
    "  with tf.GradientTape() as tape:\n",
    "    z = tf.matmul(x, W) + b\n",
    "    loss = tf.reduce_mean(tf.nn.sigmoid_cross_entropy_with_logits(labels=y,logits=z))\n",
    "  dloss_dw, dloss_db = tape.gradient(loss, [W, b])\n",
    "  W.assign_sub(learning_rate * dloss_dw)\n",
    "  b.assign_sub(learning_rate * dloss_db)\n",
    "  return loss"
   ]
  },
  {
   "cell_type": "markdown",
   "metadata": {
    "id": "zAAgw0h6KzUd"
   },
   "source": [
    "16 elemandan oluşan minigrupları kullanacağız ve birkaç dönemlik eğitim yapacağız:"
   ]
  },
  {
   "cell_type": "code",
   "execution_count": 51,
   "metadata": {
    "colab": {
     "base_uri": "https://localhost:8080/"
    },
    "id": "PfyqjVb2wHl8",
    "outputId": "308850b8-fe17-4cda-ac27-8bcda210f113"
   },
   "outputs": [
    {
     "name": "stderr",
     "output_type": "stream",
     "text": [
      "2022-11-06 18:27:07.945330: I tensorflow/core/grappler/optimizers/custom_graph_optimizer_registry.cc:113] Plugin optimizer for device_type GPU is enabled.\n"
     ]
    },
    {
     "name": "stdout",
     "output_type": "stream",
     "text": [
      "Dönem 0: son toplu iş kaybı = 0.6366\n",
      "Dönem 1: son toplu iş kaybı = 0.7524\n",
      "Dönem 2: son toplu iş kaybı = 0.7179\n",
      "Dönem 3: son toplu iş kaybı = 0.6107\n",
      "Dönem 4: son toplu iş kaybı = 0.6817\n",
      "Dönem 5: son toplu iş kaybı = 0.6261\n",
      "Dönem 6: son toplu iş kaybı = 0.6710\n",
      "Dönem 7: son toplu iş kaybı = 0.5960\n",
      "Dönem 8: son toplu iş kaybı = 0.6175\n",
      "Dönem 9: son toplu iş kaybı = 0.5421\n"
     ]
    }
   ],
   "source": [
    "# Kolay toplu yineleme için bir tf.data.Dataset nesnesi oluşturun\n",
    "dataset = tf.data.Dataset.from_tensor_slices((train_x_norm.astype(np.float32), train_labels.astype(np.float32)))\n",
    "dataset = dataset.shuffle(128).batch(2)\n",
    "\n",
    "for epoch in range(10):\n",
    "  for step, (x, y) in enumerate(dataset):\n",
    "    loss = train_on_batch(x, tf.expand_dims(y,1))\n",
    "  print('Dönem %d: son toplu iş kaybı = %.4f' % (epoch, float(loss)))"
   ]
  },
  {
   "cell_type": "markdown",
   "metadata": {
    "id": "s4_Atvn5K4K9"
   },
   "source": [
    "Eğitimimizin işe yaradığından emin olmak için iki sınıfı ayıran doğruyu çizelim. Ayırma doğrusu $W\\times x + b = 0.5$ denklemiyle tanımlanır."
   ]
  },
  {
   "cell_type": "code",
   "execution_count": 52,
   "metadata": {
    "colab": {
     "base_uri": "https://localhost:8080/",
     "height": 283
    },
    "id": "PgRTHttLwHl9",
    "outputId": "e4407e1b-edf5-48e5-fdc2-da28120a3c6b"
   },
   "outputs": [
    {
     "name": "stderr",
     "output_type": "stream",
     "text": [
      "/var/folders/_l/jnklp1bj4cl95rc01tf5vx4h0000gn/T/ipykernel_36985/2482543244.py:17: UserWarning: Matplotlib is currently using module://matplotlib_inline.backend_inline, which is a non-GUI backend, so cannot show the figure.\n",
      "  fig.show()\n"
     ]
    },
    {
     "data": {
      "image/png": "[encoded data removed]",
      "text/plain": [
       "<Figure size 640x480 with 1 Axes>"
      ]
     },
     "metadata": {},
     "output_type": "display_data"
    }
   ],
   "source": [
    "plot_dataset(train_x,train_labels,W.numpy(),b.numpy())"
   ]
  },
  {
   "cell_type": "markdown",
   "metadata": {},
   "source": [
    "Modelimizin geçerleme verileri üzerinde nasıl davrandığını görelim."
   ]
  },
  {
   "cell_type": "code",
   "execution_count": 53,
   "metadata": {
    "colab": {
     "base_uri": "https://localhost:8080/",
     "height": 282
    },
    "id": "oEQswfCGrmHw",
    "outputId": "3cf61882-60e1-4baa-8e51-0c31ea80875c"
   },
   "outputs": [
    {
     "data": {
      "text/plain": [
       "<matplotlib.collections.PathCollection at 0x150250ca0>"
      ]
     },
     "execution_count": 53,
     "metadata": {},
     "output_type": "execute_result"
    },
    {
     "data": {
      "image/png": "[encoded data removed]",
      "text/plain": [
       "<Figure size 640x480 with 2 Axes>"
      ]
     },
     "metadata": {},
     "output_type": "display_data"
    }
   ],
   "source": [
    "pred = tf.matmul(test_x,W)+b\n",
    "fig,ax = plt.subplots(1,2)\n",
    "ax[0].scatter(test_x[:,0],test_x[:,1],c=pred[:,0]>0.5)\n",
    "ax[1].scatter(test_x[:,0],test_x[:,1],c=valid_labels)"
   ]
  },
  {
   "cell_type": "markdown",
   "metadata": {},
   "source": [
    "Geçerleme verilerinin doğruluğunu hesaplamak için boole (boolean) türünü float (kayan virgüllü sayı) türüne çevirebilir ve ortalamayı hesaplayabiliriz:"
   ]
  },
  {
   "cell_type": "code",
   "execution_count": 54,
   "metadata": {
    "colab": {
     "base_uri": "https://localhost:8080/"
    },
    "id": "HUjdeIefsIsg",
    "outputId": "f267f505-8ba4-43ef-9ebe-df124c3c05a1"
   },
   "outputs": [
    {
     "data": {
      "text/plain": [
       "<tf.Tensor: shape=(), dtype=float32, numpy=0.4666667>"
      ]
     },
     "execution_count": 54,
     "metadata": {},
     "output_type": "execute_result"
    }
   ],
   "source": [
    "tf.reduce_mean(tf.cast(((pred[0]>0.5)==test_labels),tf.float32))"
   ]
  },
  {
   "cell_type": "markdown",
   "metadata": {},
   "source": [
    "Burada neler olduğunu açıklayalım:\n",
    "* `pred`, ağ tarafından tahmin edilen değerlerdir. Tam olasılık değiller, çünkü bir etkinleştirme işlevi kullanmadık, ancak 0.5'ten büyük değerler sınıf 1'e ve daha küçük değerler sınıf 0'a karşılık gelir.\n",
    "* `pred[0]>0.5`, sonuçların bir boole tensörünü oluşturur; burada `True` sınıf 1'e ve `False` - sınıf 0'a karşılık gelir.\n",
    "* Bu tensörü, `True` doğru tahmine ve `False` yanlış olana karşılık gelen beklenen boole vektörünü veya doğru tahminleri elde ederek, `valid_labels` (geçerli etiketler) etiketleriyle karşılaştırırız.\n",
    "* `tf.cast` kullanarak bu tensörü kayan virgüllü sayıya dönüştürüyoruz.\n",
    "* Daha sonra ortalama değeri `tf.reduce_mean` kullanarak hesaplarız - bu tam olarak bizim istediğimiz doğruluktur."
   ]
  },
  {
   "cell_type": "markdown",
   "metadata": {
    "id": "_95qF9lY2kHp"
   },
   "source": [
    "## TensorFlow/Keras Optimize Edicileri Kullanma\n",
    "\n",
    "Tensorflow, birçok kullanışlı işlevsellik içeren Keras ile yakından tümleştirilmiştir. Örneğin, farklı **eniyileme (optimizasyon) algoritmaları** kullanabiliriz. Bunu yapalım ve ayrıca eğitim sırasında elde edilen doğruluğu yazdıralım."
   ]
  },
  {
   "cell_type": "code",
   "execution_count": 55,
   "metadata": {
    "colab": {
     "base_uri": "https://localhost:8080/"
    },
    "id": "ups7nlV22ofp",
    "outputId": "aa4dff06-82b9-4b2f-ca00-33970ea2b989"
   },
   "outputs": [
    {
     "name": "stderr",
     "output_type": "stream",
     "text": [
      "2022-11-06 18:27:09.139136: I tensorflow/core/grappler/optimizers/custom_graph_optimizer_registry.cc:113] Plugin optimizer for device_type GPU is enabled.\n"
     ]
    },
    {
     "name": "stdout",
     "output_type": "stream",
     "text": [
      "Dönem 0: son topluiş kaybı = 7.6350, acc = 0.5000\n",
      "Dönem 1: son topluiş kaybı = 7.5484, acc = 0.5000\n",
      "Dönem 2: son topluiş kaybı = 7.4980, acc = 1.0000\n",
      "Dönem 3: son topluiş kaybı = 7.1606, acc = 1.0000\n",
      "Dönem 4: son topluiş kaybı = 7.3958, acc = 1.0000\n",
      "Dönem 5: son topluiş kaybı = 7.6092, acc = 0.5000\n",
      "Dönem 6: son topluiş kaybı = 7.5016, acc = 0.5000\n",
      "Dönem 7: son topluiş kaybı = 6.5573, acc = 1.0000\n",
      "Dönem 8: son topluiş kaybı = 8.2018, acc = 0.5000\n",
      "Dönem 9: son topluiş kaybı = 6.9698, acc = 1.0000\n",
      "Dönem 10: son topluiş kaybı = 6.9775, acc = 1.0000\n",
      "Dönem 11: son topluiş kaybı = 7.1308, acc = 1.0000\n",
      "Dönem 12: son topluiş kaybı = 7.2976, acc = 1.0000\n",
      "Dönem 13: son topluiş kaybı = 7.2084, acc = 1.0000\n",
      "Dönem 14: son topluiş kaybı = 6.7165, acc = 1.0000\n",
      "Dönem 15: son topluiş kaybı = 6.5100, acc = 1.0000\n",
      "Dönem 16: son topluiş kaybı = 6.8080, acc = 1.0000\n",
      "Dönem 17: son topluiş kaybı = 6.1264, acc = 1.0000\n",
      "Dönem 18: son topluiş kaybı = 5.5414, acc = 1.0000\n",
      "Dönem 19: son topluiş kaybı = 4.6002, acc = 1.0000\n"
     ]
    }
   ],
   "source": [
    "optimizer = tf.keras.optimizers.Adam(0.01)\n",
    "\n",
    "W = tf.Variable(tf.random.normal(shape=(2,1)))\n",
    "b = tf.Variable(tf.zeros(shape=(1,),dtype=tf.float32))\n",
    "\n",
    "@tf.function\n",
    "def train_on_batch(x, y):\n",
    "  vars = [W, b]\n",
    "  with tf.GradientTape() as tape:\n",
    "    z = tf.sigmoid(tf.matmul(x, W) + b)\n",
    "    loss = tf.reduce_mean(tf.keras.losses.binary_crossentropy(z,y))\n",
    "    correct_prediction = tf.equal(tf.round(y), tf.round(z))\n",
    "    acc = tf.reduce_mean(tf.cast(correct_prediction, tf.float32))\n",
    "    grads = tape.gradient(loss, vars)\n",
    "    optimizer.apply_gradients(zip(grads,vars))\n",
    "  return loss,acc\n",
    "\n",
    "for epoch in range(20):\n",
    "  for step, (x, y) in enumerate(dataset):\n",
    "    loss,acc = train_on_batch(tf.reshape(x,(-1,2)), tf.reshape(y,(-1,1)))\n",
    "  print('Dönem %d: son toplu iş kaybı = %.4f, acc = %.4f' % (epoch, float(loss),acc))"
   ]
  },
  {
   "cell_type": "markdown",
   "metadata": {
    "id": "dvAiaj_JndyP"
   },
   "source": [
    "**Görev 1**: Eğitim sırasında kayıp fonksiyonu ve eğitim ve geçerleme verileri üzerindeki doğruluk grafiklerini çizin.\n",
    "\n",
    "**Görev 2**: Bu kodu kullanarak MNIST sınıflandırma problemini çözmeye çalışın. İpucu: Kayıp işlevi olarak `softmax_crossentropy_with_logits` veya `sparse_softmax_cross_entropy_with_logits` kullanın. İlk durumda, beklenen çıktı değerlerini *birebir kodlanmış* ve ikinci durumda, tamsayı sınıf numarası olarak beslemeniz gerekir."
   ]
  },
  {
   "cell_type": "markdown",
   "metadata": {
    "id": "995iCprDrgYQ"
   },
   "source": [
    "## Keras\n",
    "### İnsanlar için Derin Öğrenme\n",
    "\n",
    "* Keras, başlangıçta Francois Chollet tarafından Tensorflow, CNTK ve Theano üzerinde çalışmak ve tüm alt seviye çerçeveleri birleştirmek için geliştirilmiş bir kütüphanedir. Hala Keras'ı ayrı bir kitaplık olarak kurabilirsiniz, ancak bunu yapmanız önerilmez.\n",
    "* Artık Keras, Tensorflow kütüphanesinin bir parçası olarak dahil edilmiştir.\n",
    "* Katmanlardan kolayca sinir ağları oluşturabilirsiniz.\n",
    "* Tüm eğitimi yapmak için `fit` işlevinin yanı sıra tipik verilerle (resimler, metinler, vb.) çalışmak için birçok işlev içerir. \n",
    "* Çok sayıda örnek vardır.\n",
    "* İşlevsel API ve Ardışık API içerir.\n",
    "\n",
    "Keras, sinir ağları için daha yüksek düzeyde soyutlamalar sağlayarak, tensörler ve gradyanlar açısından değil, katmanlar, modeller ve optimize ediciler açısından çalışmamıza olanak tanır.\n",
    "\n",
    "Keras'ın yaratıcısından Klasik Derin Öğrenme kitabına bakabilirsiniz: [Python ile Derin Öğrenme](https://www.manning.com/books/deep-learning-with-python)\n",
    "\n",
    "### İşlevsel API\n",
    "\n",
    "İşlevsel API'yi kullanırken, ağa **girdi**yi `keras.Input` olarak tanımlarız ve ardından bir dizi hesaplamadan geçirerek **çıktı**yı hesaplarız. Son olarak, **model**i girdiyi çıktıya dönüştüren bir nesne olarak tanımlarız.\n",
    "\n",
    "**Model** nesnesini elde ettikten sonra şunları yapmamız gerekir:\n",
    "* Kayıp işlevini ve modelimizde kullanmak istediğimiz optimize ediciyi belirterek **derlemek**, \n",
    "* Eğitim (ve muhtemelen geçerleme) verileriyle `fit` işlevini çağırarak **eğitmek**."
   ]
  },
  {
   "cell_type": "code",
   "execution_count": 56,
   "metadata": {
    "colab": {
     "base_uri": "https://localhost:8080/"
    },
    "id": "QJWplVfy34Eo",
    "outputId": "9be976f2-4f9a-495c-bddc-a7f9ec30989a"
   },
   "outputs": [
    {
     "name": "stdout",
     "output_type": "stream",
     "text": [
      "Model: \"model_1\"\n",
      "_________________________________________________________________\n",
      " Layer (type)                Output Shape              Param #   \n",
      "=================================================================\n",
      " input_2 (InputLayer)        [(None, 2)]               0         \n",
      "                                                                 \n",
      " dense_3 (Dense)             (None, 1)                 3         \n",
      "                                                                 \n",
      "=================================================================\n",
      "Total params: 3\n",
      "Trainable params: 3\n",
      "Non-trainable params: 0\n",
      "_________________________________________________________________\n",
      "Epoch 1/15\n",
      "7/9 [======================>.......] - ETA: 0s - loss: 0.7315 - accuracy: 0.4107"
     ]
    },
    {
     "name": "stderr",
     "output_type": "stream",
     "text": [
      "2022-11-06 18:27:11.824716: I tensorflow/core/grappler/optimizers/custom_graph_optimizer_registry.cc:113] Plugin optimizer for device_type GPU is enabled.\n"
     ]
    },
    {
     "name": "stdout",
     "output_type": "stream",
     "text": [
      "9/9 [==============================] - 0s 16ms/step - loss: 0.7176 - accuracy: 0.5000\n",
      "Epoch 2/15\n",
      "9/9 [==============================] - 0s 8ms/step - loss: 0.6572 - accuracy: 0.7429\n",
      "Epoch 3/15\n",
      "9/9 [==============================] - 0s 8ms/step - loss: 0.6184 - accuracy: 0.9143\n",
      "Epoch 4/15\n",
      "9/9 [==============================] - 0s 9ms/step - loss: 0.5828 - accuracy: 0.9429\n",
      "Epoch 5/15\n",
      "9/9 [==============================] - 0s 8ms/step - loss: 0.5538 - accuracy: 0.8571\n",
      "Epoch 6/15\n",
      "9/9 [==============================] - 0s 9ms/step - loss: 0.5182 - accuracy: 0.9143\n",
      "Epoch 7/15\n",
      "9/9 [==============================] - 0s 7ms/step - loss: 0.4968 - accuracy: 0.9429\n",
      "Epoch 8/15\n",
      "9/9 [==============================] - 0s 6ms/step - loss: 0.4673 - accuracy: 0.9571\n",
      "Epoch 9/15\n",
      "9/9 [==============================] - 0s 7ms/step - loss: 0.4494 - accuracy: 0.9286\n",
      "Epoch 10/15\n",
      "9/9 [==============================] - 0s 7ms/step - loss: 0.4311 - accuracy: 0.9286\n",
      "Epoch 11/15\n",
      "9/9 [==============================] - 0s 7ms/step - loss: 0.4169 - accuracy: 0.9429\n",
      "Epoch 12/15\n",
      "9/9 [==============================] - 0s 6ms/step - loss: 0.4003 - accuracy: 0.9286\n",
      "Epoch 13/15\n",
      "9/9 [==============================] - 0s 7ms/step - loss: 0.3950 - accuracy: 0.9000\n",
      "Epoch 14/15\n",
      "9/9 [==============================] - 0s 7ms/step - loss: 0.3740 - accuracy: 0.9286\n",
      "Epoch 15/15\n",
      "9/9 [==============================] - 0s 6ms/step - loss: 0.3659 - accuracy: 0.9429\n"
     ]
    }
   ],
   "source": [
    "inputs = tf.keras.Input(shape=(2,))\n",
    "z = tf.keras.layers.Dense(1,kernel_initializer='glorot_uniform',activation='sigmoid')(inputs)\n",
    "model = tf.keras.models.Model(inputs,z)\n",
    "\n",
    "model.compile(tf.keras.optimizers.Adam(0.1),'binary_crossentropy',['accuracy'])\n",
    "model.summary()\n",
    "h = model.fit(train_x_norm,train_labels,batch_size=8,epochs=15)"
   ]
  },
  {
   "cell_type": "code",
   "execution_count": 57,
   "metadata": {
    "colab": {
     "base_uri": "https://localhost:8080/",
     "height": 282
    },
    "id": "K2Kf60IrZcqs",
    "outputId": "b60b868d-3562-4715-f5d5-1f9764e45f09"
   },
   "outputs": [
    {
     "data": {
      "text/plain": [
       "[<matplotlib.lines.Line2D at 0x1517250a0>]"
      ]
     },
     "execution_count": 57,
     "metadata": {},
     "output_type": "execute_result"
    },
    {
     "data": {
      "image/png": "[encoded data removed]",
      "text/plain": [
       "<Figure size 640x480 with 1 Axes>"
      ]
     },
     "metadata": {},
     "output_type": "display_data"
    }
   ],
   "source": [
    "plt.plot(h.history['accuracy'])"
   ]
  },
  {
   "cell_type": "markdown",
   "metadata": {
    "id": "iJruFXmb_dur"
   },
   "source": [
    "### Ardışık API\n",
    "\n",
    "Alternatif olarak, bir modeli **katmanlar dizisi** olarak düşünmeye başlayabilir ve bu katmanları `model` nesnesine ekleyerek belirtebiliriz:"
   ]
  },
  {
   "cell_type": "code",
   "execution_count": 58,
   "metadata": {
    "colab": {
     "base_uri": "https://localhost:8080/"
    },
    "id": "iWc_kSr8_YXt",
    "outputId": "345dbe65-629d-468f-ed75-1d412c966340"
   },
   "outputs": [
    {
     "name": "stdout",
     "output_type": "stream",
     "text": [
      "Model: \"sequential_1\"\n",
      "_________________________________________________________________\n",
      " Layer (type)                Output Shape              Param #   \n",
      "=================================================================\n",
      " dense_4 (Dense)             (None, 5)                 15        \n",
      "                                                                 \n",
      " dense_5 (Dense)             (None, 1)                 6         \n",
      "                                                                 \n",
      "=================================================================\n",
      "Total params: 21\n",
      "Trainable params: 21\n",
      "Non-trainable params: 0\n",
      "_________________________________________________________________\n",
      "Epoch 1/15\n",
      "5/9 [===============>..............] - ETA: 0s - loss: 0.6960 - accuracy: 0.4500"
     ]
    },
    {
     "name": "stderr",
     "output_type": "stream",
     "text": [
      "2022-11-06 18:27:13.289710: I tensorflow/core/grappler/optimizers/custom_graph_optimizer_registry.cc:113] Plugin optimizer for device_type GPU is enabled.\n"
     ]
    },
    {
     "name": "stdout",
     "output_type": "stream",
     "text": [
      "9/9 [==============================] - 1s 39ms/step - loss: 0.6682 - accuracy: 0.5143 - val_loss: 0.7002 - val_accuracy: 0.4667\n",
      "Epoch 2/15\n",
      "8/9 [=========================>....] - ETA: 0s - loss: 0.6642 - accuracy: 0.5312"
     ]
    },
    {
     "name": "stderr",
     "output_type": "stream",
     "text": [
      "2022-11-06 18:27:13.634944: I tensorflow/core/grappler/optimizers/custom_graph_optimizer_registry.cc:113] Plugin optimizer for device_type GPU is enabled.\n"
     ]
    },
    {
     "name": "stdout",
     "output_type": "stream",
     "text": [
      "9/9 [==============================] - 0s 11ms/step - loss: 0.6553 - accuracy: 0.5571 - val_loss: 0.5634 - val_accuracy: 1.0000\n",
      "Epoch 3/15\n",
      "9/9 [==============================] - 0s 12ms/step - loss: 0.5889 - accuracy: 0.7571 - val_loss: 0.5148 - val_accuracy: 1.0000\n",
      "Epoch 4/15\n",
      "9/9 [==============================] - 0s 12ms/step - loss: 0.5161 - accuracy: 0.9286 - val_loss: 0.4654 - val_accuracy: 0.8667\n",
      "Epoch 5/15\n",
      "9/9 [==============================] - 0s 9ms/step - loss: 0.4707 - accuracy: 0.8429 - val_loss: 0.3745 - val_accuracy: 1.0000\n",
      "Epoch 6/15\n",
      "9/9 [==============================] - 0s 10ms/step - loss: 0.4001 - accuracy: 0.9143 - val_loss: 0.2882 - val_accuracy: 1.0000\n",
      "Epoch 7/15\n",
      "9/9 [==============================] - 0s 10ms/step - loss: 0.3562 - accuracy: 0.9143 - val_loss: 0.2326 - val_accuracy: 1.0000\n",
      "Epoch 8/15\n",
      "9/9 [==============================] - 0s 9ms/step - loss: 0.3034 - accuracy: 0.9286 - val_loss: 0.1751 - val_accuracy: 1.0000\n",
      "Epoch 9/15\n",
      "9/9 [==============================] - 0s 10ms/step - loss: 0.2728 - accuracy: 0.9286 - val_loss: 0.1492 - val_accuracy: 1.0000\n",
      "Epoch 10/15\n",
      "9/9 [==============================] - 0s 9ms/step - loss: 0.2558 - accuracy: 0.9286 - val_loss: 0.1248 - val_accuracy: 1.0000\n",
      "Epoch 11/15\n",
      "9/9 [==============================] - 0s 9ms/step - loss: 0.2340 - accuracy: 0.9286 - val_loss: 0.1160 - val_accuracy: 1.0000\n",
      "Epoch 12/15\n",
      "9/9 [==============================] - 0s 9ms/step - loss: 0.2329 - accuracy: 0.9286 - val_loss: 0.0965 - val_accuracy: 1.0000\n",
      "Epoch 13/15\n",
      "9/9 [==============================] - 0s 9ms/step - loss: 0.2105 - accuracy: 0.9571 - val_loss: 0.1220 - val_accuracy: 1.0000\n",
      "Epoch 14/15\n",
      "9/9 [==============================] - 0s 10ms/step - loss: 0.2151 - accuracy: 0.9429 - val_loss: 0.0964 - val_accuracy: 1.0000\n",
      "Epoch 15/15\n",
      "9/9 [==============================] - 0s 11ms/step - loss: 0.2091 - accuracy: 0.9429 - val_loss: 0.0808 - val_accuracy: 1.0000\n"
     ]
    },
    {
     "data": {
      "text/plain": [
       "<keras.callbacks.History at 0x15177a8e0>"
      ]
     },
     "execution_count": 58,
     "metadata": {},
     "output_type": "execute_result"
    }
   ],
   "source": [
    "model = tf.keras.models.Sequential()\n",
    "model.add(tf.keras.layers.Dense(5,activation='sigmoid',input_shape=(2,)))\n",
    "model.add(tf.keras.layers.Dense(1,activation='sigmoid'))\n",
    "\n",
    "model.compile(tf.keras.optimizers.Adam(0.1),'binary_crossentropy',['accuracy'])\n",
    "model.summary()\n",
    "model.fit(train_x_norm,train_labels,validation_data=(test_x_norm,test_labels),batch_size=8,epochs=15)"
   ]
  },
  {
   "cell_type": "markdown",
   "metadata": {
    "id": "BmHNhUU8bqEX"
   },
   "source": [
    "## Sınıflandırma Kaybı Fonksiyonları\n",
    "\n",
    "Ağın son katmanında kayıp fonksiyonunu ve etkinleştirme fonksiyonunu doğru bir şekilde belirlemek önemlidir. Ana kurallar şunlardır:\n",
    "* Ağın bir çıktısı varsa (**ikili sınıflandırma**) **sigmoid**, **çok sınıflı sınıflandırma** içinse **softmax** etkinleştirme işlevini kullanırız.\n",
    "* Kayıp işlevi, çıktı sınıfı birebir kodlama olarak temsil edilirse **çapraz entropi kaybı** (kategorik çapraz entropi), çıktı sınıf numarası içeriyorsa **seyrek kategorik çapraz entropi** olacaktır. **İkili sınıflandırma** için **ikili çapraz entropi** kullanın (**logaritmik kayıp** ile aynıdır).\n",
    "* **Çok etiketli sınıflandırma**, aynı anda birkaç sınıfa ait bir nesneye sahip olabileceğimiz zamandır. Bu durumda, etiketleri birebir kodlama kullanarak kodlamamız ve etkinleştirme fonksiyonu olarak **sigmoid** kullanmamız gerekir, böylece her sınıf olasılığı 0 ile 1 arasında olur.\n",
    "\n",
    "| Sınıflandırma | Etiket Formatı | Etkinleştirme Fonksiyonu | Kayıp |\n",
    "|---------------|-----------------------|-----------------|----------|\n",
    "| İkili         | 1. sınıf olasılığı | sigmoid | ikili çapraz entropi |\n",
    "| İkili         | Bire bir kodlama (2 çıktılı) | softmax | kategorik çapraz entropi |\n",
    "| Çok sınıflı   | Bire bir kodlama | softmaks | kategorik çapraz entropi |\n",
    "| Çok sınıflı   | Sınıf sayısı | softmaks | seyrek kategorik çapraz entropi |\n",
    "| Çok etiketli  | Bire bir kodlama | sigmoid | kategorik çapraz entropi |\n",
    "\n",
    "> İkili sınıflandırma, çok sınıflı sınıflandırmanın iki çıktılı özel bir durumu olarak da ele alınabilir. Bu durumda **softmax** kullanmamız gerekir.\n"
   ]
  },
  {
   "cell_type": "markdown",
   "metadata": {
    "id": "gZ-kWx84bMDH"
   },
   "source": [
    "**Görev 3**:\n",
    "MNIST sınıflandırıcısını eğitmek için Keras'ı kullanın:\n",
    "* Keras'ın MNIST dahil bazı standart veri kümesi içerdiğine dikkat edin. MNIST'i Keras'tan kullanmak için yalnızca birkaç satır koda ihtiyacınız vardır (daha fazla bilgi [burada](https://www.tensorflow.org/api_docs/python/tf/keras/datasets/mnist))\n",
    "* Farklı sayıda katman/nöron, etkinleştirme işlevleriyle birkaç ağ yapılandırması deneyin.\n",
    "\n",
    "Ulaşabildiğiniz en iyi doğruluk nedir?"
   ]
  },
  {
   "cell_type": "markdown",
   "metadata": {
    "id": "yX6hqiafwHl9"
   },
   "source": [
    "## ANA Fikirler\n",
    "\n",
    "* Tensorflow, tensörler üzerinde düşük seviyede çalışmanıza izin verir, aşırı esnekliğe sahip olursunuz.\n",
    "* Veri (`td.Data`) ve katmanlar (`tf.layers`) ile çalışmak için uygun araçlar vardır.\n",
    "* Yeni başlayanlar/tipik görevler için, katmanlardan ağ oluşturmaya izin veren **Keras** kullanılması önerilir.\n",
    "* Standart dışı mimari gerekiyorsa kendi Keras katmanınızı uygulayabilir ve ardından Keras modellerinde kullanabilirsiniz.\n",
    "* PyTorch'a da bakmak ve yaklaşımları karşılaştırmak iyi bir fikirdir.\n",
    "\n",
    "Keras yaratıcısından Keras ve Tensorflow 2.0'nin üzerine güzel bir örnek not defterini [burada](https://t.co/k694J95PI8) bulabilirsiniz."
   ]
  }
 ],
 "metadata": {
  "celltoolbar": "Slideshow",
  "colab": {
   "collapsed_sections": [],
   "name": "IntroKerasTF.ipynb",
   "provenance": []
  },
  "kernelspec": {
   "display_name": "Python 3 (ipykernel)",
   "language": "python",
   "name": "python3"
  },
  "language_info": {
   "codemirror_mode": {
    "name": "ipython",
    "version": 3
   },
   "file_extension": ".py",
   "mimetype": "text/x-python",
   "name": "python",
   "nbconvert_exporter": "python",
   "pygments_lexer": "ipython3",
   "version": "3.8.13"
  },
  "livereveal": {
   "start_slideshow_at": "selected"
  },
  "vscode": {
   "interpreter": {
    "hash": "b0fa6594d8f4cbf19f97940f81e996739fb7646882a419484c72d19e05852a7e"
   }
  }
 },
 "nbformat": 4,
 "nbformat_minor": 4
}
