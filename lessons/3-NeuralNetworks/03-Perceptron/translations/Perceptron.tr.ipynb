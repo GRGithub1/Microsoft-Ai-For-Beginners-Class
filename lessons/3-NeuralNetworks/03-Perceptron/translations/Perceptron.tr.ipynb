{
 "cells": [
  {
   "cell_type": "markdown",
   "metadata": {
    "slideshow": {
     "slide_type": "slide"
    }
   },
   "source": [
    "## Algılayıcı\n",
    "\n",
    "> Bu not defteri, [Yeni Başlayanlar İçin Yapay Zeka Müfredatı](http://github.com/microsoft/ai-for-beginners)'nın bir parçasıdır. Eksiksiz öğrenme materyallerinin tamamı için kod deposunu ziyaret edin.\n",
    "\n",
    "Tartıştığımız gibi, algılayıcı **ikili sınıflandırma problemini** çözmenize, yani girdi örneklerini iki sınıfa ayırmanıza izin verir - bunlara **pozitif** ve **negatif** diyebiliriz.\n",
    "\n",
    "İlk olarak, bazı gerekli kütüphaneleri içe aktaralım."
   ]
  },
  {
   "cell_type": "code",
   "execution_count": null,
   "metadata": {},
   "outputs": [],
   "source": [
    "import pylab\n",
    "from matplotlib import gridspec\n",
    "from sklearn.datasets import make_classification\n",
    "import numpy as np\n",
    "from ipywidgets import interact, interactive, fixed\n",
    "import ipywidgets as widgets\n",
    "import pickle\n",
    "import os\n",
    "import gzip\n",
    "\n",
    "# yeniden üretilebilirlik için tohumu (seed) seçin - rastgele varyasyonların etkilerini keşfetmek için değiştirin\n",
    "np.random.seed(1)\n",
    "import random"
   ]
  },
  {
   "cell_type": "markdown",
   "metadata": {
    "slideshow": {
     "slide_type": "slide"
    }
   },
   "source": [
    "## Basit Örnek Problem\n",
    "\n",
    "Başlangıç olarak, iki girdi özniteliğimiz olan bir basit örnek problem ile başlayalım. Örneğin, tıpta tümörleri boyutuna ve yaşına bağlı olarak iyi huylu ve kötü huylu olarak sınıflandırmak isteyebiliriz.\n",
    "\n",
    "SciKit Learn kütüphanesinden `make_classification` fonksiyonunu kullanarak rastgele bir sınıflandırma veri kümesi oluşturacağız:"
   ]
  },
  {
   "cell_type": "code",
   "execution_count": null,
   "metadata": {
    "slideshow": {
     "slide_type": "slide"
    }
   },
   "outputs": [],
   "source": [
    "n = 50\n",
    "X, Y = make_classification(n_samples = n, n_features=2,\n",
    "                           n_redundant=0, n_informative=2, flip_y=0)\n",
    "Y = Y*2-1 # ilk 0/1 değerlerini -1/1'e çevir\n",
    "X = X.astype(np.float32); Y = Y.astype(np.int32) # öznitelikler - kayan virgüllü sayı, etiket - tam sayı\n",
    "\n",
    "# Veri kümesini eğitim ve test olarak ayırın\n",
    "train_x, test_x = np.split(X, [ n*8//10])\n",
    "train_labels, test_labels = np.split(Y, [n*8//10])\n",
    "print(\"Features:\\n\",train_x[0:4])\n",
    "print(\"Labels:\\n\",train_labels[0:4])"
   ]
  },
  {
   "cell_type": "markdown",
   "metadata": {},
   "source": [
    "Let's also plot the dataset:"
   ]
  },
  {
   "cell_type": "code",
   "execution_count": null,
   "metadata": {
    "slideshow": {
     "slide_type": "skip"
    }
   },
   "outputs": [],
   "source": [
    "def plot_dataset(suptitle, features, labels):\n",
    "    # prepare the plot\n",
    "    fig, ax = pylab.subplots(1, 1)\n",
    "    #pylab.subplots_adjust(bottom=0.2, wspace=0.4)\n",
    "    fig.suptitle(suptitle, fontsize = 16)\n",
    "    ax.set_xlabel('$x_i[0]$ -- (öznitelik 1)')\n",
    "    ax.set_ylabel('$x_i[1]$ -- (öznitelik 2)')\n",
    "\n",
    "    colors = ['r' if l>0 else 'b' for l in labels]\n",
    "    ax.scatter(features[:, 0], features[:, 1], marker='o', c=colors, s=100, alpha = 0.5)\n",
    "    fig.show()\n",
    "\n",
    "plot_dataset('Eğitim verisi', train_x, train_labels)"
   ]
  },
  {
   "cell_type": "markdown",
   "metadata": {
    "slideshow": {
     "slide_type": "slide"
    }
   },
   "source": [
    "## Algılayıcı\n",
    "\n",
    "Algılayıcı bir ikili sınıflandırıcı olduğundan, her bir $x$ girdi vektörü için algılayıcımızın çıktısı, sınıfa bağlı olarak +1 veya -1 olacaktır. Çıktı aşağıdaki formül kullanılarak hesaplanacaktır.\n",
    "\n",
    "$$y(\\mathbf{x}) = f(\\mathbf{w}^{\\mathrm{T}}\\mathbf{x})$$\n",
    "\n",
    "burada $\\mathbf{w}$ bir ağırlık vektörüdür, $f$ bir basamak etkinleştirme fonksiyonudur:\n",
    "$$\n",
    "f(x) = \\begin{cases}\n",
    "         +1 & x \\geq 0 \\\\\n",
    "         -1 & x < 0\n",
    "       \\end{cases} \\\\\n",
    "$$\n",
    "\n",
    "Bununla birlikte, genel bir doğrusal modelin de bir ek girdisi olmalıdır, yani ideal olarak $y$'yi $y=f(\\mathbf{w}^{\\mathrm{T}}\\mathbf{x})+\\mathbf{b}$ olarak hesaplamalıyız. Modelimizi basitleştirmek için, girdi özniteliklerimize her zaman 1'e eşit olan bir boyut daha ekleyerek bu ek girdi teriminden kurtulabiliriz:"
   ]
  },
  {
   "cell_type": "code",
   "execution_count": null,
   "metadata": {
    "slideshow": {
     "slide_type": "slide"
    }
   },
   "outputs": [],
   "source": [
    "pos_examples = np.array([ [t[0], t[1], 1] for i,t in enumerate(train_x) \n",
    "                          if train_labels[i]>0])\n",
    "neg_examples = np.array([ [t[0], t[1], 1] for i,t in enumerate(train_x) \n",
    "                          if train_labels[i]<0])\n",
    "print(pos_examples[0:3])"
   ]
  },
  {
   "cell_type": "markdown",
   "metadata": {
    "slideshow": {
     "slide_type": "slide"
    }
   },
   "source": [
    "## Eğitim Algoritması\n",
    "\n",
    "Algılayıcıyı eğitmek için, hatayı en aza indirecek $\\mathbf{w}$ ağırlıklarını bulmamız gerekiyor. Hata, **algılayıcı kriterleri** kullanılarak tanımlanır:\n",
    "\n",
    "$$E(\\mathbf{w}) = -\\sum_{n \\in \\mathcal{M}}\\mathbf{w}^{\\mathrm{T}}\\mathbf{x}_{n}t_{n}$$\n",
    " \n",
    "  * $t_{n} \\in \\{-1, +1\\}$ for negative and positive training samples, respectively\n",
    "  * $\\mathcal{M}$ - a set of wrongly classified examples\n",
    "\n",
    "**Gradyan inişi** işlemini kullanacağız. Bazı rastgele ilk $\\mathbf{w}^{(0)}$ ağırlıkları ile başlayarak, $E$'nin gradyanını kullanarak eğitimin her adımındaki ağırlıkları ayarlayacağız:\n",
    "\n",
    "$$\\mathbf{w}^{\\tau + 1}=\\mathbf{w}^{\\tau} - \\eta \\nabla E(\\mathbf{w}) = \\mathbf{w}^{\\tau} + \\eta \\mathbf{x}_{n} t_{n}$$\n",
    "\n",
    "burada $\\eta$ **öğrenme oranı** ve $\\tau\\in\\mathbb{N}$ yineleme sayısıdır.\n",
    "\n",
    "Bu algoritmayı Python'da tanımlayalım:"
   ]
  },
  {
   "cell_type": "code",
   "execution_count": null,
   "metadata": {
    "slideshow": {
     "slide_type": "skip"
    }
   },
   "outputs": [],
   "source": [
    "def train(positive_examples, negative_examples, num_iterations = 100):\n",
    "    num_dims = positive_examples.shape[1]\n",
    "    \n",
    "    # Ağırlıkları ilkle.\n",
    "    # Basitlik için 0 ile ilkletiyoruz, ancak rastgele ilkleme de iyi bir fikirdir\n",
    "    weights = np.zeros((num_dims,1)) \n",
    "    \n",
    "    pos_count = positive_examples.shape[0]\n",
    "    neg_count = negative_examples.shape[0]\n",
    "    \n",
    "    report_frequency = 10\n",
    "    \n",
    "    for i in range(num_iterations):\n",
    "        # Bir pozitif ve bir negatif örnek seçin\n",
    "        pos = random.choice(positive_examples)\n",
    "        neg = random.choice(negative_examples)\n",
    "\n",
    "        z = np.dot(pos, weights)   \n",
    "        if z < 0: # pozitif örnek negatif olarak sınıflandırıldı\n",
    "            weights = weights + pos.reshape(weights.shape)\n",
    "\n",
    "        z  = np.dot(neg, weights)\n",
    "        if z >= 0: # negatif örnek pozitif olarak sınıflandırıldı\n",
    "            weights = weights - neg.reshape(weights.shape)\n",
    "            \n",
    "        # Periyodik olarak, tüm örneklerde mevcut doğruluğu yazdırın\n",
    "        if i % report_frequency == 0:             \n",
    "            pos_out = np.dot(positive_examples, weights)\n",
    "            neg_out = np.dot(negative_examples, weights)        \n",
    "            pos_correct = (pos_out >= 0).sum() / float(pos_count)\n",
    "            neg_correct = (neg_out < 0).sum() / float(neg_count)\n",
    "            print(\"Yineleme={}, positif doğruluk={}, negatif doğruluk={}\".format(i,pos_correct,neg_correct))\n",
    "\n",
    "    return weights"
   ]
  },
  {
   "cell_type": "markdown",
   "metadata": {},
   "source": [
    "Şimdi eğitimi veri kümemizde çalıştıralım:"
   ]
  },
  {
   "cell_type": "code",
   "execution_count": null,
   "metadata": {
    "slideshow": {
     "slide_type": "slide"
    }
   },
   "outputs": [],
   "source": [
    "wts = train(pos_examples,neg_examples)\n",
    "print(wts.transpose())"
   ]
  },
  {
   "cell_type": "markdown",
   "metadata": {},
   "source": [
    "Gördüğünüz gibi, ilk doğruluk %50 civarındadır, ancak hızla %90'a yakın daha yüksek değerlere çıkar.\n",
    "\n",
    "Sınıfların nasıl ayrıldığını görselleştirelim. Sınıflandırma fonksiyonumuz $\\mathbf{w}^Tx$ gibi görünüyor ve bir sınıf için 0'dan büyük, diğeri için 0'ın altında. Böylece, sınıf ayırma doğrusu $\\mathbf{w}^Tx = 0$ ile tanımlanır. Yalnızca $x_0$ ve $x_1$ boyutlarına sahip olduğumuz için, doğrunun denklemi $w_0x_0+w_1x_1+w_2 = 0$ olacaktır (ekstra bir boyut olarak $x_2=1$ tanımladığımızı unutmayın). Bu doğruyu çizelim:"
   ]
  },
  {
   "cell_type": "code",
   "execution_count": null,
   "metadata": {
    "slideshow": {
     "slide_type": "skip"
    }
   },
   "outputs": [],
   "source": [
    "def plot_boundary(positive_examples, negative_examples, weights):\n",
    "    if np.isclose(weights[1], 0):\n",
    "        if np.isclose(weights[0], 0):\n",
    "            x = y = np.array([-6, 6], dtype = 'float32')\n",
    "        else:\n",
    "            y = np.array([-6, 6], dtype='float32')\n",
    "            x = -(weights[1] * y + weights[2])/weights[0]\n",
    "    else:\n",
    "        x = np.array([-6, 6], dtype='float32')\n",
    "        y = -(weights[0] * x + weights[2])/weights[1]\n",
    "\n",
    "    pylab.xlim(-6, 6)\n",
    "    pylab.ylim(-6, 6)                      \n",
    "    pylab.plot(positive_examples[:,0], positive_examples[:,1], 'bo')\n",
    "    pylab.plot(negative_examples[:,0], negative_examples[:,1], 'ro')\n",
    "    pylab.plot(x, y, 'g', linewidth=2.0)\n",
    "    pylab.show()"
   ]
  },
  {
   "cell_type": "code",
   "execution_count": null,
   "metadata": {
    "slideshow": {
     "slide_type": "slide"
    }
   },
   "outputs": [],
   "source": [
    "plot_boundary(pos_examples,neg_examples,wts)"
   ]
  },
  {
   "cell_type": "markdown",
   "metadata": {
    "slideshow": {
     "slide_type": "slide"
    }
   },
   "source": [
    "## Test Veri Kümesinde Değerlendirme\n",
    "\n",
    "Başlangıçta, bazı verileri test veri kümesine ayırdık. Bu test veri kümesinde sınıflandırıcımızın ne kadar doğru olduğunu görelim. Bunu yapmak için ayrıca test veri kümesini ekstra bir boyutla genişletiyoruz, ağırlıklar matrisi ile çarpıyoruz ve elde edilen değerin etiketle (+1 veya -1) aynı işarette olduğundan emin oluyoruz. Daha sonra doğruluğu elde etmek için tüm boole değerlerini toplarız ve test örnekleminin uzunluğuna böleriz:"
   ]
  },
  {
   "cell_type": "code",
   "execution_count": null,
   "metadata": {
    "slideshow": {
     "slide_type": "fragment"
    }
   },
   "outputs": [],
   "source": [
    "def accuracy(weights, test_x, test_labels):\n",
    "    res = np.dot(np.c_[test_x,np.ones(len(test_x))],weights)\n",
    "    return (res.reshape(test_labels.shape)*test_labels>=0).sum()/float(len(test_labels))\n",
    "\n",
    "accuracy(wts, test_x, test_labels)"
   ]
  },
  {
   "cell_type": "markdown",
   "metadata": {
    "slideshow": {
     "slide_type": "slide"
    }
   },
   "source": [
    "## Eğitim sürecini gözlemlemek\n",
    "\n",
    "Eğitim sırasında doğruluğun nasıl azaldığını daha önce gördük. Eğitim sırasında ayırma doğrusunun nasıl davrandığını görmek güzel olurdu. Aşağıdaki kod, her şeyi tek bir grafikte görselleştirecektir ve kaydırıcıyı eğitim süreci boyunca \"zaman yolculuğu\"na hareket ettirebilmelisiniz."
   ]
  },
  {
   "cell_type": "code",
   "execution_count": null,
   "metadata": {
    "slideshow": {
     "slide_type": "skip"
    }
   },
   "outputs": [],
   "source": [
    "def train_graph(positive_examples, negative_examples, num_iterations = 100):\n",
    "    num_dims = positive_examples.shape[1]\n",
    "    weights = np.zeros((num_dims,1)) # ağırlıkları ilkle\n",
    "    \n",
    "    pos_count = positive_examples.shape[0]\n",
    "    neg_count = negative_examples.shape[0]\n",
    "    \n",
    "    report_frequency = 15;\n",
    "    snapshots = []\n",
    "    \n",
    "    for i in range(num_iterations):\n",
    "        pos = random.choice(positive_examples)\n",
    "        neg = random.choice(negative_examples)\n",
    "\n",
    "        z = np.dot(pos, weights)   \n",
    "        if z < 0:\n",
    "            weights = weights + pos.reshape(weights.shape)\n",
    "\n",
    "        z  = np.dot(neg, weights)\n",
    "        if z >= 0:\n",
    "            weights = weights - neg.reshape(weights.shape)\n",
    "            \n",
    "        if i % report_frequency == 0:             \n",
    "            pos_out = np.dot(positive_examples, weights)\n",
    "            neg_out = np.dot(negative_examples, weights)        \n",
    "            pos_correct = (pos_out >= 0).sum() / float(pos_count)\n",
    "            neg_correct = (neg_out < 0).sum() / float(neg_count)\n",
    "            snapshots.append((np.copy(weights),(pos_correct+neg_correct)/2.0))\n",
    "\n",
    "    return np.array(snapshots)\n",
    "\n",
    "snapshots = train_graph(pos_examples,neg_examples)\n",
    "\n",
    "def plotit(pos_examples,neg_examples,snapshots,step):\n",
    "    fig = pylab.figure(figsize=(10,4))\n",
    "    fig.add_subplot(1, 2, 1)\n",
    "    plot_boundary(pos_examples, neg_examples, snapshots[step][0])\n",
    "    fig.add_subplot(1, 2, 2)\n",
    "    pylab.plot(np.arange(len(snapshots[:,1])), snapshots[:,1])\n",
    "    pylab.ylabel('Accuracy')\n",
    "    pylab.xlabel('Iteration')\n",
    "    pylab.plot(step, snapshots[step,1], \"bo\")\n",
    "    pylab.show()\n",
    "def pl1(step): plotit(pos_examples,neg_examples,snapshots,step)"
   ]
  },
  {
   "cell_type": "code",
   "execution_count": null,
   "metadata": {
    "slideshow": {
     "slide_type": "slide"
    }
   },
   "outputs": [],
   "source": [
    "interact(pl1, step=widgets.IntSlider(value=0, min=0, max=len(snapshots)-1))"
   ]
  },
  {
   "cell_type": "markdown",
   "metadata": {
    "slideshow": {
     "slide_type": "slide"
    }
   },
   "source": [
    "## Algılayıcının Sınırları\n",
    "\n",
    "Yukarıda gördüğünüz gibi, algılayıcı bir **doğrusal sınıflandırıcıdır**. **Doğrusal olarak ayrılabilir** iseler, yani düz bir çizgi ile ayrılabilirlerse, iki sınıf arasında iyi bir ayrım yapabilir. Aksi takdirde, algılayıcı eğitim işlemi yakınsamayacaktır.\n",
    "\n",
    "Bir algılayıcı tarafından çözülemeyen bir problemin en bariz örneği **XOR (Dışlayıcı Veya) problemi** olarak adlandırılır. Algılayıcımızın aşağıdaki doğruluk tablosuna sahip olan XOR boole işlevini öğrenmesini istiyoruz:\n",
    "\n",
    "|   | 0 | 1 |\n",
    "|---|---|---|\n",
    "| 0 | 0 | 1 | \n",
    "| 1 | 1 | 0 |\n",
    "\n",
    "Hadi bunu deneyelim ve yapalım! Tüm pozitif ve negatif eğitim örneklerini manuel olarak dolduracağız ve ardından yukarıda tanımlanan eğitim fonksiyonumuzu çağıracağız:"
   ]
  },
  {
   "cell_type": "code",
   "execution_count": null,
   "metadata": {
    "slideshow": {
     "slide_type": "slide"
    }
   },
   "outputs": [],
   "source": [
    "pos_examples_xor = np.array([[1,0,1],[0,1,1]])\n",
    "neg_examples_xor = np.array([[1,1,1],[0,0,1]])\n",
    "\n",
    "snapshots_xor = train_graph(pos_examples_xor,neg_examples_xor,1000)\n",
    "def pl2(step): plotit(pos_examples_xor,neg_examples_xor,snapshots_xor,step)"
   ]
  },
  {
   "cell_type": "code",
   "execution_count": null,
   "metadata": {
    "slideshow": {
     "slide_type": "slide"
    }
   },
   "outputs": [],
   "source": [
    "interact(pl2, step=widgets.IntSlider(value=0, min=0, max=len(snapshots)-1))"
   ]
  },
  {
   "cell_type": "markdown",
   "metadata": {
    "slideshow": {
     "slide_type": "slide"
    }
   },
   "source": [
    "Yukarıdaki grafikten de görebileceğiniz gibi, doğruluk hiçbir zaman %75'in üzerine çıkmaz, çünkü olası tüm örnekleri doğru elde edecek şekilde düz bir çizgi çizmek imkansızdır.\n",
    "\n",
    "XOR problemi, algılayıcının sınırlarının klasik bir örneğidir ve 1969'da Marvin Minsky ve Seymour Papert tarafından [Algılayıcılar](https://en.wikipedia.org/wiki/Perceptrons_(book)) adlı kitaplarında belirtilmiştir. Bu gözlem, sinir ağları alanındaki araştırmayı neredeyse 10 yıllarca sınırlandırdı - ve bunu kursumuzun bir sonraki bölümünde göreceğiz - çok katmanlı algılayıcılar bu tür sorunları mükemmel bir şekilde çözme yeteneğine sahipler.\n",
    "\n",
    "## Karmaşık Örnek - MNIST\n",
    "\n",
    "Perceptron, XOR problemini çözemese de, el yazısı karakter tanıma gibi daha birçok karmaşık problemi çözebilir.\n",
    "\n",
    "Makine öğrenmesinde uzmanlaşırken sıklıkla kullanılan bir veri kümesine [MNIST](https://en.wikipedia.org/wiki/MNIST_database) denir. Modifiye Ulusal Standartlar ve Teknoloji Enstitüsü tarafından oluşturulmuştur ve yaklaşık 250 öğrenci ve enstitü çalışanından toplanan 60000 el yazısıyla yazılmış rakamdan bir eğitim kümesi içerir. Ayrıca farklı kişilerden toplanan 10000 rakamlık bir test veri kümesi de bulunmaktadır.\n",
    "\n",
    "Tüm rakamlar, 28x28 piksel boyutundaki gri tonlamalı imgelerle temsil edilir.\n",
    "\n",
    "> MNIST veri Kümesi, makine öğrenmesi yarışmalarına ve mücadelelerine ev sahipliği yapan bir site olan [Kaggle](https://www.kaggle.com/c/digit-recognizer) üzerinde bir eğitim yarışması olarak mevcuttur. MNIST rakamlarını nasıl sınıflandıracağınızı öğrendikten sonra, diğer katılımcılar arasında nasıl derecelendirildiğini görmek için çözümünüzü Kaggle'a gönderebilirsiniz.\n",
    "\n",
    "MNIST veri kümesini yükleyerek başlıyoruz:"
   ]
  },
  {
   "cell_type": "code",
   "execution_count": null,
   "metadata": {
    "slideshow": {
     "slide_type": "slide"
    }
   },
   "outputs": [],
   "source": [
    "# Bu not defterini klonlanmış bir depodan çalıştırmıyorsanız, önce ikili veri kümesi dosyasını almanız gerekebilir.\n",
    "# !wget https://raw.githubusercontent.com/microsoft/AI-For-Beginners/main/data/mnist.pkl.gz\n",
    "# Bu durumda aşağıdaki veri kümesinin bağlantısını da düzeltin.\n",
    "MNIST = {}\n",
    "\n",
    "with gzip.open('../../../../data/mnist.pkl.gz', 'rb') as mnist_pickle:\n",
    "    train_set, validation_set, test_set  = pickle.load(mnist_pickle, encoding='bytes')"
   ]
  },
  {
   "cell_type": "code",
   "execution_count": null,
   "metadata": {},
   "outputs": [],
   "source": [
    "MNIST['Train'] = {}\n",
    "MNIST['Validation'] = {}\n",
    "MNIST['Test'] = {} \n",
    "MNIST['Train']['Features'], MNIST['Train']['Labels'] = train_set[0], train_set[1]\n",
    "MNIST['Validation']['Features'], MNIST['Validation']['Labels'] = validation_set[0], validation_set[1]\n",
    "MNIST['Test']['Features'], MNIST['Test']['Labels'] = test_set[0], test_set[1]"
   ]
  },
  {
   "cell_type": "markdown",
   "metadata": {},
   "source": [
    "Şimdi veri kümesini çizelim:"
   ]
  },
  {
   "cell_type": "code",
   "execution_count": null,
   "metadata": {
    "slideshow": {
     "slide_type": "slide"
    }
   },
   "outputs": [],
   "source": [
    "print(MNIST['Train']['Features'][0][130:180])\n",
    "print(MNIST['Train']['Labels'][0])\n",
    "features = MNIST['Train']['Features'].astype(np.float32) / 256.0\n",
    "labels = MNIST['Train']['Labels']\n",
    "fig = pylab.figure(figsize=(10,5))\n",
    "for i in range(10):\n",
    "    ax = fig.add_subplot(1,10,i+1)\n",
    "    pylab.imshow(features[i].reshape(28,28))\n",
    "pylab.show()"
   ]
  },
  {
   "cell_type": "markdown",
   "metadata": {},
   "source": [
    "Algılayıcı bir ikili sınıflandırıcı olduğundan, problemimizi sadece iki rakamı tanımakla sınırlayacağız. Aşağıdaki işlev, pozitif ve negatif örnek dizilerini verilen iki rakam ile dolduracaktır (ve ayrıca netlik için bu rakamların örneklerini de gösterecektir)."
   ]
  },
  {
   "cell_type": "code",
   "execution_count": null,
   "metadata": {
    "slideshow": {
     "slide_type": "slide"
    }
   },
   "outputs": [],
   "source": [
    "def set_mnist_pos_neg(positive_label, negative_label):\n",
    "    positive_indices = [i for i, j in enumerate(MNIST['Train']['Labels']) \n",
    "                          if j == positive_label]\n",
    "    negative_indices = [i for i, j in enumerate(MNIST['Train']['Labels']) \n",
    "                          if j == negative_label]\n",
    "\n",
    "    positive_images = MNIST['Train']['Features'][positive_indices]\n",
    "    negative_images = MNIST['Train']['Features'][negative_indices]\n",
    "\n",
    "    fig = pylab.figure()\n",
    "    ax = fig.add_subplot(1, 2, 1)\n",
    "    pylab.imshow(positive_images[0].reshape(28,28), cmap='gray', interpolation='nearest')\n",
    "    ax.set_xticks([])\n",
    "    ax.set_yticks([])\n",
    "    ax = fig.add_subplot(1, 2, 2)\n",
    "    pylab.imshow(negative_images[0].reshape(28,28), cmap='gray', interpolation='nearest')\n",
    "    ax.set_xticks([])\n",
    "    ax.set_yticks([])\n",
    "    pylab.show()\n",
    "    \n",
    "    return positive_images, negative_images"
   ]
  },
  {
   "cell_type": "markdown",
   "metadata": {},
   "source": [
    "0 ile 1 arasında sınıflandırma yapmaya çalışarak başlayacağız:"
   ]
  },
  {
   "cell_type": "code",
   "execution_count": null,
   "metadata": {
    "slideshow": {
     "slide_type": "slide"
    }
   },
   "outputs": [],
   "source": [
    "pos1,neg1 = set_mnist_pos_neg(1,0)"
   ]
  },
  {
   "cell_type": "code",
   "execution_count": null,
   "metadata": {
    "slideshow": {
     "slide_type": "skip"
    }
   },
   "outputs": [],
   "source": [
    "def plotit2(snapshots_mn,step):\n",
    "    fig = pylab.figure(figsize=(10,4))\n",
    "    ax = fig.add_subplot(1, 2, 1)\n",
    "    pylab.imshow(snapshots_mn[step][0].reshape(28, 28), interpolation='nearest')\n",
    "    ax.set_xticks([])\n",
    "    ax.set_yticks([])\n",
    "    pylab.colorbar()\n",
    "    ax = fig.add_subplot(1, 2, 2)\n",
    "    ax.set_ylim([0,1])\n",
    "    pylab.plot(np.arange(len(snapshots_mn[:,1])), snapshots_mn[:,1])\n",
    "    pylab.plot(step, snapshots_mn[step,1], \"bo\")\n",
    "    pylab.show()\n",
    "def pl3(step): plotit2(snapshots_mn,step)\n",
    "def pl4(step): plotit2(snapshots_mn2,step)    "
   ]
  },
  {
   "cell_type": "code",
   "execution_count": null,
   "metadata": {
    "slideshow": {
     "slide_type": "slide"
    }
   },
   "outputs": [],
   "source": [
    "snapshots_mn = train_graph(pos1,neg1,1000)    \n",
    "interact(pl3, step=widgets.IntSlider(value=0, min=0, max=len(snapshots_mn) - 1))"
   ]
  },
  {
   "cell_type": "markdown",
   "metadata": {},
   "source": [
    "Lütfen doğruluğun çok hızlı bir şekilde neredeyse %100'e kadar çıktığına dikkat edin.\n",
    "\n",
    "Lütfen, kaydırıcıyı eğitimin sonuna doğru bir konuma getirin ve solda çizilen ağırlık matrisini gözlemleyin. Bu matris, algılayıcının gerçekte nasıl çalıştığını anlamanıza izin verecektir. Alanın ortasında tipik olarak 1 rakamı için mevcut olan piksellere karşılık gelen yüksek ağırlık değerlerini ve 0 rakamı bölümlerinin olduğu kenarlarda düşük negatif değerlerini görebilirsiniz. Yani, algılayıcıya sunulan rakam aslında 1 ise, orta kısmı yüksek değerlerle çarpılarak pozitif sonuç üretilecektir. Tersine, algılayıcı 0'ı gözlemlediğinde, karşılık gelen pikseller negatif sayılarla çarpılacaktır.\n",
    "\n",
    "> Algılayıcımıza yatay olarak hafifçe kaydırılmış bir 1 rakamı verirsek, öyleki pikselleri 0'ın dikey kısımlarının olduğu yeri doldursun, yanlış sonuç alabileceğimizi fark edebilirsiniz. MNIST veri kümemizin doğası gereği, tüm rakamlar ortalanmış ve düzgün bir şekilde konumlandırılmıştır ve algılayıcı, rakamları ayırt etmek için buna güvenir.\n",
    "\n",
    "Şimdi farklı rakamlar deneyelim:"
   ]
  },
  {
   "cell_type": "code",
   "execution_count": null,
   "metadata": {
    "slideshow": {
     "slide_type": "slide"
    }
   },
   "outputs": [],
   "source": [
    "pos2,neg2 = set_mnist_pos_neg(2,5)"
   ]
  },
  {
   "cell_type": "code",
   "execution_count": null,
   "metadata": {
    "slideshow": {
     "slide_type": "slide"
    }
   },
   "outputs": [],
   "source": [
    "snapshots_mn2 = train_graph(pos2,neg2,1000)\n",
    "interact(pl4, step=widgets.IntSlider(value=0, min=0, max=len(snapshots_mn2) - 1))"
   ]
  },
  {
   "cell_type": "markdown",
   "metadata": {
    "slideshow": {
     "slide_type": "slide"
    }
   },
   "source": [
    "## Vargılar \n",
    "\n",
    "Nedense 2 ve 5 o kadar kolay ayrılamaz. Nispeten yüksek doğruluk elde etmemize rağmen (%85'in üzerinde), algılayıcının bir noktada öğrenmeyi nasıl durdurduğunu açıkça görebiliriz.\n",
    "\n",
    "Bunun neden olduğunu anlamak için [Temel Bileşen Analizi](https://en.wikipedia.org/wiki/Principal_component_analysis) (PCA) kullanmayı deneyebiliriz. Sınıflar arasında en iyi ayrılabilirliği elde edecek şekilde girdi veri kümesinin boyutunu azaltmak için kullanılan bir makine öğrenmesi tekniğidir.\n",
    "\n",
    "Bizim durumumuzda, bir girdi imgesi 784 piksele (girdi öznitelikleri) sahiptir ve parametre sayısını sadece 2'ye düşürmek için PCA'yı kullanmak istiyoruz, böylece bunları grafik üzerinde çizebiliriz. Bu iki parametre, orijinal özniteliklerin doğrusal bir birleşimi olacaktır ve bu prosedürü, sınıfları ayıran en iyi görünümü elde edene kadar orijinal 784 boyutlu uzayımızı \"döndürmek\" ve 2B uzayımıza izdüşümü gözlemlemek olarak görebiliriz."
   ]
  },
  {
   "cell_type": "code",
   "execution_count": null,
   "metadata": {
    "slideshow": {
     "slide_type": "fragment"
    }
   },
   "outputs": [],
   "source": [
    "from sklearn.decomposition import PCA\n",
    "\n",
    "def pca_analysis(positive_label, negative_label):\n",
    "    positive_images, negative_images = set_mnist_pos_neg(positive_label, negative_label)\n",
    "    M = np.append(positive_images, negative_images, 0)\n",
    "\n",
    "    mypca = PCA(n_components=2)\n",
    "    mypca.fit(M)\n",
    "    \n",
    "    pos_points = mypca.transform(positive_images[:200])\n",
    "    neg_points = mypca.transform(negative_images[:200])\n",
    "\n",
    "    pylab.plot(pos_points[:,0], pos_points[:,1], 'bo')\n",
    "    pylab.plot(neg_points[:,0], neg_points[:,1], 'ro')"
   ]
  },
  {
   "cell_type": "code",
   "execution_count": null,
   "metadata": {
    "slideshow": {
     "slide_type": "slide"
    }
   },
   "outputs": [],
   "source": [
    "pca_analysis(1,0)"
   ]
  },
  {
   "cell_type": "code",
   "execution_count": null,
   "metadata": {
    "slideshow": {
     "slide_type": "slide"
    }
   },
   "outputs": [],
   "source": [
    "pca_analysis(2,5)"
   ]
  },
  {
   "cell_type": "markdown",
   "metadata": {
    "slideshow": {
     "slide_type": "slide"
    }
   },
   "source": [
    "Gördüğünüz gibi, 0 ve 1 düz bir çizgi ile net bir şekilde ayrılabilir. Bu, orijinal 784 boyutlu uzayda rakamlara karşılık gelen noktaların da doğrusal olarak ayrılabilir olduğunu gösterir. 2 ve 5 durumunda, rakamları net bir şekilde ayıracak iyi bir izdüşüm bulamıyoruz ve bu nedenle bazı yanlış sınıflandırma durumları var.\n",
    "\n",
    "> Bu kursun ilerleyen bölümlerinde, Sinir Ağlarını kullanarak doğrusal olmayan sınıflandırıcıların nasıl oluşturulacağını ve rakamların düzgün şekilde hizalanmaması sorunuyla nasıl başa çıkılacağını öğreneceğiz. Çok yakında 10 farklı sınıfa ayırarak MNIST rakam sınıflandırmasında %99'un üzerinde doğruluğa ulaşacağız.\n",
    "\n",
    "## Ana Fikirler\n",
    " * En basit sinir ağı mimarisini öğrendik - tek katmanlı algılayıcı.\n",
    " * Gradyan inişine dayalı basit eğitim prosedürünü kullanarak algılayıcıyı \"elle\" uyguladık.\n",
    " * Basitliğine rağmen, tek katmanlı algılayıcı, el yazısı rakam tanımanın oldukça karmaşık problemlerini çözebilir.\n",
    " * Tek katmanlı algılayıcı bir doğrusal sınıflandırıcıdır ve bu nedenle lojistik bağlanım (regresyon) ile aynı sınıflandırma gücünü sağlar.\n",
    " * Örneklem uzayında, algılayıcı hiperdüzlem kullanarak iki sınıf girdi verisini ayırabilir."
   ]
  },
  {
   "cell_type": "markdown",
   "metadata": {},
   "source": [
    "## Katkıda Bulunanlar\n",
    "\n",
    "Bu defter, [Yeni Başlayanlar için Yapay Zeka Müfredatı](http://github.com/microsoft/ai-for-beginners)'nın bir parçasıdır ve [Dmitry Soshnikov](http://soshnikov.com) tarafından hazırlanmıştır. Microsoft Research Cambridge'deki Neural Network Workshop'tan ilham almıştır. Bazı kodlar ve açıklayıcı materyaller [Katja Hoffmann](https://www.microsoft.com/en-us/research/people/kahofman/)'ın, [Matthew Johnson](https://www.microsoft.com/en-us/research/people/matjoh/)'ın ve [Ryoto Tomioka](https://www.microsoft.com/en-us/research/people/ryoto/)'nın sunumlarından ve [NeuroWorkshop](http://github.com/shwars/NeuroWorkshop) deposundan alınmıştır."
   ]
  }
 ],
 "metadata": {
  "celltoolbar": "Slideshow",
  "kernelspec": {
   "display_name": "Python 3 (ipykernel)",
   "language": "python",
   "name": "python3"
  },
  "language_info": {
   "codemirror_mode": {
    "name": "ipython",
    "version": 3
   },
   "file_extension": ".py",
   "mimetype": "text/x-python",
   "name": "python",
   "nbconvert_exporter": "python",
   "pygments_lexer": "ipython3",
   "version": "3.10.6"
  },
  "livereveal": {
   "start_slideshow_at": "selected"
  },
  "vscode": {
   "interpreter": {
    "hash": "b0fa6594d8f4cbf19f97940f81e996739fb7646882a419484c72d19e05852a7e"
   }
  }
 },
 "nbformat": 4,
 "nbformat_minor": 4
}
