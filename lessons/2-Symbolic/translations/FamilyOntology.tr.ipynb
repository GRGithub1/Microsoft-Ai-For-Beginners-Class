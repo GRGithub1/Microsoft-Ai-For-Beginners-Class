{
 "cells": [
  {
   "cell_type": "markdown",
   "metadata": {},
   "source": [
    "# Aile İlişkileri Ontolojisi\n",
    "\n",
    "Bu örnek, [Yeni Başlayanlar için Yapay Zeka Müfredatı](http://github.com/microsoft/ai-for-beginners)'nın bir parçasıdır ve [bu blog gönderisinden](https://habr.com/posta/270857/) esinlenilmiştir.\n",
    "\n",
    "Bir ailedeki insanlar arasındaki farklı ilişkileri hatırlamakta her zaman zorlanırım. Bu örnekte, aile ilişkilerini ve gerçek soy ağacını tanımlayan bir ontoloji alacağız ve daha sonra tüm akrabaları bulmak için otomatik çıkarsamayı nasıl yapabileceğimizi göstereceğiz.\n",
    "\n",
    "### Soy Ağacını Almak\n",
    "\n",
    "Örnek olarak, [Romanov Çar Ailesinin](https://en.wikipedia.org/wiki/House_of_Romanov) soy ağacını alacağız. Aile ilişkilerini tanımlamanın en yaygın biçimi [GEDCOM](https://en.wikipedia.org/wiki/GEDCOM)'dur. Romanov soy ağacını GEDCOM formatında alacağız:"
   ]
  },
  {
   "cell_type": "code",
   "execution_count": null,
   "metadata": {},
   "outputs": [],
   "source": [
    "!head -15 ../data/tsars.ged"
   ]
  },
  {
   "cell_type": "markdown",
   "metadata": {},
   "source": [
    "GEDCOM dosyasını kullanmak için `python-gedcom` kütüphanesini kullanabiliriz:"
   ]
  },
  {
   "cell_type": "code",
   "execution_count": null,
   "metadata": {},
   "outputs": [],
   "source": [
    "import sys\n",
    "!{sys.executable} -m pip install python-gedcom"
   ]
  },
  {
   "cell_type": "markdown",
   "metadata": {},
   "source": [
    "Bu kütüphane, dosya ayrıştırmayla ilgili bazı teknik sorunları ortadan kaldırır, ancak yine de bize ağaçtaki tüm bireylere ve ailelere oldukça düşük düzeyde erişim sağlar. Dosyayı şu şekilde ayrıştırabilir ve tüm bireylerin listesini gösterebiliriz:"
   ]
  },
  {
   "cell_type": "code",
   "execution_count": null,
   "metadata": {},
   "outputs": [],
   "source": [
    "from gedcom.parser import Parser\n",
    "from gedcom.element.individual import IndividualElement\n",
    "from gedcom.element.family import FamilyElement\n",
    "g = Parser()\n",
    "g.parse_file('../data/tsars.ged')"
   ]
  },
  {
   "cell_type": "code",
   "execution_count": null,
   "metadata": {
    "scrolled": true
   },
   "outputs": [],
   "source": [
    "d = g.get_element_dictionary()\n",
    "[ (k,v.get_name()) for k,v in d.items() if isinstance(v,IndividualElement)]"
   ]
  },
  {
   "cell_type": "markdown",
   "metadata": {},
   "source": [
    "İşte aileler hakkında bilgiyi böyle edinebiliriz. Bunun bize bir **tanımlayıcı** listesi verdiğini ve daha fazla netlik istiyorsak bunları adlara dönüştürmemiz gerektiğini unutmayın:"
   ]
  },
  {
   "cell_type": "code",
   "execution_count": null,
   "metadata": {},
   "outputs": [],
   "source": [
    "d = g.get_element_dictionary()\n",
    "[ (k,[x.get_value() for x in v.get_child_elements()]) for k,v in d.items() if isinstance(v,FamilyElement)]"
   ]
  },
  {
   "cell_type": "markdown",
   "metadata": {},
   "source": [
    "### Aile Ontolojisini Alma\n",
    "\n",
    "Şimdi, Semantik Web üçlüleri kümesi olarak tanımlanan [aile ontolojisine](https://raw.githubusercontent.com/blokhin/genealogical-trees/master/data/header.ttl) bir göz atalım. Bu ontoloji, `isUncleOf` (Amcadır), `isCousinOf` (Kuzendir) ve diğerleri gibi ilişkileri tanımlar. Tüm bu ilişkiler `isMotherOf` (Annedir), `isFatherOf` (Babadır), `isBrotherOf` (Erkekkardeştir) ve `isSisterOf` (Kızkardeştir) temel yüklemleri cinsinden tanımlanır. Ontolojiyi kullanarak diğer tüm ilişkileri çıkarmak için otomatik akıl yürütmeyi kullanacağız.\n",
    "\n",
    "Burada, `isSisterOf` (Kızkardeştir) ve `isParentOf` (Ebeveyndir) (*Teyze/Hala kişinin ebeveyninin kız kardeşidir*) bileşimi olarak tanımlanan `isAuntOf` (Teyzedir) özelliğinin örnek bir tanımı verilmiştir.\n",
    "\n",
    "```\n",
    "fhkb:isAuntOf a owl:ObjectProperty ;\n",
    "    rdfs:domain fhkb:Woman ;\n",
    "    rdfs:range fhkb:Person ;\n",
    "    owl:propertyChainAxiom ( fhkb:isSisterOf fhkb:isParentOf ) .\n",
    "```"
   ]
  },
  {
   "cell_type": "code",
   "execution_count": null,
   "metadata": {},
   "outputs": [],
   "source": [
    "!head -20 ../data/onto.ttl"
   ]
  },
  {
   "cell_type": "markdown",
   "metadata": {},
   "source": [
    "### Çıkarsama için Ontoloji Oluşturma\n",
    "\n",
    "Basit olması için, aile ontolojisinden orijinal kuralları ve GEDCOM dosyamızdan bireyler hakkındaki gerçekleri içerecek bir ontoloji dosyası oluşturacağız. GEDCOM dosyasını inceleyeceğiz ve aileler ve bireyler hakkında bilgi çıkaracağız ve bunları üçlülere dönüştüreceğiz."
   ]
  },
  {
   "cell_type": "code",
   "execution_count": null,
   "metadata": {},
   "outputs": [],
   "source": [
    "!cp ../data/onto.ttl .\n",
    "\n",
    "gedcom_dict = g.get_element_dictionary()\n",
    "individuals, marriages = {}, {}\n",
    "\n",
    "def term2id(el):\n",
    "    return \"i\" + el.get_pointer().replace('@', '').lower()\n",
    "\n",
    "out = open(\"onto.ttl\",\"a\")\n",
    "\n",
    "for k, v in gedcom_dict.items():\n",
    "    if isinstance(v,IndividualElement):\n",
    "        children, siblings = set(), set()\n",
    "        idx = term2id(v)\n",
    "\n",
    "        title = v.get_name()[0] + \" \" + v.get_name()[1]\n",
    "        title = title.replace('\"', '').replace('[', '').replace(']', '').replace('(', '').replace(')', '').strip()\n",
    "\n",
    "        own_families = g.get_families(v, 'FAMS')\n",
    "        for fam in own_families:\n",
    "            children |= set(term2id(i) for i in g.get_family_members(fam, \"CHIL\"))\n",
    "\n",
    "        parent_families = g.get_families(v, 'FAMC')\n",
    "        if len(parent_families):\n",
    "            for member in g.get_family_members(parent_families[0], \"CHIL\"): # NB adoptive families i.e len(parent_families)>1 are not considered (TODO?)\n",
    "                if member.get_pointer() == v.get_pointer():\n",
    "                    continue\n",
    "                siblings.add(term2id(member))\n",
    "\n",
    "        if idx in individuals:\n",
    "            children |= individuals[idx].get('children', set())\n",
    "            siblings |= individuals[idx].get('siblings', set())\n",
    "        individuals[idx] = {'sex': v.get_gender().lower(), 'children': children, 'siblings': siblings, 'title': title}\n",
    "\n",
    "    elif isinstance(v,FamilyElement):\n",
    "        wife, husb, children = None, None, set()\n",
    "        children = set(term2id(i) for i in g.get_family_members(v, \"CHIL\"))\n",
    "\n",
    "        try:\n",
    "            wife = g.get_family_members(v, \"WIFE\")[0]\n",
    "            wife = term2id(wife)\n",
    "            if wife in individuals: individuals[wife]['children'] |= children\n",
    "            else: individuals[wife] = {'children': children}\n",
    "        except IndexError: pass\n",
    "        try:\n",
    "            husb = g.get_family_members(v, \"HUSB\")[0]\n",
    "            husb = term2id(husb)\n",
    "            if husb in individuals: individuals[husb]['children'] |= children\n",
    "            else: individuals[husb] = {'children': children}\n",
    "        except IndexError: pass\n",
    "\n",
    "        if wife and husb: marriages[wife + husb] = (term2id(v), wife, husb)\n",
    "\n",
    "for idx, val in individuals.items():\n",
    "    added_terms = ''\n",
    "    if val['sex'] == 'f':\n",
    "        parent_predicate, sibl_predicate = \"isMotherOf\", \"isSisterOf\"\n",
    "    else:\n",
    "        parent_predicate, sibl_predicate = \"isFatherOf\", \"isBrotherOf\"\n",
    "    if len(val['children']):\n",
    "        added_terms += \" ;\\n    fhkb:\" + parent_predicate + \" \" + \", \".join([\"fhkb:\" + i for i in val['children']])\n",
    "    if len(val['siblings']):\n",
    "        added_terms += \" ;\\n    fhkb:\" + sibl_predicate + \" \" + \", \".join([\"fhkb:\" + i for i in val['siblings']])\n",
    "    out.write(\"fhkb:%s a owl:NamedIndividual, owl:Thing%s ;\\n    rdfs:label \\\"%s\\\" .\\n\" % (idx, added_terms, val['title']))\n",
    "\n",
    "for k, v in marriages.items():\n",
    "    out.write(\"fhkb:%s a owl:NamedIndividual, owl:Thing ;\\n    fhkb:hasFemalePartner fhkb:%s ;\\n    fhkb:hasMalePartner fhkb:%s .\\n\" % v)\n",
    "\n",
    "out.write(\"[] a owl:AllDifferent ;\\n    owl:distinctMembers (\")\n",
    "for idx in individuals.keys():\n",
    "    out.write(\"    fhkb:\" + idx)\n",
    "for k, v in marriages.items():\n",
    "    out.write(\"    fhkb:\" + v[0])\n",
    "out.write(\"    ) .\")\n",
    "out.close()"
   ]
  },
  {
   "cell_type": "code",
   "execution_count": null,
   "metadata": {},
   "outputs": [],
   "source": [
    "!tail onto.ttl"
   ]
  },
  {
   "cell_type": "markdown",
   "metadata": {},
   "source": [
    "### Çıkarım Yapmak \n",
    "\n",
    "Şimdi bu ontolojiyi çıkarsama ve sorgulama için kullanabilmek istiyoruz. [RDFLib](https://github.com/RDFLib), RDF Çizgesinin farklı formatlarda okunması, sorgulanması vb. için kütüphane kullanacağız.\n",
    "\n",
    "Mantıksal çıkarım için, RDF Çizgesinin **Kapanışını** oluşturmamıza, yani tüm olası kavramları ve ilişkileri ekleyip çıkarsamamıza, yardımcı olan [OWL-RL](https://github.com/RDFLib/OWL-RL) kütüphanesini kullanacağız."
   ]
  },
  {
   "cell_type": "markdown",
   "metadata": {},
   "source": [
    "Ontoloji dosyasını açalım ve kaç tane üçlü içerdiğini görelim:"
   ]
  },
  {
   "cell_type": "code",
   "execution_count": null,
   "metadata": {},
   "outputs": [],
   "source": [
    "import rdflib\n",
    "from owlrl import DeductiveClosure, OWLRL_Extension\n",
    "\n",
    "g = rdflib.Graph()\n",
    "g.parse(\"onto.ttl\", format=\"turtle\")\n",
    "\n",
    "print(\"Bununla ucluler:%d\" % len(g))"
   ]
  },
  {
   "cell_type": "markdown",
   "metadata": {},
   "source": [
    "Şimdi kapanışı oluşturalım ve üçlülerin sayısının nasıl arttığını görelim:"
   ]
  },
  {
   "cell_type": "code",
   "execution_count": null,
   "metadata": {},
   "outputs": [],
   "source": [
    "DeductiveClosure(OWLRL_Extension).expand(g)\n",
    "print(\"Cikarsama sonrasi ucluler:%d\" % len(g))"
   ]
  },
  {
   "cell_type": "markdown",
   "metadata": {},
   "source": [
    "### Akrabaları Sorgulama\n",
    "\n",
    "Artık insanlar arasındaki farklı ilişkileri görmek için çizgeyi sorgulayabiliriz. **SPARQL** dilini `query` metodu ile birlikte kullanabiliriz. Bizim durumumuzda, soy ağacımızdaki tüm **amcaları** görelim:"
   ]
  },
  {
   "cell_type": "code",
   "execution_count": null,
   "metadata": {},
   "outputs": [],
   "source": [
    "qres = g.query(\n",
    "    \"\"\"SELECT DISTINCT ?aname ?bname\n",
    "       WHERE {\n",
    "          ?a fhkb:isUncleOf ?b .\n",
    "          ?a rdfs:label ?aname .\n",
    "          ?b rdfs:label ?bname .\n",
    "       }\"\"\")\n",
    "\n",
    "for row in qres:\n",
    "    print(\"%s amcasidir %s\" % row)"
   ]
  },
  {
   "cell_type": "markdown",
   "metadata": {},
   "source": [
    "Farklı diğer aile ilişkilerini denemekten çekinmeyin. Örneğin, belirli bir kişinin tüm atalarını yinelemeli tanımlayan `isAncestorOf` (Atadır) ilişkisine bakabilirsiniz.\n",
    "\n",
    "Son olarak, etrafı temizleyelim!"
   ]
  },
  {
   "cell_type": "code",
   "execution_count": null,
   "metadata": {},
   "outputs": [],
   "source": [
    "!rm onto.ttl"
   ]
  }
 ],
 "metadata": {
  "kernelspec": {
   "display_name": "Python 3 (ipykernel)",
   "language": "python",
   "name": "python3"
  },
  "language_info": {
   "codemirror_mode": {
    "name": "ipython",
    "version": 3
   },
   "file_extension": ".py",
   "mimetype": "text/x-python",
   "name": "python",
   "nbconvert_exporter": "python",
   "pygments_lexer": "ipython3",
   "version": "3.8.12"
  },
  "vscode": {
   "interpreter": {
    "hash": "b0fa6594d8f4cbf19f97940f81e996739fb7646882a419484c72d19e05852a7e"
   }
  }
 },
 "nbformat": 4,
 "nbformat_minor": 4
}
