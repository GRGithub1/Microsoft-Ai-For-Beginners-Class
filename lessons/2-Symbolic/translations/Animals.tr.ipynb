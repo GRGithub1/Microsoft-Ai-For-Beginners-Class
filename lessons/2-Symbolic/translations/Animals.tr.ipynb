{
 "cells": [
  {
   "cell_type": "markdown",
   "metadata": {},
   "source": [
    "# Bir Hayvan Uzman Sisteminin Uygulanması\n",
    "\n",
    "[Yeni Başlayanlar için YZ Müfredatı](http://github.com/microsoft/ai-for-beginners)'ndan bir örnek.\n",
    "\n",
    "Bu örnekte, bazı fiziksel özelliklere dayalı olarak bir hayvanı belirlemek için basit bir bilgiye dayalı sistemi uygulayacağız. Sistem aşağıdaki VE-VEYA ağacı ile temsil edilebilir (bu, tüm ağacın bir parçasıdır, kolayca daha fazla kural ekleyebiliriz):\n",
    "\n",
    "![](../images/AND-OR-Tree.png)"
   ]
  },
  {
   "cell_type": "markdown",
   "metadata": {},
   "source": [
    "## Geriye dönük çıkarsamalı kendi uzman sistemlerimizin kabuğu\n",
    "\n",
    "Üretme kurallarına dayalı bilgi temsili için basit bir dil tanımlamaya çalışalım. Kuralları tanımlamada anahtar kelimeler olarak Python sınıflarını kullanacağız. Temel olarak 3 tür sınıf olacaktır:\n",
    "* `Sor`, kullanıcıya sorulması gereken bir soruyu temsil eder. Olası cevaplar kümesini içerir.\n",
    "* `If` represents a rule, and it is just a syntactic sugar to store the content of the rule\n",
    "* `Eger` bir kuralı temsil eder ve sadece kuralın içeriğini saklamak için sözdizimsel bir bileşendir.\n",
    "* `VE`/`VEYA`, ağacın VE/VEYA dallarını temsil eden sınıflardır. Sadece argümanların listesini içeride saklarlar. Kodu basitleştirmek için, tüm işlevler `Icerik` üst sınıfında tanımlanmıştır."
   ]
  },
  {
   "cell_type": "code",
   "execution_count": null,
   "metadata": {},
   "outputs": [],
   "source": [
    "class Sor():\n",
    "    def __init__(self,tercihler=['e','h']):\n",
    "        self.tercihler = tercihler\n",
    "    def sor(self):\n",
    "        if max([len(x) for x in self.tercihler])>1:\n",
    "            for i,x in enumerate(self.tercihler):\n",
    "                print(\"{0}. {1}\".format(i,x),flush=True)\n",
    "            x = int(input())\n",
    "            return self.tercihler[x]\n",
    "        else:\n",
    "            print(\"/\".join(self.tercihler),flush=True)\n",
    "            return input()\n",
    "\n",
    "class Icerik():\n",
    "    def __init__(self,x):\n",
    "        self.x=x\n",
    "        \n",
    "class Eger(Icerik):\n",
    "    pass\n",
    "\n",
    "class VE(Icerik):\n",
    "    pass\n",
    "\n",
    "class VEYA(Icerik):\n",
    "    pass"
   ]
  },
  {
   "cell_type": "markdown",
   "metadata": {},
   "source": [
    "Sistemimizde, çalışan bellek, **nitelik-değer çiftleri** olarak **olguların (gerçeklerin)** listesini içerir. Bilgi tabanı, eylemleri (çalışan belleğe eklenmesi gereken yeni gerçekleri) VE-VEYA ifadeleri olarak ifade edilen koşullara eşleyen büyük bir sözlük olarak tanımlanabilir. Ayrıca, bazı gerçekler `Sor`-ulabilir."
   ]
  },
  {
   "cell_type": "code",
   "execution_count": null,
   "metadata": {},
   "outputs": [],
   "source": [
    "kurallar = {\n",
    "    'varsayilan': Sor(['e','h']),\n",
    "    'renk' : Sor(['kirmizi-kahverengi','siyah ve beyaz','diger']),\n",
    "    'desen' : Sor(['koyu seritler','koyu benekler']),\n",
    "    'memeli': Eger(VEYA(['killi','sut verir'])),\n",
    "    'etcil': Eger(VEYA([VE(['sivri disler','penceler','ileriye bakan gozler']),'et yer'])),\n",
    "    'toynakli': Eger(['memeli',VEYA(['toynaklari var','gevis getirir'])]),\n",
    "    'kus': Eger(VEYA(['tuylu',VE(['ucar','yumurta verir'])])),\n",
    "    'hayvan:maymun' : Eger(['memeli','etcil','renk:kirmizi-kahverengi','desen:koyu benekler']),\n",
    "    'hayvan:kaplan' : Eger(['memeli','etcil','renk:kirmizi-kahverengi','desen:koyu seritler']),\n",
    "    'hayvan:zurafa' : Eger(['toynakli','uzun boyun','uzun bacaklar','desen:koyu benekler']),\n",
    "    'hayvan:zebra' : Eger(['toynakli','desen:koyu seritler']),\n",
    "    'hayvan:devekusu' : Eger(['kus','uzun boyun','renk:siyah ve beyaz','ucamaz']),\n",
    "    'hayvan:penguen' : Eger(['kus','yuzer','renk:siyah ve beyaz','ucamaz']),\n",
    "    'hayvan:albatros' : Eger(['kus','iyi ucar'])\n",
    "}"
   ]
  },
  {
   "cell_type": "markdown",
   "metadata": {},
   "source": [
    "Geriye dönük çıkarsama gerçekleştirmek için `BilgiTabani` sınıfını tanımlayacağız. Şunları içerecektir:\n",
    "* Çalışan `bellek` - nitelikleri değerlerle eşleştiren bir sözlük\n",
    "* Yukarıda tanımlanan biçimde `kurallar` bilgi tabanı\n",
    "\n",
    "İki ana yöntem şunlardır:\n",
    "* Bir niteliğin değerini elde etmek için `getir`, gerekirse çıkarım yapar. Örneğin, `getir('renk')` bir renk yuvasının değerini alır (gerekirse sorar ve değeri daha sonra kullanmak üzere çalışan bellekte saklar). `getir('renk:mavi')` diye sorarsak, bir renk isteyecek ve ardından renge bağlı olarak `e`/`h` değerini döndürecektir.\n",
    "* `degerlendir` gerçek çıkarsamayı gerçekleştirir, yani VE/VEYA ağacında ilerler, alt hedefleri değerlendirir, vb."
   ]
  },
  {
   "cell_type": "code",
   "execution_count": null,
   "metadata": {},
   "outputs": [],
   "source": [
    "class BilgiTabani():\n",
    "    def __init__(self,kurallar):\n",
    "        self.kurallar = kurallar\n",
    "        self.bellek = {}\n",
    "        \n",
    "    def getir(self,name):\n",
    "        if ':' in name:\n",
    "            k,v = name.split(':')\n",
    "            vv = self.getir(k)\n",
    "            return 'e' if v==vv else 'h'\n",
    "        if name in self.bellek.keys():\n",
    "            return self.bellek[name]\n",
    "        for fld in self.kurallar.keys():\n",
    "            if fld==name or fld.startswith(name+\":\"):\n",
    "                # print(\" + proving {}\".format(fld))\n",
    "                value = 'e' if fld==name else fld.split(':')[1]\n",
    "                res = self.degerlendir(self.kurallar[fld],field=name)\n",
    "                if res!='e' and res!='h' and value=='e':\n",
    "                    self.bellek[name] = res\n",
    "                    return res\n",
    "                if res=='e':\n",
    "                    self.bellek[name] = value\n",
    "                    return value\n",
    "        # field is not found, using default\n",
    "        res = self.degerlendir(self.kurallar['varsayilan'],field=name)\n",
    "        self.bellek[name]=res\n",
    "        return res\n",
    "                \n",
    "    def degerlendir(self,expr,field=None):\n",
    "        # print(\" + eval {}\".format(expr))\n",
    "        if isinstance(expr,Sor):\n",
    "            print(field)\n",
    "            return expr.sor()\n",
    "        elif isinstance(expr,Eger):\n",
    "            return self.degerlendir(expr.x)\n",
    "        elif isinstance(expr,VE) or isinstance(expr,list):\n",
    "            expr = expr.x if isinstance(expr,VE) else expr\n",
    "            for x in expr:\n",
    "                if self.degerlendir(x)=='h':\n",
    "                    return 'h'\n",
    "            return 'e'\n",
    "        elif isinstance(expr,VEYA):\n",
    "            for x in expr.x:\n",
    "                if self.degerlendir(x)=='e':\n",
    "                    return 'e'\n",
    "            return 'h'\n",
    "        elif isinstance(expr,str):\n",
    "            return self.getir(expr)\n",
    "        else:\n",
    "            print(\"Bilinmeyen ifade: {}\".format(expr))"
   ]
  },
  {
   "cell_type": "markdown",
   "metadata": {},
   "source": [
    "Şimdi hayvan bilgi tabanımızı tanımlayalım ve incelemeyi gerçekleştirelim. Bu aramanın size sorular soracağını unutmayın. Evet-hayır soruları için `e`/`h` yazarak veya daha uzun çoktan seçmeli cevaplar için sayı (0..N) belirterek cevap verebilirsiniz."
   ]
  },
  {
   "cell_type": "code",
   "execution_count": null,
   "metadata": {},
   "outputs": [],
   "source": [
    "kb = BilgiTabani(kurallar)\n",
    "kb.getir('hayvan')"
   ]
  },
  {
   "cell_type": "markdown",
   "metadata": {},
   "source": [
    "## İleri Çıkarsama için PyKnow'u Kullanma\n",
    "\n",
    "Sonraki örnekte, bilgi temsili kütüphanelerinden biri olan [PyKnow](https://github.com/buguroo/pyknow/) kullanarak ileriye çıkarsama uygulamaya çalışacağız. **PyKnow**, klasik eski \n",
    "[CLIPS](http://www.clipsrules.net/index.html) sistemine benzer şekilde tasarlanmış, Python'da ileriye çıkarsama sistemleri oluşturmaya yönelik bir kütüphanedir.\n",
    "\n",
    "Kendimiz ileriye zincirlemeyi pek sorun yaşamadan da uygulayabilirdik, ancak saf uygulamalar genellikle çok verimli değildir. Daha etkili kural eşleştirmesi için özel bir algoritma olan [Rete](https://en.wikipedia.org/wiki/Rete_algorithm) kullanılır."
   ]
  },
  {
   "cell_type": "code",
   "execution_count": null,
   "metadata": {},
   "outputs": [],
   "source": [
    "import sys\n",
    "!{sys.executable} -m pip install git+https://github.com/buguroo/pyknow/"
   ]
  },
  {
   "cell_type": "code",
   "execution_count": null,
   "metadata": {},
   "outputs": [],
   "source": [
    "from pyknow import *"
   ]
  },
  {
   "cell_type": "markdown",
   "metadata": {},
   "source": [
    "Sistemimizi `KnowledgeEngine` (BilgiMotoru) altsınıfları olan bir sınıf olarak tanımlayacağız. Her kural, kuralın ne zaman tetikleneceğini belirten `@Rule` (Kural) ek açıklamalı ayrı bir işlevle tanımlanır. Kuralın içinde, `declare` (bildirme) işlevini kullanarak yeni gerçekler ekleyebiliriz ve bu gerçekleri eklemek, ileri çıkarsama motoru tarafından daha fazla kuralın çağrılmasıyla sonuçlanacaktır."
   ]
  },
  {
   "cell_type": "code",
   "execution_count": null,
   "metadata": {},
   "outputs": [],
   "source": [
    "class Hayvanlar(KnowledgeEngine):\n",
    "    @Rule(OR(\n",
    "           AND(Fact('sivri disler'),Fact('penceler'),Fact('ileriye bakan gozler')),\n",
    "           Fact('et yer')))\n",
    "    def etcil(self):\n",
    "        self.declare(Fact('etcil'))\n",
    "        \n",
    "    @Rule(OR(Fact('killi'),Fact('sut verir')))\n",
    "    def memeli(self):\n",
    "        self.declare(Fact('memeli'))\n",
    "\n",
    "    @Rule(Fact('memeli'),\n",
    "          OR(Fact('toynaklari var'),Fact('gevis getirir')))\n",
    "    def toynaklar(self):\n",
    "        self.declare('toynakli')\n",
    "        \n",
    "    @Rule(OR(Fact('tuylu'),AND(Fact('ucar'),Fact('yumurta verir'))))\n",
    "    def kus(self):\n",
    "        self.declare('kus')\n",
    "        \n",
    "    @Rule(Fact('memeli'),Fact('etcil'),\n",
    "          Fact(renk='kirmizi-kahverengi'),\n",
    "          Fact(desen='koyu benekler'))\n",
    "    def maymun(self):\n",
    "        self.declare(Fact(hayvan='maymun'))\n",
    "\n",
    "    @Rule(Fact('memeli'),Fact('etcil'),\n",
    "          Fact(renk='kirmizi-kahverengi'),\n",
    "          Fact(desen='koyu seritler'))\n",
    "    def kaplan(self):\n",
    "        self.declare(Fact(hayvan='kaplan'))\n",
    "\n",
    "    @Rule(Fact('toynakli'),\n",
    "          Fact('uzun boyun'),\n",
    "          Fact('uzun bacaklar'),\n",
    "          Fact(desen='koyu benekler'))\n",
    "    def zurafa(self):\n",
    "        self.declare(Fact(hayvan='zurafa'))\n",
    "\n",
    "    @Rule(Fact('toynakli'),\n",
    "          Fact(desen='koyu seritler'))\n",
    "    def zebra(self):\n",
    "        self.declare(Fact(hayvan='zebra'))\n",
    "\n",
    "    @Rule(Fact('kus'),\n",
    "          Fact('uzun boyun'),\n",
    "          Fact('ucamaz'),\n",
    "          Fact(renk='siyah ve beyaz'))\n",
    "    def devekusu(self):\n",
    "        self.declare(Fact(hayvan='devekusu'))\n",
    "\n",
    "    @Rule(Fact('kus'),\n",
    "          Fact('yuzer'),\n",
    "          Fact('ucamaz'),\n",
    "          Fact(renk='siyah ve beyaz'))\n",
    "    def penguen(self):\n",
    "        self.declare(Fact(hayvan='penguen'))\n",
    "\n",
    "    @Rule(Fact('kus'),\n",
    "          Fact('iyi ucar'))\n",
    "    def albatros(self):\n",
    "        self.declare(Fact(hayvan='albatros'))\n",
    "        \n",
    "    @Rule(Fact(hayvan=MATCH.a))\n",
    "    def print_result(self,a):\n",
    "          print('Hayvan {}'.format(a))\n",
    "                    \n",
    "    def factz(self,l):\n",
    "        for x in l:\n",
    "            self.declare(x)"
   ]
  },
  {
   "cell_type": "markdown",
   "metadata": {},
   "source": [
    "Bir bilgi tabanı tanımladıktan sonra, çalışan belleğimizi bazı ilk gerçeklerle doldururuz ve ardından çıkarsama gerçekleştirmek için `run()` yöntemini çağırırız. Sonuç olarak, hayvanla ilgili son gerçek de dahil olmak üzere (başlangıçtaki tüm gerçekleri doğru bir şekilde kurarsak) çalışan belleğe yeni çıkarsanan gerçeklerin eklendiğini görebilirsiniz."
   ]
  },
  {
   "cell_type": "code",
   "execution_count": null,
   "metadata": {},
   "outputs": [],
   "source": [
    "ex1 = Hayvanlar()\n",
    "ex1.reset()\n",
    "ex1.factz([\n",
    "    Fact(renk='kirmizi-kahverengi'),\n",
    "    Fact(desen='koyu seritler'),\n",
    "    Fact('sivri disler'),\n",
    "    Fact('penceler'),\n",
    "    Fact('ileriye bakan gozler'),\n",
    "    Fact('sut verir')])\n",
    "ex1.run()\n",
    "ex1.facts"
   ]
  }
 ],
 "metadata": {
  "kernelspec": {
   "display_name": "Python 3 (ipykernel)",
   "language": "python",
   "name": "python3"
  },
  "language_info": {
   "codemirror_mode": {
    "name": "ipython",
    "version": 3
   },
   "file_extension": ".py",
   "mimetype": "text/x-python",
   "name": "python",
   "nbconvert_exporter": "python",
   "pygments_lexer": "ipython3",
   "version": "3.8.13"
  },
  "vscode": {
   "interpreter": {
    "hash": "7e1998ff7f8aa20ada591c520b972326324e5ea05489af9e422744c7c09f6dad"
   }
  }
 },
 "nbformat": 4,
 "nbformat_minor": 4
}
